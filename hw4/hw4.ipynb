{
 "cells": [
  {
   "cell_type": "code",
   "execution_count": null,
   "id": "82ef4977",
   "metadata": {},
   "outputs": [
    {
     "name": "stdout",
     "output_type": "stream",
     "text": [
      "Database 'esi_rankings.db' and table 'esi_rankings' are ready.\n",
      "--------------------------------------------------\n",
      "Processing: PSYCHIATRY PSYCHOLOGY.csv | Field: PSYCHIATRY/PSYCHOLOGY | Encoding: latin-1\n",
      "INFO: Removed 1 empty/invalid rows.\n",
      "SUCCESS: Imported 1147 records for 'PSYCHIATRY/PSYCHOLOGY'.\n",
      "--------------------------------------------------\n",
      "Processing: IMMUNOLOGY.csv | Field: IMMUNOLOGY | Encoding: latin-1\n",
      "INFO: Removed 1 empty/invalid rows.\n",
      "SUCCESS: Imported 1177 records for 'IMMUNOLOGY'.\n",
      "--------------------------------------------------\n",
      "Processing: ENGINEERING.csv | Field: ENGINEERING | Encoding: latin-1\n",
      "INFO: Removed 1 empty/invalid rows.\n",
      "SUCCESS: Imported 2787 records for 'ENGINEERING'.\n",
      "--------------------------------------------------\n",
      "Processing: GEOSCIENCES.csv | Field: GEOSCIENCES | Encoding: latin-1\n",
      "INFO: Removed 1 empty/invalid rows.\n",
      "SUCCESS: Imported 1175 records for 'GEOSCIENCES'.\n",
      "--------------------------------------------------\n",
      "Processing: MATERIALS SCIENCE.csv | Field: MATERIALS SCIENCE | Encoding: latin-1\n",
      "INFO: Removed 1 empty/invalid rows.\n",
      "SUCCESS: Imported 1580 records for 'MATERIALS SCIENCE'.\n",
      "--------------------------------------------------\n",
      "Processing: MICROBIOLOGY.csv | Field: MICROBIOLOGY | Encoding: latin-1\n",
      "INFO: Removed 1 empty/invalid rows.\n",
      "SUCCESS: Imported 803 records for 'MICROBIOLOGY'.\n",
      "--------------------------------------------------\n",
      "Processing: ENVIRONMENT ECOLOGY.csv | Field: ENVIRONMENT/ECOLOGY | Encoding: latin-1\n",
      "INFO: Removed 1 empty/invalid rows.\n",
      "SUCCESS: Imported 2066 records for 'ENVIRONMENT/ECOLOGY'.\n",
      "--------------------------------------------------\n",
      "Processing: ECONOMICS & BUSINESS.csv | Field: ECONOMICS & BUSINESS | Encoding: latin-1\n",
      "INFO: Removed 1 empty/invalid rows.\n",
      "SUCCESS: Imported 543 records for 'ECONOMICS & BUSINESS'.\n",
      "--------------------------------------------------\n",
      "Processing: CLINICAL MEDICINE.csv | Field: CLINICAL MEDICINE | Encoding: latin-1\n",
      "INFO: Removed 1 empty/invalid rows.\n",
      "SUCCESS: Imported 6754 records for 'CLINICAL MEDICINE'.\n",
      "--------------------------------------------------\n",
      "Processing: MULTIDISCIPLINARY.csv | Field: MULTIDISCIPLINARY | Encoding: latin-1\n",
      "INFO: Removed 1 empty/invalid rows.\n",
      "SUCCESS: Imported 216 records for 'MULTIDISCIPLINARY'.\n",
      "--------------------------------------------------\n",
      "Processing: MOLECULAR BIOLOGY & GENETICS.csv | Field: MOLECULAR BIOLOGY & GENETICS | Encoding: latin-1\n",
      "INFO: Removed 1 empty/invalid rows.\n",
      "SUCCESS: Imported 1169 records for 'MOLECULAR BIOLOGY & GENETICS'.\n",
      "--------------------------------------------------\n",
      "Processing: SPACE SCIENCE.csv | Field: SPACE SCIENCE | Encoding: latin-1\n",
      "INFO: Removed 1 empty/invalid rows.\n",
      "SUCCESS: Imported 236 records for 'SPACE SCIENCE'.\n",
      "--------------------------------------------------\n",
      "Processing: CHEMISTRY.csv | Field: CHEMISTRY | Encoding: latin-1\n",
      "INFO: Removed 1 empty/invalid rows.\n",
      "SUCCESS: Imported 2141 records for 'CHEMISTRY'.\n",
      "--------------------------------------------------\n",
      "Processing: COMPUTER SCIENCE.csv | Field: COMPUTER SCIENCE | Encoding: latin-1\n",
      "INFO: Removed 1 empty/invalid rows.\n",
      "SUCCESS: Imported 863 records for 'COMPUTER SCIENCE'.\n",
      "--------------------------------------------------\n",
      "Processing: MATHEMATICS.csv | Field: MATHEMATICS | Encoding: latin-1\n",
      "INFO: Removed 1 empty/invalid rows.\n",
      "SUCCESS: Imported 395 records for 'MATHEMATICS'.\n",
      "--------------------------------------------------\n",
      "Processing: PLANT & ANIMAL SCIENCE.csv | Field: PLANT & ANIMAL SCIENCE | Encoding: latin-1\n",
      "INFO: Removed 1 empty/invalid rows.\n",
      "SUCCESS: Imported 1950 records for 'PLANT & ANIMAL SCIENCE'.\n",
      "--------------------------------------------------\n",
      "Processing: PHYSICS.csv | Field: PHYSICS | Encoding: latin-1\n",
      "INFO: Removed 1 empty/invalid rows.\n",
      "SUCCESS: Imported 995 records for 'PHYSICS'.\n",
      "--------------------------------------------------\n",
      "Processing: AGRICULTURAL SCIENCES.csv | Field: AGRICULTURAL SCIENCES | Encoding: latin-1\n",
      "INFO: Removed 1 empty/invalid rows.\n",
      "SUCCESS: Imported 1381 records for 'AGRICULTURAL SCIENCES'.\n",
      "--------------------------------------------------\n",
      "Processing: NEUROSCIENCE & BEHAVIOR.csv | Field: NEUROSCIENCE & BEHAVIOR | Encoding: latin-1\n",
      "INFO: Removed 1 empty/invalid rows.\n",
      "SUCCESS: Imported 1298 records for 'NEUROSCIENCE & BEHAVIOR'.\n",
      "--------------------------------------------------\n",
      "Processing: BIOLOGY & BIOCHEMISTRY.csv | Field: BIOLOGY & BIOCHEMISTRY | Encoding: latin-1\n",
      "INFO: Removed 1 empty/invalid rows.\n",
      "SUCCESS: Imported 1649 records for 'BIOLOGY & BIOCHEMISTRY'.\n",
      "--------------------------------------------------\n",
      "Processing: SOCIAL SCIENCES, GENERAL.csv | Field: SOCIAL SCIENCES, GENERAL | Encoding: latin-1\n",
      "INFO: Removed 1 empty/invalid rows.\n",
      "SUCCESS: Imported 2407 records for 'SOCIAL SCIENCES, GENERAL'.\n",
      "--------------------------------------------------\n",
      "Processing: PHARMACOLOGY & TOXICOLOGY.csv | Field: PHARMACOLOGY & TOXICOLOGY | Encoding: latin-1\n",
      "INFO: Removed 1 empty/invalid rows.\n",
      "SUCCESS: Imported 1389 records for 'PHARMACOLOGY & TOXICOLOGY'.\n",
      "--------------------------------------------------\n",
      "All CSV files have been processed. The database is now complete.\n"
     ]
    }
   ],
   "source": [
    "import sqlite3\n",
    "import pandas as pd\n",
    "import os\n",
    "import glob\n",
    "\n",
    "# --- 1. Configuration ---\n",
    "csv_folder_path = r'./data' \n",
    "db_path = r'./esi_rankings.db'\n",
    "\n",
    "# --- 2. Setup Database ---\n",
    "conn = sqlite3.connect(db_path)\n",
    "cursor = conn.cursor()\n",
    "create_table_sql = \"\"\"\n",
    "CREATE TABLE IF NOT EXISTS esi_rankings (\n",
    "    id INTEGER PRIMARY KEY AUTOINCREMENT,\n",
    "    research_field TEXT NOT NULL,\n",
    "    rank INTEGER,\n",
    "    institution TEXT NOT NULL,\n",
    "    country_region TEXT,\n",
    "    documents INTEGER,\n",
    "    cites INTEGER,\n",
    "    cites_per_paper REAL,\n",
    "    top_papers INTEGER\n",
    ");\n",
    "\"\"\"\n",
    "cursor.execute(create_table_sql)\n",
    "print(f\"Database '{os.path.basename(db_path)}' and table 'esi_rankings' are ready.\")\n",
    "\n",
    "# --- 3. Process and Import CSV Files ---\n",
    "csv_files = glob.glob(os.path.join(csv_folder_path, '*.csv'))\n",
    "\n",
    "if not csv_files:\n",
    "    print(f\"WARNING: No CSV files found in '{csv_folder_path}'. Please check the path.\")\n",
    "else:\n",
    "    for file_path in csv_files:\n",
    "        print(\"-\" * 50) \n",
    "        \n",
    "        file_encoding = 'latin-1'\n",
    "        with open(file_path, 'r', encoding=file_encoding) as f:\n",
    "                first_line = f.readline()\n",
    "        \n",
    "        try:\n",
    "            # Extract the research field from the first line's metadata\n",
    "            field_value = first_line.split(\"Filter Value(s):\")[1].split(\"Show:\")[0].strip()\n",
    "            print(f\"Processing: {os.path.basename(file_path)} | Field: {field_value} | Encoding: {file_encoding}\")\n",
    "\n",
    "            # Read the CSV data using the correct encoding, skipping the metadata line\n",
    "            df = pd.read_csv(file_path, header=1, encoding=file_encoding)\n",
    "\n",
    "            # Rename columns to match our database schema\n",
    "            df.rename(columns={\n",
    "                'Unnamed: 0': 'rank',\n",
    "                'Institutions': 'institution',\n",
    "                'Countries/Regions': 'country_region',\n",
    "                'Web of Science Documents': 'documents',\n",
    "                'Cites': 'cites',\n",
    "                'Cites/Paper': 'cites_per_paper',\n",
    "                'Top Papers': 'top_papers'\n",
    "            }, inplace=True)\n",
    "            \n",
    "            # --- THIS IS THE KEY FIX ---\n",
    "            # Remove any rows where the 'institution' column is empty.\n",
    "            # This will solve the \"NOT NULL constraint failed\" error.\n",
    "            initial_rows = len(df)\n",
    "            df.dropna(subset=['institution'], inplace=True)\n",
    "            final_rows = len(df)\n",
    "            \n",
    "            if initial_rows > final_rows:\n",
    "                print(f\"INFO: Removed {initial_rows - final_rows} empty/invalid rows.\")\n",
    "            # ---------------------------\n",
    "\n",
    "            # Add the research_field column to the DataFrame\n",
    "            df['research_field'] = field_value\n",
    "            \n",
    "            # Select and reorder columns to be safe\n",
    "            final_df = df[[\n",
    "                'research_field', 'rank', 'institution', 'country_region',\n",
    "                'documents', 'cites', 'cites_per_paper', 'top_papers'\n",
    "            ]]\n",
    "\n",
    "            # Append the cleaned data to the SQLite table\n",
    "            final_df.to_sql('esi_rankings', conn, if_exists='append', index=False)\n",
    "            print(f\"SUCCESS: Imported {len(final_df)} records for '{field_value}'.\")\n",
    "\n",
    "        except Exception as e:\n",
    "            print(f\"ERROR: Could not process file {os.path.basename(file_path)}. Reason: {e}\")\n",
    "\n",
    "# --- 4. Finalize ---\n",
    "conn.commit()\n",
    "conn.close()\n",
    "print(\"-\" * 50)\n",
    "print(\"All CSV files have been processed. The database is now complete.\")"
   ]
  },
  {
   "cell_type": "code",
   "execution_count": 47,
   "id": "634aa351",
   "metadata": {},
   "outputs": [
    {
     "name": "stdout",
     "output_type": "stream",
     "text": [
      "AGRICULTURAL SCIENCES         845                                               \n",
      "BIOLOGY & BIOCHEMISTRY        721                                               \n",
      "CHEMISTRY                     90                                                \n",
      "CLINICAL MEDICINE             2852                                              \n",
      "COMPUTER SCIENCE              207                                               \n",
      "ENGINEERING                   317                                               \n",
      "ENVIRONMENT/ECOLOGY           130                                               \n",
      "GEOSCIENCES                   275                                               \n",
      "MATERIALS SCIENCE             196                                               \n",
      "MATHEMATICS                   115                                               \n",
      "MOLECULAR BIOLOGY & GENETICS  867                                               \n",
      "NEUROSCIENCE & BEHAVIOR       853                                               \n",
      "PHARMACOLOGY & TOXICOLOGY     1064                                              \n",
      "PHYSICS                       522                                               \n",
      "PLANT & ANIMAL SCIENCE        395                                               \n",
      "PSYCHIATRY/PSYCHOLOGY         467                                               \n",
      "SOCIAL SCIENCES, GENERAL      314                                               \n"
     ]
    }
   ],
   "source": [
    "def get_rankings_by_institution(db_path, institution_name):\n",
    "    \"\"\"\n",
    "    Queries the database for the rankings of a specific institution.\n",
    "    This version correctly selects 3 columns to avoid unpacking errors.\n",
    "    \"\"\"\n",
    "    try:\n",
    "        with sqlite3.connect(db_path) as conn:\n",
    "            cursor = conn.cursor()\n",
    "            # This query now correctly selects 3 columns:\n",
    "            query = \"\"\"\n",
    "                SELECT research_field, rank, institution\n",
    "                FROM esi_rankings \n",
    "                WHERE institution LIKE ? \n",
    "                ORDER BY research_field;\n",
    "            \"\"\"\n",
    "            search_term = f'%{institution_name}%'\n",
    "            cursor.execute(query, (search_term,))\n",
    "            results = cursor.fetchall()\n",
    "            return results\n",
    "    except Exception as e:\n",
    "        print(f\"An error occurred while querying for {institution_name}: {e}\")\n",
    "        return []\n",
    "    \n",
    "ECNU = \"EAST CHINA NORMAL UNIV\"\n",
    "ecnu_ranking = get_rankings_by_institution(db_path, ECNU)\n",
    "\n",
    "for (fd, rk, _) in ecnu_ranking:\n",
    "    print(\"{:<30}{:<50}\".format(fd,rk))"
   ]
  },
  {
   "cell_type": "code",
   "execution_count": null,
   "id": "8d6564eb",
   "metadata": {},
   "outputs": [
    {
     "name": "stdout",
     "output_type": "stream",
     "text": [
      "--- Starting Data Collection ---\n",
      "Querying rankings for: EAST CHINA NORMAL UNIV...\n",
      "Querying rankings for: PEKING UNIV...\n",
      "Querying rankings for: TSINGHUA UNIV...\n",
      "Querying rankings for: FUDAN UNIV...\n",
      "Querying rankings for: SHANGHAI JIAO TONG UNIV...\n",
      "Querying rankings for: TONGJI UNIV...\n",
      "\n",
      "--- Data Collection Complete ---\n",
      "Sample of the collected data:\n",
      "              institution          research_field  rank\n",
      "0  EAST CHINA NORMAL UNIV   AGRICULTURAL SCIENCES   845\n",
      "1  EAST CHINA NORMAL UNIV  BIOLOGY & BIOCHEMISTRY   721\n",
      "2  EAST CHINA NORMAL UNIV               CHEMISTRY    90\n",
      "3  EAST CHINA NORMAL UNIV       CLINICAL MEDICINE  2852\n",
      "4  EAST CHINA NORMAL UNIV        COMPUTER SCIENCE   207\n",
      "\n",
      "--- Generating Visualization ---\n"
     ]
    },
    {
     "data": {
      "image/png": "[encoded data removed]",
      "text/plain": [
       "<Figure size 2000x1200 with 1 Axes>"
      ]
     },
     "metadata": {},
     "output_type": "display_data"
    }
   ],
   "source": [
    "import seaborn as sns\n",
    "import matplotlib.pyplot as plt\n",
    "\n",
    "universities_to_compare = [\n",
    "    \"EAST CHINA NORMAL UNIV\",\n",
    "    \"PEKING UNIV\",\n",
    "    \"TSINGHUA UNIV\",\n",
    "    \"FUDAN UNIV\",\n",
    "    \"SHANGHAI JIAO TONG UNIV\",\n",
    "    \"TONGJI UNIV\"\n",
    "]\n",
    "\n",
    "# 2. Collect Data\n",
    "all_rankings_data = []\n",
    "print(\"--- Starting Data Collection ---\")\n",
    "\n",
    "for university in universities_to_compare:\n",
    "    print(f\"Querying rankings for: {university}...\")\n",
    "    rankings = get_rankings_by_institution(db_path, university)\n",
    "    \n",
    "    # print(rankings)\n",
    "    \n",
    "    for field, rank, full_name in rankings:\n",
    "        all_rankings_data.append({\n",
    "            'institution': university,\n",
    "            'research_field': field, \n",
    "            'rank': rank\n",
    "        })\n",
    "\n",
    "if not all_rankings_data:\n",
    "    print(\"\\nNo data found. Please check university names and database path.\")\n",
    "else:\n",
    "    print(\"\\n--- Data Collection Complete ---\")\n",
    "    \n",
    "    df = pd.DataFrame(all_rankings_data)\n",
    "    print(\"Sample of the collected data:\")\n",
    "    print(df.head())\n",
    "\n",
    "    print(\"\\n--- Generating Visualization ---\")\n",
    "    \n",
    "    sns.set_theme(style=\"whitegrid\")\n",
    "    plt.figure(figsize=(20, 12))\n",
    "\n",
    "    barplot = sns.barplot(\n",
    "        data=df, \n",
    "        x='research_field', \n",
    "        y='rank', \n",
    "        hue='institution',\n",
    "        palette='viridis'\n",
    "    )\n",
    "\n",
    "    plt.title('ESI Global Subject Rankings Comparison', fontsize=20, weight='bold')\n",
    "    plt.xlabel('Research Field', fontsize=14)\n",
    "    plt.ylabel('Global Ranking (Lower is Better)', fontsize=14)\n",
    "    plt.xticks(rotation=45, ha='right', fontsize=12)\n",
    "    plt.yticks(fontsize=12)\n",
    "    plt.legend(title='University', fontsize=12)\n",
    "    plt.tight_layout()\n",
    "\n",
    "    plt.show()"
   ]
  },
  {
   "cell_type": "code",
   "execution_count": null,
   "id": "2910d800",
   "metadata": {},
   "outputs": [
    {
     "name": "stdout",
     "output_type": "stream",
     "text": [
      "--- Analysis 1: Number of Top 100 Mainland Chinese Universities by Subject ---\n",
      "                  research_field  number_of_top_100_institutions\n",
      "0              MATERIALS SCIENCE                              48\n",
      "1                    ENGINEERING                              46\n",
      "2                      CHEMISTRY                              46\n",
      "3               COMPUTER SCIENCE                              44\n",
      "4      PHARMACOLOGY & TOXICOLOGY                              29\n",
      "5                    MATHEMATICS                              24\n",
      "6                    GEOSCIENCES                              22\n",
      "7          AGRICULTURAL SCIENCES                              22\n",
      "8            ENVIRONMENT/ECOLOGY                              14\n",
      "9         PLANT & ANIMAL SCIENCE                              13\n",
      "10                  MICROBIOLOGY                              11\n",
      "11                       PHYSICS                              10\n",
      "12  MOLECULAR BIOLOGY & GENETICS                               9\n",
      "13          ECONOMICS & BUSINESS                               8\n",
      "14        BIOLOGY & BIOCHEMISTRY                               8\n",
      "15             MULTIDISCIPLINARY                               5\n",
      "16                    IMMUNOLOGY                               4\n",
      "17             CLINICAL MEDICINE                               3\n",
      "18                 SPACE SCIENCE                               2\n",
      "19       NEUROSCIENCE & BEHAVIOR                               2\n",
      "20      SOCIAL SCIENCES, GENERAL                               1\n",
      "\n",
      "================================================================================\n",
      "\n",
      "--- Analysis 2: Top-Ranked Mainland Chinese University in Each Subject ---\n",
      "                  research_field                    institution  rank\n",
      "0          AGRICULTURAL SCIENCES    CHINESE ACADEMY OF SCIENCES     1\n",
      "1         BIOLOGY & BIOCHEMISTRY    CHINESE ACADEMY OF SCIENCES     3\n",
      "2                      CHEMISTRY    CHINESE ACADEMY OF SCIENCES     1\n",
      "3              CLINICAL MEDICINE  SHANGHAI JIAO TONG UNIVERSITY    75\n",
      "4               COMPUTER SCIENCE    CHINESE ACADEMY OF SCIENCES     1\n",
      "5           ECONOMICS & BUSINESS              PEKING UNIVERSITY    44\n",
      "6                    ENGINEERING    CHINESE ACADEMY OF SCIENCES     1\n",
      "7            ENVIRONMENT/ECOLOGY    CHINESE ACADEMY OF SCIENCES     1\n",
      "8                    GEOSCIENCES    CHINESE ACADEMY OF SCIENCES     1\n",
      "9                     IMMUNOLOGY    CHINESE ACADEMY OF SCIENCES    36\n",
      "10             MATERIALS SCIENCE    CHINESE ACADEMY OF SCIENCES     1\n",
      "11                   MATHEMATICS    CHINESE ACADEMY OF SCIENCES     4\n",
      "12                  MICROBIOLOGY    CHINESE ACADEMY OF SCIENCES     3\n",
      "13  MOLECULAR BIOLOGY & GENETICS    CHINESE ACADEMY OF SCIENCES    13\n",
      "14             MULTIDISCIPLINARY    CHINESE ACADEMY OF SCIENCES     3\n",
      "15       NEUROSCIENCE & BEHAVIOR    CHINESE ACADEMY OF SCIENCES    71\n",
      "16     PHARMACOLOGY & TOXICOLOGY    CHINESE ACADEMY OF SCIENCES     4\n",
      "17                       PHYSICS    CHINESE ACADEMY OF SCIENCES     1\n",
      "18        PLANT & ANIMAL SCIENCE    CHINESE ACADEMY OF SCIENCES     1\n",
      "19         PSYCHIATRY/PSYCHOLOGY              PEKING UNIVERSITY   154\n",
      "20      SOCIAL SCIENCES, GENERAL    CHINESE ACADEMY OF SCIENCES    47\n",
      "21                 SPACE SCIENCE    CHINESE ACADEMY OF SCIENCES    15\n"
     ]
    }
   ],
   "source": [
    "def execute_query(db_path, query):\n",
    "    \"\"\"\n",
    "    Executes a SQL query on the specified database and returns the result as a pandas DataFrame.\n",
    "\n",
    "    Args:\n",
    "        db_path (str): The path to the SQLite database file.\n",
    "        query (str): The SQL query string to execute.\n",
    "\n",
    "    Returns:\n",
    "        pandas.DataFrame: A DataFrame containing the query results, or None if an error occurs.\n",
    "    \"\"\"\n",
    "    try:\n",
    "        with sqlite3.connect(db_path) as conn:\n",
    "            # Use pandas to directly read the SQL query results into a DataFrame\n",
    "            df = pd.read_sql_query(query, conn)\n",
    "            return df\n",
    "    except Exception as e:\n",
    "        print(f\"An error occurred: {e}\")\n",
    "        return None\n",
    "\n",
    "# --- Main execution block ---\n",
    "if __name__ == \"__main__\":\n",
    "    database_file = 'esi_rankings.db'\n",
    "\n",
    "    # --- Analysis 1: Collective Strength ---\n",
    "    print(\"--- Analysis 1: Number of Top 100 Mainland Chinese Universities by Subject ---\")\n",
    "    query1 = \"\"\"\n",
    "        SELECT\n",
    "          research_field,\n",
    "          COUNT(institution) AS number_of_top_100_institutions\n",
    "        FROM\n",
    "          esi_rankings\n",
    "        WHERE\n",
    "          country_region = 'CHINA MAINLAND' AND rank <= 100\n",
    "        GROUP BY\n",
    "          research_field\n",
    "        ORDER BY\n",
    "          number_of_top_100_institutions DESC;\n",
    "    \"\"\"\n",
    "    china_strength_df = execute_query(database_file, query1)\n",
    "    if china_strength_df is not None:\n",
    "        print(china_strength_df)\n",
    "\n",
    "    print(\"\\n\" + \"=\"*80 + \"\\n\")\n",
    "\n",
    "    # --- Analysis 2: Peak Performance ---\n",
    "    print(\"--- Analysis 2: Top-Ranked Mainland Chinese University in Each Subject ---\")\n",
    "    query2 = \"\"\"\n",
    "        SELECT\n",
    "          research_field,\n",
    "          institution,\n",
    "          rank\n",
    "        FROM\n",
    "          (\n",
    "            SELECT\n",
    "              research_field,\n",
    "              institution,\n",
    "              rank,\n",
    "              ROW_NUMBER() OVER(PARTITION BY research_field ORDER BY rank ASC) as rn\n",
    "            FROM\n",
    "              esi_rankings\n",
    "            WHERE\n",
    "              country_region = 'CHINA MAINLAND'\n",
    "          )\n",
    "        WHERE\n",
    "          rn = 1\n",
    "        ORDER BY\n",
    "          research_field;\n",
    "    \"\"\"\n",
    "    china_leaders_df = execute_query(database_file, query2)\n",
    "    if china_leaders_df is not None:\n",
    "        print(china_leaders_df)"
   ]
  },
  {
   "cell_type": "code",
   "execution_count": 49,
   "id": "3c16605c",
   "metadata": {},
   "outputs": [
    {
     "name": "stdout",
     "output_type": "stream",
     "text": [
      "--- Analysis 1: Top 20 Global Regions by Total Citations ---\n",
      "           country_region  total_cites total_documents  \\\n",
      "0                     USA  381,717,908      12,371,999   \n",
      "1          CHINA MAINLAND  176,456,031       8,733,347   \n",
      "2                  FRANCE   77,303,271       2,929,096   \n",
      "3                 ENGLAND   68,990,134       2,143,125   \n",
      "4   GERMANY (FED REP GER)   61,468,719       2,177,835   \n",
      "5                    None   45,485,242       1,125,071   \n",
      "6               AUSTRALIA   42,097,824       1,438,061   \n",
      "7                   ITALY   39,164,264       1,553,112   \n",
      "8                  CANADA   35,448,075       1,286,132   \n",
      "9                   SPAIN   34,822,971       1,345,845   \n",
      "10            NETHERLANDS   27,493,752         872,532   \n",
      "11                  JAPAN   24,332,856       1,196,491   \n",
      "12                  INDIA   21,847,724       1,159,346   \n",
      "13            SOUTH KOREA   21,837,617       1,098,624   \n",
      "14            SWITZERLAND   20,409,726         622,925   \n",
      "15                 SWEDEN   12,908,600         450,247   \n",
      "16                 BRAZIL   11,086,215         659,331   \n",
      "17                DENMARK   10,896,512         360,036   \n",
      "18                   IRAN   10,503,836         486,169   \n",
      "19                BELGIUM   10,467,765         349,117   \n",
      "\n",
      "    number_of_ranked_institutions  \n",
      "0                            1255  \n",
      "1                             859  \n",
      "2                             282  \n",
      "3                             282  \n",
      "4                             275  \n",
      "5                            2656  \n",
      "6                             263  \n",
      "7                             301  \n",
      "8                             167  \n",
      "9                             311  \n",
      "10                            101  \n",
      "11                            264  \n",
      "12                            400  \n",
      "13                            164  \n",
      "14                             68  \n",
      "15                             68  \n",
      "16                            130  \n",
      "17                             40  \n",
      "18                             99  \n",
      "19                             46  \n",
      "\n",
      "================================================================================\n",
      "\n",
      "--- Analysis 2: Top 20 Global Regions by Number of Top 100 Placements ---\n",
      "           country_region  top_100_placements\n",
      "0                     USA                 885\n",
      "1          CHINA MAINLAND                 371\n",
      "2                  FRANCE                 153\n",
      "3                 ENGLAND                 145\n",
      "4   GERMANY (FED REP GER)                  88\n",
      "5               AUSTRALIA                  81\n",
      "6             NETHERLANDS                  59\n",
      "7                  CANADA                  49\n",
      "8             SWITZERLAND                  48\n",
      "9                   SPAIN                  29\n",
      "10                  ITALY                  28\n",
      "11                DENMARK                  25\n",
      "12                   None                  23\n",
      "13                  INDIA                  19\n",
      "14                 SWEDEN                  18\n",
      "15              SINGAPORE                  17\n",
      "16           SAUDI ARABIA                  17\n",
      "17              HONG KONG                  17\n",
      "18                BELGIUM                  16\n",
      "19                  JAPAN                  14\n"
     ]
    }
   ],
   "source": [
    "import sqlite3\n",
    "import pandas as pd\n",
    "\n",
    "def execute_query(db_path, query):\n",
    "    \"\"\"\n",
    "    Executes a SQL query and returns the result as a pandas DataFrame.\n",
    "    \"\"\"\n",
    "    try:\n",
    "        with sqlite3.connect(db_path) as conn:\n",
    "            df = pd.read_sql_query(query, conn)\n",
    "            return df\n",
    "    except Exception as e:\n",
    "        print(f\"An error occurred: {e}\")\n",
    "        return None\n",
    "\n",
    "# --- Main execution block ---\n",
    "if __name__ == \"__main__\":\n",
    "    database_file = 'esi_rankings.db'\n",
    "\n",
    "    # --- Analysis 1: Global Research Powerhouses ---\n",
    "    print(\"--- Analysis 1: Top 20 Global Regions by Total Citations ---\")\n",
    "    query1 = \"\"\"\n",
    "        SELECT\n",
    "          country_region,\n",
    "          SUM(cites) AS total_cites,\n",
    "          SUM(documents) AS total_documents,\n",
    "          COUNT(DISTINCT institution) AS number_of_ranked_institutions\n",
    "        FROM\n",
    "          esi_rankings\n",
    "        GROUP BY\n",
    "          country_region\n",
    "        ORDER BY\n",
    "          total_cites DESC\n",
    "        LIMIT 20;\n",
    "    \"\"\"\n",
    "    powerhouses_df = execute_query(database_file, query1)\n",
    "    if powerhouses_df is not None:\n",
    "        # Improve formatting for large numbers\n",
    "        powerhouses_df['total_cites'] = powerhouses_df['total_cites'].map('{:,.0f}'.format)\n",
    "        powerhouses_df['total_documents'] = powerhouses_df['total_documents'].map('{:,.0f}'.format)\n",
    "        print(powerhouses_df)\n",
    "\n",
    "    print(\"\\n\" + \"=\"*80 + \"\\n\")\n",
    "\n",
    "    # --- Analysis 2: Concentration of Elite Institutions ---\n",
    "    print(\"--- Analysis 2: Top 20 Global Regions by Number of Top 100 Placements ---\")\n",
    "    query2 = \"\"\"\n",
    "        SELECT\n",
    "          country_region,\n",
    "          COUNT(institution) as top_100_placements\n",
    "        FROM\n",
    "          esi_rankings\n",
    "        WHERE\n",
    "          rank <= 100\n",
    "        GROUP BY\n",
    "          country_region\n",
    "        ORDER BY\n",
    "          top_100_placements DESC\n",
    "        LIMIT 20;\n",
    "    \"\"\"\n",
    "    elites_df = execute_query(database_file, query2)\n",
    "    if elites_df is not None:\n",
    "        print(elites_df)"
   ]
  },
  {
   "cell_type": "code",
   "execution_count": 55,
   "id": "a7fffe73",
   "metadata": {},
   "outputs": [
    {
     "name": "stdout",
     "output_type": "stream",
     "text": [
      "--- Step 1: Fetching detailed data by subject from database ---\n",
      "Successfully fetched 1558 records across all subjects.\n",
      "\n",
      "--- Step 2: Cleaning data and mapping to ISO codes ---\n",
      "Found 22 unique subjects.\n",
      "\n",
      "--- Step 3: Building interactive map with dropdown menu ---\n"
     ]
    },
    {
     "data": {
      "application/vnd.plotly.v1+json": {
       "config": {
        "plotlyServerURL": "https://plot.ly"
       },
       "data": [
        {
         "colorscale": [
          [
           0,
           "#0d0887"
          ],
          [
           0.1111111111111111,
           "#46039f"
          ],
          [
           0.2222222222222222,
           "#7201a8"
          ],
          [
           0.3333333333333333,
           "#9c179e"
          ],
          [
           0.4444444444444444,
           "#bd3786"
          ],
          [
           0.5555555555555556,
           "#d8576b"
          ],
          [
           0.6666666666666666,
           "#ed7953"
          ],
          [
           0.7777777777777778,
           "#fb9f3a"
          ],
          [
           0.8888888888888888,
           "#fdca26"
          ],
          [
           1,
           "#f0f921"
          ]
         ],
         "customdata": {
          "bdata": "DBYAAMA0AgBm3woAzvEAANlVAABVqQIAvA4AAJmvDAB6DgAAV8MGAPbmAACPh00AEGwAABAXAABgiwAAsRAAAOApAQBPawIA2wcEAIlvBwDcJwAAa2EBAMj7EQClmwkAUygAAGZmAQAtrAAARHQAAPSlBwDCIQAALbIFADN7AgDKtwAAnggNAHIOAgAPIgAA+JMAAEQfAADSMgAAmycAAB/wAQCvPwIAdxMAAHr7BACNuAIA5CsAAJBrAAAg6AAAdh4AAEIkAgCqFQAANFQAANbYAwCmXwMAOBIAANlNAACBFgEANUYBALMBAQAJyAAA5bsAAHAXAAC7NQAAczYBAFbhBQCepxAA7RQAAIOvAQDUsAIAiD8BAG+vAQB9/gAAfPgCAKoOAACIKgAAjEgAALbBNABbNgAA5YEAANAOAAA=",
          "dtype": "i4"
         },
         "hovertemplate": "<b>%{text}</b><br>Total Cites: %{customdata:,.0f}<extra></extra>",
         "locations": [
          "DZA",
          "ARG",
          "AUS",
          "AUT",
          "BGD",
          "BEL",
          "BEN",
          "BRA",
          "BGR",
          "CAN",
          "CHL",
          "CHN",
          "COL",
          null,
          "HRV",
          "CYP",
          "CZE",
          "DNK",
          "EGY",
          "GBR",
          "ETH",
          "FIN",
          "FRA",
          "DEU",
          "GHA",
          "GRC",
          "HKG",
          "HUN",
          "IND",
          "IDN",
          "IRN",
          "IRL",
          "ISR",
          "ITA",
          "JPN",
          "JOR",
          "KEN",
          "LBN",
          "LTU",
          null,
          "MYS",
          "MEX",
          "MAR",
          "NLD",
          "NZL",
          "NGA",
          "GBR",
          "NOR",
          "OMN",
          "PAK",
          "PER",
          "PHL",
          "POL",
          "PRT",
          "QAT",
          "ROU",
          "RUS",
          "SAU",
          "GBR",
          "SRB",
          "SGP",
          "SVK",
          "SVN",
          "ZAF",
          "KOR",
          "ESP",
          "LKA",
          "SWE",
          "CHE",
          "TWN",
          "THA",
          "TUN",
          "TUR",
          "UGA",
          "ARE",
          "URY",
          "USA",
          "VNM",
          "GBR",
          "ZWE"
         ],
         "name": "AGRICULTURAL SCIENCES",
         "text": [
          "ALGERIA",
          "ARGENTINA",
          "AUSTRALIA",
          "AUSTRIA",
          "BANGLADESH",
          "BELGIUM",
          "BENIN",
          "BRAZIL",
          "BULGARIA",
          "CANADA",
          "CHILE",
          "CHINA MAINLAND",
          "COLOMBIA",
          "COTE IVOIRE",
          "CROATIA",
          "CYPRUS",
          "CZECH REPUBLIC",
          "DENMARK",
          "EGYPT",
          "ENGLAND",
          "ETHIOPIA",
          "FINLAND",
          "FRANCE",
          "GERMANY (FED REP GER)",
          "GHANA",
          "GREECE",
          "HONG KONG",
          "HUNGARY",
          "INDIA",
          "INDONESIA",
          "IRAN",
          "IRELAND",
          "ISRAEL",
          "ITALY",
          "JAPAN",
          "JORDAN",
          "KENYA",
          "LEBANON",
          "LITHUANIA",
          "MACAU",
          "MALAYSIA",
          "MEXICO",
          "MOROCCO",
          "NETHERLANDS",
          "NEW ZEALAND",
          "NIGERIA",
          "NORTHERN IRELAND",
          "NORWAY",
          "OMAN",
          "PAKISTAN",
          "PERU",
          "PHILIPPINES",
          "POLAND",
          "PORTUGAL",
          "QATAR",
          "ROMANIA",
          "RUSSIA",
          "SAUDI ARABIA",
          "SCOTLAND",
          "SERBIA",
          "SINGAPORE",
          "SLOVAKIA",
          "SLOVENIA",
          "SOUTH AFRICA",
          "SOUTH KOREA",
          "SPAIN",
          "SRI LANKA",
          "SWEDEN",
          "SWITZERLAND",
          "TAIWAN",
          "THAILAND",
          "TUNISIA",
          "TURKIYE",
          "UGANDA",
          "UNITED ARAB EMIRATES",
          "URUGUAY",
          "USA",
          "VIETNAM",
          "WALES",
          "ZIMBABWE"
         ],
         "type": "choropleth",
         "visible": true,
         "z": {
          "bdata": "mC8WY2gDDkCH2gcM8aMUQEQz3pVIaRdAduKUeLYqE0A7uYYlMl4RQLHGO1Jm9xRA5/vC+A2dDEDyQsXC4K0XQGV1rbZbjQxAB+wBaSSWFkCCwkEHTxYTQPCQ2M7j0hpAOCuJeYnEEUA7LgdXdSsOQIdurAyyNRJARBO69/ILDUA+73VVdIcTQFpVcxL0zBRA0geOMfyvFUDLE68aT8AWQN+hBkcGCRBA2jRPfX3TE0DKsudJEUkYQOctyq1KMhdA5IlFKy4OEECXQLClttkTQHeVkeaukxJAMWzwJxPlEUDN2aoa2MwWQNFF1fZJfg9AhQdmvcdJFkCt44hiONgUQNNPCOS1sBJAa7xKa+e5F0BzLpjutIQUQPMSwYEthg9Ae71ttU1QEkDnfx2CFToPQBzvqtsNdRBAJ/5M0C4GEECv/qOxUmoUQEAY3RB4rBRAIoTHyqOUDUD/OdZpPw4WQCopeU85ARVAoFyFsd0zEEAQGe6AecIRQKqFI2GLGBNA/v8sTeUiD0CEOVnowpYUQLUrhsTU8w1Au4RQLZhVEUBULfl9PpsVQPyL9kvZYBVA9x6T5M5ZDUDdU5MKsjIRQKYDshuNaRNAV4+LNtyvE0Dr4FY3BkcTQG3hLRlh1hJADPH7+Ii6EkCqeg9PzTkOQC+lAuTQjRBA8Yddd9eZE0DPSKB971cWQFDC31buJhhA1ydYX//UDUAs+s8vRiwUQDeSDgpE/BRAdYudMaqmE0APGrGSMSwUQP9nH8hyQRNAD3PSxkYoFUDFGdAYzZgMQGOzgy7gJRBAO/OC0VUTEUCv3I8OsCcaQGTqsnH1khBAVcDOPl4WEkAr1LLBwaEMQA==",
          "dtype": "f8"
         }
        },
        {
         "colorscale": [
          [
           0,
           "#0d0887"
          ],
          [
           0.1111111111111111,
           "#46039f"
          ],
          [
           0.2222222222222222,
           "#7201a8"
          ],
          [
           0.3333333333333333,
           "#9c179e"
          ],
          [
           0.4444444444444444,
           "#bd3786"
          ],
          [
           0.5555555555555556,
           "#d8576b"
          ],
          [
           0.6666666666666666,
           "#ed7953"
          ],
          [
           0.7777777777777778,
           "#fb9f3a"
          ],
          [
           0.8888888888888888,
           "#fdca26"
          ],
          [
           1,
           "#f0f921"
          ]
         ],
         "customdata": {
          "bdata": "lMIBAM5vFQCbAAcAhe0HAK8xCACDHgAAJHkWAOEOAQAZ4V4AkHAAAN0PBABkLQsABeQGADsVNABfywAAECEEACrAOgCi+z8AT28BADmVAgDRXwIAjSIAAGKHDABV1wUA7AICAF1fBAD99hQAmLESAO8fAADiPwAAIWoAAPuCAABT2QEAoSMAAOx6AQBMdxEAV7YBAHFsAACs9QIA3YABANUhAABQUQUAZp4DADOMAABXHAAAhv4FAMAJBAA6uAQATH4AANHlBABimAAAKvEAAFa4AQBNxA8A+jYWAIl0CgDIlRIAP7wFABvgAAD4XwAAxykBAE0iAAB1HQAAVIkAACPEPwFeKQAAxnkBAA==",
          "dtype": "i4"
         },
         "hovertemplate": "<b>%{text}</b><br>Total Cites: %{customdata:,.0f}<extra></extra>",
         "locations": [
          "ARG",
          "AUS",
          "AUT",
          "BEL",
          "BRA",
          "BGR",
          "CAN",
          "CHL",
          "CHN",
          "HRV",
          "CZE",
          "DNK",
          "EGY",
          "GBR",
          "EST",
          "FIN",
          "FRA",
          "DEU",
          "GRC",
          "HKG",
          "HUN",
          "ISL",
          "IND",
          "IRN",
          "IRL",
          "ISR",
          "ITA",
          "JPN",
          "LVA",
          "LTU",
          "LUX",
          null,
          "MYS",
          "MLT",
          "MEX",
          "NLD",
          "NZL",
          "GBR",
          "NOR",
          "PAK",
          "PAN",
          "POL",
          "PRT",
          "QAT",
          "ROU",
          "RUS",
          "SAU",
          "GBR",
          "SRB",
          "SGP",
          "SVK",
          "SVN",
          "ZAF",
          "KOR",
          "ESP",
          "SWE",
          "CHE",
          "TWN",
          "THA",
          "TUN",
          "TUR",
          "UKR",
          "ARE",
          "URY",
          "USA",
          "VNM",
          "GBR"
         ],
         "name": "BIOLOGY & BIOCHEMISTRY",
         "text": [
          "ARGENTINA",
          "AUSTRALIA",
          "AUSTRIA",
          "BELGIUM",
          "BRAZIL",
          "BULGARIA",
          "CANADA",
          "CHILE",
          "CHINA MAINLAND",
          "CROATIA",
          "CZECH REPUBLIC",
          "DENMARK",
          "EGYPT",
          "ENGLAND",
          "ESTONIA",
          "FINLAND",
          "FRANCE",
          "GERMANY (FED REP GER)",
          "GREECE",
          "HONG KONG",
          "HUNGARY",
          "ICELAND",
          "INDIA",
          "IRAN",
          "IRELAND",
          "ISRAEL",
          "ITALY",
          "JAPAN",
          "LATVIA",
          "LITHUANIA",
          "LUXEMBOURG",
          "MACAU",
          "MALAYSIA",
          "MALTA",
          "MEXICO",
          "NETHERLANDS",
          "NEW ZEALAND",
          "NORTHERN IRELAND",
          "NORWAY",
          "PAKISTAN",
          "PANAMA",
          "POLAND",
          "PORTUGAL",
          "QATAR",
          "ROMANIA",
          "RUSSIA",
          "SAUDI ARABIA",
          "SCOTLAND",
          "SERBIA",
          "SINGAPORE",
          "SLOVAKIA",
          "SLOVENIA",
          "SOUTH AFRICA",
          "SOUTH KOREA",
          "SPAIN",
          "SWEDEN",
          "SWITZERLAND",
          "TAIWAN",
          "THAILAND",
          "TUNISIA",
          "TURKIYE",
          "UKRAINE",
          "UNITED ARAB EMIRATES",
          "URUGUAY",
          "USA",
          "VIETNAM",
          "WALES"
         ],
         "type": "choropleth",
         "visible": false,
         "z": {
          "bdata": "pbnwjYA/FEAwEkGoLpcYQP9vOGebpRZAsBA4K8/cFkDk1T8TgOsWQAI7xoZgJA9AOc20RC6sGEDyEMe3NF0TQBw48/SyLBtA3TyPKq7WEUBvMy5ObLMVQLMj9cWSdRdAxOBHS3WeFkC79a7A+CEaQONqvAO83RJAHypY7Le6FUAOHb5ii1caQNajHDx8fRpAv3jMYKLkE0C7XXWQE+oUQBmQQKCfxBRAunWcDvCSD0B/2NgwVqgXQEeKuGD4VBZAJaJUPt16FEAz5/2FL9QVQKtfRUBIjRhACv8k2UpaGEBByv474kwPQFymmTXH2hBANCaC/oG8EUDjHUULEhoSQIptAmhnVRRAq+2Ws0OuD0A/MGUoevITQH0Oev8UPBhAvtawj0EzFEDCixD0F8YRQO7ojvSgJhVALQn4ZGX5E0BhDcX1PYAPQNFm5Tk2KxZAzCk2YgqAFUAIZ2xOUTgSQJZ6nkC14g5AHwGRynlgFkB9+cgHzbAVQEV09Loo9hVAOv1ApOAJEkAbDMpzoQYWQMZrjiVgXRJAzs0QdIgpE0AGuJLQRjUUQGSxR7aQDhhA8gUeYAmnGEAeX/KB31cXQHTEuESzVxhAiRh3R9dMFkCqsW2m6AgTQBfsUrzBjxFAEdAHAU+HE0Alr7O2eowPQIzqJagXBQ9Agic7uB0vEkC5GZ8hBkkdQJe6mBOJGRBAQIhmliDxE0A=",
          "dtype": "f8"
         }
        },
        {
         "colorscale": [
          [
           0,
           "#0d0887"
          ],
          [
           0.1111111111111111,
           "#46039f"
          ],
          [
           0.2222222222222222,
           "#7201a8"
          ],
          [
           0.3333333333333333,
           "#9c179e"
          ],
          [
           0.4444444444444444,
           "#bd3786"
          ],
          [
           0.5555555555555556,
           "#d8576b"
          ],
          [
           0.6666666666666666,
           "#ed7953"
          ],
          [
           0.7777777777777778,
           "#fb9f3a"
          ],
          [
           0.8888888888888888,
           "#fdca26"
          ],
          [
           1,
           "#f0f921"
          ]
         ],
         "customdata": {
          "bdata": "hk4AAGusAgB1NhkAXg4EADQtAAC+XgAAIpgIAB8tDAAzJgAATL4AABvKEwBkegEAYUnMAYmoAAAl6QAARSQAAG0zAABJIAgAdk0FAG8REwDC0CkAKWkAAN0FBABEL1QAI0hGAIDiAwAWlggAdNcDAF8vAADRCUAAOlUAAAZyGADpZAAAwkECABQ9BAAajiMAgeUpAEA4AADnKAAARSEAAIEgAADYSgAAXKcAADlnAAA24QAAe40HAK3JAwBN2wEATf4LAHTRAQCe7AAAHRMCAB0/AAClrwYADMsPAH7QBgA1YAIATNsCAAbfGQBJ0REAhxAEAPU5AQB7jw4Ai0IBAAn2AQBxXAQAIgEmANvuKABMKAgAAHcUAGKVDQBUgAMAKRwCAP3VBgDC9gEAKMUBAMcrAAAltxQBFHQCABJlAQA=",
          "dtype": "i4"
         },
         "hovertemplate": "<b>%{text}</b><br>Total Cites: %{customdata:,.0f}<extra></extra>",
         "locations": [
          "DZA",
          "ARG",
          "AUS",
          "AUT",
          "BGD",
          "BLR",
          "BEL",
          "BRA",
          "BRN",
          "BGR",
          "CAN",
          "CHL",
          "CHN",
          "COL",
          "HRV",
          "CUB",
          "CYP",
          "CZE",
          "DNK",
          "EGY",
          "GBR",
          "EST",
          "FIN",
          "FRA",
          "DEU",
          "GRC",
          "HKG",
          "HUN",
          "ISL",
          "IND",
          "IDN",
          "IRN",
          "IRQ",
          "IRL",
          "ISR",
          "ITA",
          "JPN",
          "JOR",
          "KAZ",
          "KWT",
          "LVA",
          "LBN",
          "LTU",
          "LUX",
          null,
          "MYS",
          "MEX",
          "MAR",
          "NLD",
          "NZL",
          "GBR",
          "NOR",
          "OMN",
          "PAK",
          "POL",
          "PRT",
          "QAT",
          "ROU",
          "RUS",
          "SAU",
          "GBR",
          "SRB",
          "SGP",
          "SVK",
          "SVN",
          "ZAF",
          "KOR",
          "ESP",
          "SWE",
          "CHE",
          "TWN",
          "THA",
          "TUN",
          "TUR",
          "UKR",
          "ARE",
          "URY",
          "USA",
          "VNM",
          "GBR"
         ],
         "name": "CHEMISTRY",
         "text": [
          "ALGERIA",
          "ARGENTINA",
          "AUSTRALIA",
          "AUSTRIA",
          "BANGLADESH",
          "BELARUS",
          "BELGIUM",
          "BRAZIL",
          "BRUNEI",
          "BULGARIA",
          "CANADA",
          "CHILE",
          "CHINA MAINLAND",
          "COLOMBIA",
          "CROATIA",
          "CUBA",
          "CYPRUS",
          "CZECH REPUBLIC",
          "DENMARK",
          "EGYPT",
          "ENGLAND",
          "ESTONIA",
          "FINLAND",
          "FRANCE",
          "GERMANY (FED REP GER)",
          "GREECE",
          "HONG KONG",
          "HUNGARY",
          "ICELAND",
          "INDIA",
          "INDONESIA",
          "IRAN",
          "IRAQ",
          "IRELAND",
          "ISRAEL",
          "ITALY",
          "JAPAN",
          "JORDAN",
          "KAZAKHSTAN",
          "KUWAIT",
          "LATVIA",
          "LEBANON",
          "LITHUANIA",
          "LUXEMBOURG",
          "MACAU",
          "MALAYSIA",
          "MEXICO",
          "MOROCCO",
          "NETHERLANDS",
          "NEW ZEALAND",
          "NORTHERN IRELAND",
          "NORWAY",
          "OMAN",
          "PAKISTAN",
          "POLAND",
          "PORTUGAL",
          "QATAR",
          "ROMANIA",
          "RUSSIA",
          "SAUDI ARABIA",
          "SCOTLAND",
          "SERBIA",
          "SINGAPORE",
          "SLOVAKIA",
          "SLOVENIA",
          "SOUTH AFRICA",
          "SOUTH KOREA",
          "SPAIN",
          "SWEDEN",
          "SWITZERLAND",
          "TAIWAN",
          "THAILAND",
          "TUNISIA",
          "TURKIYE",
          "UKRAINE",
          "UNITED ARAB EMIRATES",
          "URUGUAY",
          "USA",
          "VIETNAM",
          "WALES"
         ],
         "type": "choropleth",
         "visible": false,
         "z": {
          "bdata": "N9moBIo2EUDkmBXNaPkUQAtVWpdV3xhAt6gHZMiyFUBs6Nb590AQQItnslgJihFALRiWyLQAF0CGDv9cpJsXQK8qCsc27A9AmPmZUy/AEkAVWaTdn3MYQJG6uW7a8RNAkCUJOgTrHUDN/UnaLYoSQOvQYFB+GhNAw9Ru9hy+D0ChgzkcUnoQQFJWeN/L5xZAentDqfMpFkCEJn5QHGMYQMbnfRdTwBlAA0CjDW64EUDYjo4tIK8VQLJPBJGD9xpAceG3Fz6nGkDfxss2lp8VQKA6M9FKABdAvxW+hp6aFUAu0j3VzFUQQO8+r8befRpA1YpZhfdaEUCAMUL1ltEYQF7Ju5EVphFA1eBzhhGuFECJmjb1WcYVQMeAL/EyeBlAMHuUhC/BGUCXW9WuMaIQQCkR9KWCFBBAI9q921RxD0C6pKxYoFwPQNDcnjoyIRFAFq0J1RCHEkBkKuIBKbARQPQuLtkYCxNAQvssJUDHFkAnGplYWJQVQPTCudRBVxRA+Eq0W+mUF0BJ1jtJ8k0UQB9f64YRIRNAnPpG9aGIFECaxFyPY9UQQIgrz+INkRZA3o8+1U4PGEBKGpD/gZkWQJmZuMToxBRAKmDEP98WFUC7Toi0zOoYQFTPIYTxRBhA+gFW/LSzFUCsiYie1p4TQP3xpOMq6xdAyH/yN9aqE0DkUZDKl28UQFtMjPUF0xVAiBiPaNOVGUAdP5ja1rYZQGkSrXyB6RZAs/X+ZIyCGECu8a3hR8wXQD77TKtdcRVA4nIC3ySQFEA8P44d6JoWQMcB9Yw7cBRADIOYGwpCFEANqQWAtzIQQCHPs7W3CB1AX95H3DTTFEB/b/T6D9gTQA==",
          "dtype": "f8"
         }
        },
        {
         "colorscale": [
          [
           0,
           "#0d0887"
          ],
          [
           0.1111111111111111,
           "#46039f"
          ],
          [
           0.2222222222222222,
           "#7201a8"
          ],
          [
           0.3333333333333333,
           "#9c179e"
          ],
          [
           0.4444444444444444,
           "#bd3786"
          ],
          [
           0.5555555555555556,
           "#d8576b"
          ],
          [
           0.6666666666666666,
           "#ed7953"
          ],
          [
           0.7777777777777778,
           "#fb9f3a"
          ],
          [
           0.8888888888888888,
           "#fdca26"
          ],
          [
           1,
           "#f0f921"
          ]
         ],
         "customdata": {
          "bdata": "NnoAACUhCAAXugAAvd/yAJKaFwBQjwAAH50BAExRBQD+QgAA9KA6AHspAAAjqgAAToAAABnFMQB3XQAAGzMCAOcSAAA9OgEAT2rcAMBJBwAvUPwAmtcHALe8AABP3AQAOnMBAOoiEAC7vgAA0xhDAGN8AAB1pxQAgppqATYxAgDV3AwAmCQAALzcHwDaY1gBSCgAAPKgAABZvfwAuD0DADUvGABDEQAAJbMSAImWBwB7HAMALcU6AJtuBgDznCgA4C8DAGTNEACp+igA7NvZAOPTAACE4HoAK1QDANJsAQCVWQMAGhIAAAdsAQDXQwIA/RgBAEXdAwDohwAAIcwBAD22AQAsvAAAYSsAAEfEAABbEgsALRIAAHRfAACfBwsAvCYAACxEAABsGwAAw6MBAFWHAQCkYwAAnz0BADNfqQAkTg4AIRgJAB+KAwCdFB4ArbEAAMCtCABKMQIAvVoBAPBeAABILgAAk5ACAKw5BgDmth4A6DsUALqFBwCqeAgAWHgPAF5RAAByLxIAJS0cAK8dAABzRQYAAJUVABqTAgDsZQMAn4QWAPmUZACnTa4AJLECABIlAACqKQAAeCtEAJ6CUQBvtTAAjqsBADn4BwBaQwAAjpACAF/hGwAz4AEAF2EEACBTAwAg0gAAfBdgB1pnAAA9LgUABSQHAK8ZAACQBgEAFUwAAA==",
          "dtype": "i4"
         },
         "hovertemplate": "<b>%{text}</b><br>Total Cites: %{customdata:,.0f}<extra></extra>",
         "locations": [
          "DZA",
          "ARG",
          "ARM",
          "AUS",
          "AUT",
          "AZE",
          "BHR",
          "BGD",
          "BRB",
          "BEL",
          "BEN",
          null,
          "BWA",
          "BRA",
          "BRN",
          "BGR",
          "KHM",
          "CMR",
          "CAN",
          "CHL",
          "CHN",
          "COL",
          "CRI",
          "HRV",
          "CYP",
          "CZE",
          null,
          "DNK",
          "ECU",
          "EGY",
          "GBR",
          "EST",
          "ETH",
          "FJI",
          "FIN",
          "FRA",
          "GMB",
          "GEO",
          "DEU",
          "GHA",
          "GRC",
          "GTM",
          "HKG",
          "HUN",
          "ISL",
          "IND",
          "IDN",
          "IRN",
          "IRQ",
          "IRL",
          "ISR",
          "ITA",
          "JAM",
          "JPN",
          "JOR",
          "KAZ",
          "KEN",
          "SRB",
          "KWT",
          "KGZ",
          "LVA",
          "LBN",
          "LBY",
          "LTU",
          "LUX",
          null,
          "MKD",
          "MWI",
          "MYS",
          "MLI",
          "MLT",
          "MEX",
          "MDA",
          "MNG",
          "MNE",
          "MAR",
          "MOZ",
          "NAM",
          "NPL",
          "NLD",
          "NZL",
          "NGA",
          "GBR",
          "NOR",
          "OMN",
          "PAK",
          "PSE",
          "PAN",
          "PNG",
          "PRY",
          "PER",
          "PHL",
          "POL",
          "PRT",
          "QAT",
          "ROU",
          "RUS",
          "RWA",
          "SAU",
          "GBR",
          "SEN",
          "SRB",
          "SGP",
          "SVK",
          "SVN",
          "ZAF",
          "KOR",
          "ESP",
          "LKA",
          "SDN",
          "SUR",
          "SWE",
          "CHE",
          "TWN",
          "TZA",
          "THA",
          null,
          "TUN",
          "TUR",
          "UGA",
          "UKR",
          "ARE",
          "URY",
          "USA",
          "VEN",
          "VNM",
          "GBR",
          "YEM",
          "ZMB",
          "ZWE"
         ],
         "name": "CLINICAL MEDICINE",
         "text": [
          "ALGERIA",
          "ARGENTINA",
          "ARMENIA",
          "AUSTRALIA",
          "AUSTRIA",
          "AZERBAIJAN",
          "BAHRAIN",
          "BANGLADESH",
          "BARBADOS",
          "BELGIUM",
          "BENIN",
          "BOSNIA & HERZEGOVINA",
          "BOTSWANA",
          "BRAZIL",
          "BRUNEI",
          "BULGARIA",
          "CAMBODIA",
          "CAMEROON",
          "CANADA",
          "CHILE",
          "CHINA MAINLAND",
          "COLOMBIA",
          "COSTA RICA",
          "CROATIA",
          "CYPRUS",
          "CZECH REPUBLIC",
          "DEMOCRATIC REPUBLIC OF THE CONGO",
          "DENMARK",
          "ECUADOR",
          "EGYPT",
          "ENGLAND",
          "ESTONIA",
          "ETHIOPIA",
          "FIJI",
          "FINLAND",
          "FRANCE",
          "GAMBIA",
          "GEORGIA",
          "GERMANY (FED REP GER)",
          "GHANA",
          "GREECE",
          "GUATEMALA",
          "HONG KONG",
          "HUNGARY",
          "ICELAND",
          "INDIA",
          "INDONESIA",
          "IRAN",
          "IRAQ",
          "IRELAND",
          "ISRAEL",
          "ITALY",
          "JAMAICA",
          "JAPAN",
          "JORDAN",
          "KAZAKHSTAN",
          "KENYA",
          "KOSOVO",
          "KUWAIT",
          "KYRGYZSTAN",
          "LATVIA",
          "LEBANON",
          "LIBYA",
          "LITHUANIA",
          "LUXEMBOURG",
          "MACAU",
          "MACEDONIA",
          "MALAWI",
          "MALAYSIA",
          "MALI",
          "MALTA",
          "MEXICO",
          "MOLDOVA",
          "MONGOLIA",
          "MONTENEGRO",
          "MOROCCO",
          "MOZAMBIQUE",
          "NAMIBIA",
          "NEPAL",
          "NETHERLANDS",
          "NEW ZEALAND",
          "NIGERIA",
          "NORTHERN IRELAND",
          "NORWAY",
          "OMAN",
          "PAKISTAN",
          "PALESTINE",
          "PANAMA",
          "PAPUA NEW GUINEA",
          "PARAGUAY",
          "PERU",
          "PHILIPPINES",
          "POLAND",
          "PORTUGAL",
          "QATAR",
          "ROMANIA",
          "RUSSIA",
          "RWANDA",
          "SAUDI ARABIA",
          "SCOTLAND",
          "SENEGAL",
          "SERBIA",
          "SINGAPORE",
          "SLOVAKIA",
          "SLOVENIA",
          "SOUTH AFRICA",
          "SOUTH KOREA",
          "SPAIN",
          "SRI LANKA",
          "SUDAN",
          "SURINAME",
          "SWEDEN",
          "SWITZERLAND",
          "TAIWAN",
          "TANZANIA",
          "THAILAND",
          "TRINIDAD TOBAGO",
          "TUNISIA",
          "TURKIYE",
          "UGANDA",
          "UKRAINE",
          "UNITED ARAB EMIRATES",
          "URUGUAY",
          "USA",
          "VENEZUELA",
          "VIETNAM",
          "WALES",
          "YEMEN",
          "ZAMBIA",
          "ZIMBABWE"
         ],
         "type": "choropleth",
         "visible": false,
         "z": {
          "bdata": "3XsVrkD7EUCuv+Tk+ucWQFe8Jzo+thJAcXKZorTOHEA16tFQAsIYQBqTPbEVQhJAultauOcYFEDrL1/rNCsWQEeEoZLp7xBAmIH94p5WGkCbLqRiwBoQQKOil5hijhJAiEhkQOQQEkBWCxAJxQ0aQEhhEQoAhBFAh12dC6WiFEDuo3g0kHoNQPgtTI88nxNA7hF8EY6jHECR2bCAZLcWQDKuQnup3xxAUczh+frXFkD32RPreLwSQGT2y9g+AxZAdUsdUFrpE0Dz/9qR3hgYQLTc9W0ywRJA1ZMijJ6SGkBq4tGrGQMSQKQ1aZCkhhhAdd8CE++AHUBrp4JeJaEUQMLWSY0HtBdAkEXYGgfGD0A+KwA/bkcZQGnF4OgDah1AEvdVzbQNEEAI48bnr3USQBQ6Obpp4BxAgrScagZPFUAWBG7h0MwYQDO3lybTKQ1AMwgbvG9aGEAKo14PVMkWQAclht7XPBVAdAjkULFXGkDm+laU038WQB2ziHxZsxlA7K/E3YpHFUBAETiH2ioYQO6YqwhXtxlAVdYICl6eHEACX9rk+e8SQAze54WxnxtAXPlmx+VaFUCkW0iEnOETQNxQQ8u2XRVA7kOi4hFUDUCK88vKpOATQDQeFQ2rrxRAsxFlKYBtE0BzlMLdPZ0VQDxUvNh8KhJADx4eg9RIFECJNyAuJzMUQLyHLeQwuxJABhhsq6YuEEAxpuEU8s0SQCZapP9ZcRdAyf5HW7VXDUAtM/9sXI0RQKCHMwOqbxdA0rndPZb4D0A0JOPKrPcQQFJqJNNsxQ5AKOSuK/8fFEDzmrQDzwAUQFacVj50oBFAv08ulP+jE0C05xayaC4cQJ2V/YdN4xdABQGdidoZF0CfcDHHMnYVQPCD0wHXLRlAcOxAtKqhEkBmxNTrDQUXQKheajc1oRRAUWZ5KwHLE0D+ZEXL84oRQOJBJjdzSxBA4trOYvDmFEDqcY+YS3EWQFXKIFYdNxlASe+A8YB9GECqiCOpdsUWQDyo/KZM+hZAhdHX2x0GGEBaogbyW0YRQPaCEMgHThhAeIp58cEQGUAIvyX/5wsPQOLQsNeRdBZAo84YsS+aGEDUsFTGpegUQIw4oEcRZBVA0C74ORGtGECXomfrp0YbQC0pbiksOxxAPBosrXf8FEAI1Z3wiNEPQDhHkR63HBBAjO2NfKyZGkAlfNsdKOkaQKTLY1YvBBpAcI3mYC0oFECDJMb9Jd8WQHK6G6JK8hBAJVDR/+zmFECwmnSoDwwZQBq7wCDRWxRAnpzv/d7UFUCxPCFbWloVQL/EAGBD7BJAqGB6jlwvIECdZJgWt7ARQAgltn+aHxZAQZ6Wmk6uFkCJvP6OL4sOQCOKFbBWTxNAkH4tUX4oEUA=",
          "dtype": "f8"
         }
        },
        {
         "colorscale": [
          [
           0,
           "#0d0887"
          ],
          [
           0.1111111111111111,
           "#46039f"
          ],
          [
           0.2222222222222222,
           "#7201a8"
          ],
          [
           0.3333333333333333,
           "#9c179e"
          ],
          [
           0.4444444444444444,
           "#bd3786"
          ],
          [
           0.5555555555555556,
           "#d8576b"
          ],
          [
           0.6666666666666666,
           "#ed7953"
          ],
          [
           0.7777777777777778,
           "#fb9f3a"
          ],
          [
           0.8888888888888888,
           "#fdca26"
          ],
          [
           1,
           "#f0f921"
          ]
         ],
         "customdata": {
          "bdata": "LhoAAGr2CgBLtgAA0QkBAHn3AACPswkAHycAAGFUUQBZGQAAwR0AAMAJAQBo/wEASi8NAP40AADlJwIAxqkIACk3BQBBpwAA6IcEAK0eCQBakgMAzFIAAF6LAABUTQQAFzoCAKl5AADOJwAA7VEAAKgYAQDJUQEAzBwAAIlXAgB9cwAAAGUAAB2+AADjJgEAfyAAAFCTAACKEAEAPXgBAHRZAAB5TgMApPUAAGFXBQCcIQAARmUAALJzBAC4zAMAvbsBAFsMBADsNAIADCEAAKSkAAD0VAAAz0E2AMfGAAB3dAAA",
          "dtype": "i4"
         },
         "hovertemplate": "<b>%{text}</b><br>Total Cites: %{customdata:,.0f}<extra></extra>",
         "locations": [
          "ARG",
          "AUS",
          "AUT",
          "BEL",
          "BRA",
          "CAN",
          "CHL",
          "CHN",
          "CYP",
          "CZE",
          "DNK",
          "EGY",
          "GBR",
          "EST",
          "FIN",
          "FRA",
          "DEU",
          "GRC",
          "HKG",
          "IND",
          "IRN",
          "IRL",
          "ISR",
          "ITA",
          "JPN",
          "JOR",
          "LBN",
          "LUX",
          null,
          "MYS",
          "MEX",
          "NLD",
          "NZL",
          "GBR",
          "NOR",
          "PAK",
          "PSE",
          "POL",
          "PRT",
          "QAT",
          "RUS",
          "SAU",
          "GBR",
          "SGP",
          "SVN",
          "ZAF",
          "KOR",
          "ESP",
          "SWE",
          "CHE",
          "TWN",
          "TUN",
          "TUR",
          "ARE",
          "USA",
          "VNM",
          "GBR"
         ],
         "name": "COMPUTER SCIENCE",
         "text": [
          "ARGENTINA",
          "AUSTRALIA",
          "AUSTRIA",
          "BELGIUM",
          "BRAZIL",
          "CANADA",
          "CHILE",
          "CHINA MAINLAND",
          "CYPRUS",
          "CZECH REPUBLIC",
          "DENMARK",
          "EGYPT",
          "ENGLAND",
          "ESTONIA",
          "FINLAND",
          "FRANCE",
          "GERMANY (FED REP GER)",
          "GREECE",
          "HONG KONG",
          "INDIA",
          "IRAN",
          "IRELAND",
          "ISRAEL",
          "ITALY",
          "JAPAN",
          "JORDAN",
          "LEBANON",
          "LUXEMBOURG",
          "MACAU",
          "MALAYSIA",
          "MEXICO",
          "NETHERLANDS",
          "NEW ZEALAND",
          "NORTHERN IRELAND",
          "NORWAY",
          "PAKISTAN",
          "PALESTINE",
          "POLAND",
          "PORTUGAL",
          "QATAR",
          "RUSSIA",
          "SAUDI ARABIA",
          "SCOTLAND",
          "SINGAPORE",
          "SLOVENIA",
          "SOUTH AFRICA",
          "SOUTH KOREA",
          "SPAIN",
          "SWEDEN",
          "SWITZERLAND",
          "TAIWAN",
          "TUNISIA",
          "TURKIYE",
          "UNITED ARAB EMIRATES",
          "USA",
          "VIETNAM",
          "WALES"
         ],
         "type": "choropleth",
         "visible": false,
         "z": {
          "bdata": "aOZXCTOcDkDN6JMb8mwXQBL1x10TrRJA0z2u5dBUE0Do1gZBBDUTQFcyCzmYNhdAoMG/ArYAEEAKhtyPK+gaQC7byCV6fw5ACtQ5owIOD0CHT99ztFQTQOSqIUrRdxRAEJI3Vwe/F0Bvgf7WqYcQQEEkF5azmRRAfJx4+EEEF0Ba0gLPlSIWQFZDsBDJhhJArvRUHQLkFUBwgm48GhsXQCQxnTQ4ehVAGeNS4BpOEUAnFfyqqzUSQPnZ0kf2zBVAGAxlcCCoFEAr0XRyPvkRQPlrOPxpCBBA/sMs0GZJEUC38yiO+WwTQAju2uxevxNADWrJde/wDkC9CxjYhb4UQIR/uXIX4hFATeP64XqmEUDkrjdwwb8SQKAWM3b4ghNAp6RVnmlcD0A3NI+tU04SQBR7UVPsXxNA6LziAVHvE0CscyCvfXARQOghA1nqVxVAGE9mUrYxE0DnoatvMC0WQCKzpKpeeg9Aml6prK6nEUD8eIPhMNwVQJJm2g29lRVAtLTJF7M4FEC4a1Kc67EVQOREj7ATpBRATr3OEFxrD0ChWEk8yH8SQCToo6+JWRFAt/97qCg0GkC07Zv7ktMSQGZ25g7W5RFA",
          "dtype": "f8"
         }
        },
        {
         "colorscale": [
          [
           0,
           "#0d0887"
          ],
          [
           0.1111111111111111,
           "#46039f"
          ],
          [
           0.2222222222222222,
           "#7201a8"
          ],
          [
           0.3333333333333333,
           "#9c179e"
          ],
          [
           0.4444444444444444,
           "#bd3786"
          ],
          [
           0.5555555555555556,
           "#d8576b"
          ],
          [
           0.6666666666666666,
           "#ed7953"
          ],
          [
           0.7777777777777778,
           "#fb9f3a"
          ],
          [
           0.8888888888888888,
           "#fdca26"
          ],
          [
           1,
           "#f0f921"
          ]
         ],
         "customdata": {
          "bdata": "fRsIAHDAAABxdwEANj8AANAYBQAGFQ8A/hwAAEEyAAD5dwEAcicAAJLSEwDfjwEA69gGAMHcBwD4HwAAjlsCACBkAQDYsgAAHiYAAJKdAwDWNwAAkSEAAFVgAAChmAUAuUoBAMMjAABoPQEA9TEAANUEAQCcHQAAqC4AAM4eAAAMDAEAIIQBANonAAA8lgAAFOgAAKQbAwCVDwIA6mkCAOJNAAAvp00AHj0AAOd5AAA=",
          "dtype": "i4"
         },
         "hovertemplate": "<b>%{text}</b><br>Total Cites: %{customdata:,.0f}<extra></extra>",
         "locations": [
          "AUS",
          "AUT",
          "BEL",
          "BRA",
          "CAN",
          "CHN",
          "CYP",
          "CZE",
          "DNK",
          "EGY",
          "GBR",
          "FIN",
          "FRA",
          "DEU",
          "GRC",
          "HKG",
          "IND",
          "IRL",
          "ISR",
          "ITA",
          "LBN",
          null,
          "MYS",
          "NLD",
          "NZL",
          "GBR",
          "NOR",
          "PAK",
          "PRT",
          "QAT",
          "RUS",
          "SAU",
          "GBR",
          "SGP",
          "SVN",
          "ZAF",
          "KOR",
          "ESP",
          "SWE",
          "CHE",
          "TWN",
          "USA",
          "VNM",
          "GBR"
         ],
         "name": "ECONOMICS & BUSINESS",
         "text": [
          "AUSTRALIA",
          "AUSTRIA",
          "BELGIUM",
          "BRAZIL",
          "CANADA",
          "CHINA MAINLAND",
          "CYPRUS",
          "CZECH REPUBLIC",
          "DENMARK",
          "EGYPT",
          "ENGLAND",
          "FINLAND",
          "FRANCE",
          "GERMANY (FED REP GER)",
          "GREECE",
          "HONG KONG",
          "INDIA",
          "IRELAND",
          "ISRAEL",
          "ITALY",
          "LEBANON",
          "MACAU",
          "MALAYSIA",
          "NETHERLANDS",
          "NEW ZEALAND",
          "NORTHERN IRELAND",
          "NORWAY",
          "PAKISTAN",
          "PORTUGAL",
          "QATAR",
          "RUSSIA",
          "SAUDI ARABIA",
          "SCOTLAND",
          "SINGAPORE",
          "SLOVENIA",
          "SOUTH AFRICA",
          "SOUTH KOREA",
          "SPAIN",
          "SWEDEN",
          "SWITZERLAND",
          "TAIWAN",
          "USA",
          "VIETNAM",
          "WALES"
         ],
         "type": "choropleth",
         "visible": false,
         "z": {
          "bdata": "1hVIDcXmFkChtCXPKMUSQJklwZ9f7hNA7hBKkhPWEECqwN09XBgWQJKv6UvS+hdAEyU9XfL2DkA1mR34EXAQQARkZZoA7xNAIbiyjGEEEECo3LfuXXQYQN6JJn1oChRAd3PYjKabFkDPMi7IHtkWQPesWr3cTQ9AmNTlkn7BFEDZip0u4tYTQJ0NnaCUpBJAn3DaVU3qD0DWvWWRpH8VQNb4qpjonhBAFzJMaTt5D0B7VW3db5ERQKJLq3vrQRZAPJbyW/m1E0CDUVXNkrEPQLvZn4uyoxNAIcTVeG9tEEANZmDhZUwTQODuowuuCQ9ABAMe4wlPEECI8X0d4CwPQOnM6jGIWBNA/kPRLSb9E0DV8I727wgQQPuR/qEPVxJAEAskY3QYE0CaHLHCXzwVQM3vL32qhRRAy69xbfPLFEDgauxw5TIRQGiZYxGZ0xpAd78T8RjHEEA9/JDZIPoRQA==",
          "dtype": "f8"
         }
        },
        {
         "colorscale": [
          [
           0,
           "#0d0887"
          ],
          [
           0.1111111111111111,
           "#46039f"
          ],
          [
           0.2222222222222222,
           "#7201a8"
          ],
          [
           0.3333333333333333,
           "#9c179e"
          ],
          [
           0.4444444444444444,
           "#bd3786"
          ],
          [
           0.5555555555555556,
           "#d8576b"
          ],
          [
           0.6666666666666666,
           "#ed7953"
          ],
          [
           0.7777777777777778,
           "#fb9f3a"
          ],
          [
           0.8888888888888888,
           "#fdca26"
          ],
          [
           1,
           "#f0f921"
          ]
         ],
         "customdata": {
          "bdata": "zBwCACm+AABTVyIAR3kCAAIiAABhEQAAokABAFvEBgAqKQkAwkwAACEeAAANKgAAEP4aAGzoAQCi9HwBCOgAADI1AQCGeQAAnGYCAEaUBwC3DwAAXJgSAMMrKgBhaQAAnBYAAITYBABzxCsAEDYcAKgYAADfWAQAwrIPAEchAQBXOwAAxag5AHmtAACf6h4AocYBAPlnAgB/1AEA70AbALGdDwBQJgEAP1gAAJ9/AACFJgAAF7oAALWeAABDYgAAxdABAGMQAAA1Fg4AwRUAAIbKAgCyDwAAb5EBALYQAABu9wkAnw8CAGOiAAA88QAA5JYEACVxAACiJAkAziIAADcPAADnTwAAJ+wHAFS7BwBsWwMAsYkBAJIPBQDfrg8AFskEAKIaAQBpmgwAjJkAAJ8pAQDXGAMA68AeAJxHEwC/MwAAQ1AIAAEDDABhFgsAu7MCAOKbAgCsoQ0AgWwAAPXUAwCla70AxJMEADLQAQA=",
          "dtype": "i4"
         },
         "hovertemplate": "<b>%{text}</b><br>Total Cites: %{customdata:,.0f}<extra></extra>",
         "locations": [
          "DZA",
          "ARG",
          "AUS",
          "AUT",
          "AZE",
          "BHR",
          "BGD",
          "BEL",
          "BRA",
          "BRN",
          "BGR",
          "CMR",
          "CAN",
          "CHL",
          "CHN",
          "COL",
          "HRV",
          "CYP",
          "CZE",
          "DNK",
          "ECU",
          "EGY",
          "GBR",
          "EST",
          "ETH",
          "FIN",
          "FRA",
          "DEU",
          "GHA",
          "GRC",
          "HKG",
          "HUN",
          "ISL",
          "IND",
          "IDN",
          "IRN",
          "IRQ",
          "IRL",
          "ISR",
          "ITA",
          "JPN",
          "JOR",
          "KAZ",
          "KWT",
          "LVA",
          "LBN",
          "LTU",
          "LUX",
          null,
          "MKD",
          "MYS",
          "MLT",
          "MEX",
          "MNE",
          "MAR",
          "NPL",
          "NLD",
          "NZL",
          "NGA",
          "GBR",
          "NOR",
          "OMN",
          "PAK",
          "PSE",
          "PER",
          "PHL",
          "POL",
          "PRT",
          "QAT",
          "ROU",
          "RUS",
          "SAU",
          "GBR",
          "SRB",
          "SGP",
          "SVK",
          "SVN",
          "ZAF",
          "KOR",
          "ESP",
          "LKA",
          "SWE",
          "CHE",
          "TWN",
          "THA",
          "TUN",
          "TUR",
          "UKR",
          "ARE",
          "USA",
          "VNM",
          "GBR"
         ],
         "name": "ENGINEERING",
         "text": [
          "ALGERIA",
          "ARGENTINA",
          "AUSTRALIA",
          "AUSTRIA",
          "AZERBAIJAN",
          "BAHRAIN",
          "BANGLADESH",
          "BELGIUM",
          "BRAZIL",
          "BRUNEI",
          "BULGARIA",
          "CAMEROON",
          "CANADA",
          "CHILE",
          "CHINA MAINLAND",
          "COLOMBIA",
          "CROATIA",
          "CYPRUS",
          "CZECH REPUBLIC",
          "DENMARK",
          "ECUADOR",
          "EGYPT",
          "ENGLAND",
          "ESTONIA",
          "ETHIOPIA",
          "FINLAND",
          "FRANCE",
          "GERMANY (FED REP GER)",
          "GHANA",
          "GREECE",
          "HONG KONG",
          "HUNGARY",
          "ICELAND",
          "INDIA",
          "INDONESIA",
          "IRAN",
          "IRAQ",
          "IRELAND",
          "ISRAEL",
          "ITALY",
          "JAPAN",
          "JORDAN",
          "KAZAKHSTAN",
          "KUWAIT",
          "LATVIA",
          "LEBANON",
          "LITHUANIA",
          "LUXEMBOURG",
          "MACAU",
          "MACEDONIA",
          "MALAYSIA",
          "MALTA",
          "MEXICO",
          "MONTENEGRO",
          "MOROCCO",
          "NEPAL",
          "NETHERLANDS",
          "NEW ZEALAND",
          "NIGERIA",
          "NORTHERN IRELAND",
          "NORWAY",
          "OMAN",
          "PAKISTAN",
          "PALESTINE",
          "PERU",
          "PHILIPPINES",
          "POLAND",
          "PORTUGAL",
          "QATAR",
          "ROMANIA",
          "RUSSIA",
          "SAUDI ARABIA",
          "SCOTLAND",
          "SERBIA",
          "SINGAPORE",
          "SLOVAKIA",
          "SLOVENIA",
          "SOUTH AFRICA",
          "SOUTH KOREA",
          "SPAIN",
          "SRI LANKA",
          "SWEDEN",
          "SWITZERLAND",
          "TAIWAN",
          "THAILAND",
          "TUNISIA",
          "TURKIYE",
          "UKRAINE",
          "UNITED ARAB EMIRATES",
          "USA",
          "VIETNAM",
          "WALES"
         ],
         "type": "choropleth",
         "visible": false,
         "z": {
          "bdata": "GxV6/aqQFEA4vkeB3b8SQBa+reC/aBlAClCFZ9/WFEAV8afM2YQPQBOUmV/XLw1Ak6IO/zGoE0Cp6cUsZ5YWQJkS1YkYHRdAdKb0Bm0sEUDNtKUQJhkPQPqDudzSIBBABcCC4qr9GEA8iIcSXmMUQFAbHgzklh1AaTH0Y10YE0ABMp21CpgTQD0konC++BFAYu6z7JDJFEA64cFtz8gWQLiwOetW1gxAkrhl8fBXGEAxpmXZFsQZQOXCt55auRFAnZ/J488ZDkD3YABI4wEWQIi0qh+d1BlAzPGenE4RGUBz/4EF4mYOQGrjiUyZ0RVAY4Vo0aAMGEA3/5oAbnoTQOGPGEX5uRBA9I7dmDRPGkBoRyYzBZcSQP9t+8cHOhlAKUP2e3tDFEAykgMsjcoUQP8iUifYUBRADRXSVPMBGUBc3wN1SgoYQLqa8o4aghNAr6twGHNqEUCVLX4UhA4SQBPvxOuj8w9AV7wnOj62EkBuqZiKdW8SQAIftslBmhFAtXnv9UpNFEDRqvoqkfsMQO5rlUR13BdAOZW27YL3DUDGq2GTjQwVQPgnPNI71QxAAgeDeiQMFEAqPkgv/QwNQG1yhraVQhdAs4MB67KFFEA7u7DypnkSQAFWDaSpKRNAvdHIcbfpFUAULkxO+dgRQEMXaVo8HBdAL0YJCXOZD0C1j1dtlrkMQP6wF8lHPhFAKc8Uc4LcFkAEOEI+rNEWQJ2jRceqXhVACPstWHsDFEABnFH5MhUWQHfIXagyDBhAd1uSWlL8FUAa+OOFGHATQDmlcZT3qhdAD8J9gsJgEkA1vDhAE4cTQNC3I0vOOhVAgclbUa43GUALa4XfBGgYQN/GLPkUfRBAtgIpqe/xFkCSYi2el5UXQKjgTn77cRdAyex0uCL+FECCdtqMiO4UQBT9YoLZzRdAh9NKjFnGEUCfik80fZkVQEouRCIpYBxAb8E5OojoFUAdepE3vkwUQA==",
          "dtype": "f8"
         }
        },
        {
         "colorscale": [
          [
           0,
           "#0d0887"
          ],
          [
           0.1111111111111111,
           "#46039f"
          ],
          [
           0.2222222222222222,
           "#7201a8"
          ],
          [
           0.3333333333333333,
           "#9c179e"
          ],
          [
           0.4444444444444444,
           "#bd3786"
          ],
          [
           0.5555555555555556,
           "#d8576b"
          ],
          [
           0.6666666666666666,
           "#ed7953"
          ],
          [
           0.7777777777777778,
           "#fb9f3a"
          ],
          [
           0.8888888888888888,
           "#fdca26"
          ],
          [
           1,
           "#f0f921"
          ]
         ],
         "customdata": {
          "bdata": "zgAEAEcwKQAx0AQArZ0AABM8CAB9FwAAjhgAAOMUDwB4IgAAQy0AAL8uAAAOVx0AgqQCAJ+xrACSYAEAj2YAACpyAAAVLQAAiyQGACSNBwA/QgAA+TUFALrIKwA/WwEAd3EAAO7dBQCxxz0AVxUAAEXHMABOWAAAh+ICAOEeAAAdiwUAKEwCALU2AABLRg4AQPAAAOdpBQAX2AEA/1MCADtIFQABIQAA/HYIAFgXAABstgAAUhoAAEkZAACvNwAA31EAADI5AADyNQAAyEAEAOgZAABXMAMAUGEAAO4mAAA5lRIA0mMEAE9UAACvoAAALTIHAMouAACaYwQAPOcAAKg0AACZmgAAnqMFAGO7BgBFoQAAW9oAADsoAwBFTwQAxX4FAPStAAB63wIA3nsAAAvjAABjLgcAQC8KAI5CIAAJgQAABLIMANERFABzhQQAQC4AAN8iAQC/4wAAG2gCAJYoAACbKgAARnsAAMo6AACuZ+kAvhUAAJ7EAQCJjgMAgRgAAA==",
          "dtype": "i4"
         },
         "hovertemplate": "<b>%{text}</b><br>Total Cites: %{customdata:,.0f}<extra></extra>",
         "locations": [
          "ARG",
          "AUS",
          "AUT",
          "BGD",
          "BEL",
          "BEN",
          "BOL",
          "BRA",
          "BRN",
          "BGR",
          "CMR",
          "CAN",
          "CHL",
          "CHN",
          "COL",
          "CRI",
          "HRV",
          "CYP",
          "CZE",
          "DNK",
          "ECU",
          "EGY",
          "GBR",
          "EST",
          "ETH",
          "FIN",
          "FRA",
          "GEO",
          "DEU",
          "GHA",
          "GRC",
          "GRL",
          "HKG",
          "HUN",
          "ISL",
          "IND",
          "IDN",
          "IRN",
          "IRL",
          "ISR",
          "ITA",
          "JAM",
          "JPN",
          "JOR",
          "KEN",
          "KWT",
          "LVA",
          "LBN",
          "LTU",
          "LUX",
          null,
          "MYS",
          "MLT",
          "MEX",
          "MAR",
          "NPL",
          "NLD",
          "NZL",
          "NGA",
          "GBR",
          "NOR",
          "OMN",
          "PAK",
          "PAN",
          "PER",
          "PHL",
          "POL",
          "PRT",
          "QAT",
          "ROU",
          "RUS",
          "SAU",
          "GBR",
          "SRB",
          "SGP",
          "SVK",
          "SVN",
          "ZAF",
          "KOR",
          "ESP",
          "LKA",
          "SWE",
          "CHE",
          "TWN",
          "TZA",
          "THA",
          "TUN",
          "TUR",
          "UGA",
          "UKR",
          "ARE",
          "URY",
          "USA",
          "VEN",
          "VNM",
          "GBR",
          "ZWE"
         ],
         "name": "ENVIRONMENT/ECOLOGY",
         "text": [
          "ARGENTINA",
          "AUSTRALIA",
          "AUSTRIA",
          "BANGLADESH",
          "BELGIUM",
          "BENIN",
          "BOLIVIA",
          "BRAZIL",
          "BRUNEI",
          "BULGARIA",
          "CAMEROON",
          "CANADA",
          "CHILE",
          "CHINA MAINLAND",
          "COLOMBIA",
          "COSTA RICA",
          "CROATIA",
          "CYPRUS",
          "CZECH REPUBLIC",
          "DENMARK",
          "ECUADOR",
          "EGYPT",
          "ENGLAND",
          "ESTONIA",
          "ETHIOPIA",
          "FINLAND",
          "FRANCE",
          "GEORGIA",
          "GERMANY (FED REP GER)",
          "GHANA",
          "GREECE",
          "GREENLAND",
          "HONG KONG",
          "HUNGARY",
          "ICELAND",
          "INDIA",
          "INDONESIA",
          "IRAN",
          "IRELAND",
          "ISRAEL",
          "ITALY",
          "JAMAICA",
          "JAPAN",
          "JORDAN",
          "KENYA",
          "KUWAIT",
          "LATVIA",
          "LEBANON",
          "LITHUANIA",
          "LUXEMBOURG",
          "MACAU",
          "MALAYSIA",
          "MALTA",
          "MEXICO",
          "MOROCCO",
          "NEPAL",
          "NETHERLANDS",
          "NEW ZEALAND",
          "NIGERIA",
          "NORTHERN IRELAND",
          "NORWAY",
          "OMAN",
          "PAKISTAN",
          "PANAMA",
          "PERU",
          "PHILIPPINES",
          "POLAND",
          "PORTUGAL",
          "QATAR",
          "ROMANIA",
          "RUSSIA",
          "SAUDI ARABIA",
          "SCOTLAND",
          "SERBIA",
          "SINGAPORE",
          "SLOVAKIA",
          "SLOVENIA",
          "SOUTH AFRICA",
          "SOUTH KOREA",
          "SPAIN",
          "SRI LANKA",
          "SWEDEN",
          "SWITZERLAND",
          "TAIWAN",
          "TANZANIA",
          "THAILAND",
          "TUNISIA",
          "TURKIYE",
          "UGANDA",
          "UKRAINE",
          "UNITED ARAB EMIRATES",
          "URUGUAY",
          "USA",
          "VENEZUELA",
          "VIETNAM",
          "WALES",
          "ZIMBABWE"
         ],
         "type": "choropleth",
         "visible": false,
         "z": {
          "bdata": "Q5jAl++sFUDS4Mlrm7kZQEhSDsLk/hVAHxtCYo9sEkBXo+2csu0WQJp2egi6Ow5A5UUvUzZjDkD/Gt9DzvoXQF/dQeDSkA9A5kfRcItBEECB3qLj5E8QQGG0r3XBIhlA2oEcWj30FEDsFIoFDDccQJ9KMhts0hNAlreqQEqtEUB7wS+L9twRQAPF2pvGPxBApTOPHFxrFkAowPohLMcWQLG0Bpzu6hBAkmXLgTAiFkCjyMOTyNQZQMbW1cenyxNA4dR9JDvaEUD6JjaW7VYWQNvIRXXnbRpAxCRHAWzmDUDd9dAQ0gQaQFvL5qi+ahFAYQcoWT8bFUBOmuH6Ay8PQN4VDFW0PRZAATDuTwC2FEAA8INe05UQQKWtw01Z4hdAiDFGItgnE0AjbDJWLDMWQM1YiB4+VBRA+HUf0OO7FEA0tHSx9pMYQA8jqNkzag9ApfazcPT5FkD/k23aPDYOQAQimNdjrRJAYtiVp/agDkCTwCUcSH0OQFsF0JGxnRBA+0WWyxpJEUCDj1TtmqkQQDlj3CyXjxBAqLfO1N3HFUDOiumw3JIOQCXdSrbLRxVA1XtmtPCVEUD7bdlcD/0PQA/itualVxhAU9147/PVFUDZlmeuJlYRQCOupKD2dBJAwoKy2LyxFkDTjgZ7TVAQQBDc58Xd1RVA83Zmu9UWE0D1qlnf1YQQQK5HxvDKYxJAqMS2XFFFFkAWoqM7GJQWQCiI6AKVdhJA0RBehVn9EkC0dbkeW0MVQG6e1sq+zRVA87pEu9E5FkCPavEUQJgSQM+XXxVoGRVAZz2KLT0BEkDSuOY0sw4TQDc8cXDSsBZA3LyWnjVMF0Ad0zib8kwZQL7SNI5qExJAqSlRfjWuF0B7YpwV4HkYQElyI7IQ4xVALi/jUiZLEEDk3cuB33wTQATYfzoTEBNAgHxgt6XKFECL/3yfDhEQQE0vv6imJhBAZJQwKRr/EUDbWU+x07UQQJrsuDAFvRxAK7xFQgj3DUA2ISOZgkEUQJznYQZceBVAc02yBF9hDkA=",
          "dtype": "f8"
         }
        },
        {
         "colorscale": [
          [
           0,
           "#0d0887"
          ],
          [
           0.1111111111111111,
           "#46039f"
          ],
          [
           0.2222222222222222,
           "#7201a8"
          ],
          [
           0.3333333333333333,
           "#9c179e"
          ],
          [
           0.4444444444444444,
           "#bd3786"
          ],
          [
           0.5555555555555556,
           "#d8576b"
          ],
          [
           0.6666666666666666,
           "#ed7953"
          ],
          [
           0.7777777777777778,
           "#fb9f3a"
          ],
          [
           0.8888888888888888,
           "#fdca26"
          ],
          [
           1,
           "#f0f921"
          ]
         ],
         "customdata": {
          "bdata": "TOkBAEO2FAA51AMAdHoEABMfAACPjwMAxxoAAEQYAACvqBEA+00BAFSvfgCpJAAANSsAABccAAAxLwIAbDsDACcOAQA6XCgA81MAAAMjAAClEQMAxlVBAH8mKADGsgEAXNICABKsAAB+jgAA3yQIANE0AAAaGAIAbusAAAVUAQAigw8Ag0EMAJoYAACfGgAAgsQAAKrJAAAnHwAAOR4AAM4lCQAQ5QIAvEEAAIqoBgDoIQAAmRwAAO03AABCDAIAUs4BABhYAACdLwYAJl0BAKY5AwAVKwAAnv4AABE/AAAnHQAAB9ABALNXAwACyQoASgcFAJohDwBWeAEAJ9IAAOdHAACCLgAAtevDANd9AACopwEA",
          "dtype": "i4"
         },
         "hovertemplate": "<b>%{text}</b><br>Total Cites: %{customdata:,.0f}<extra></extra>",
         "locations": [
          "ARG",
          "AUS",
          "AUT",
          "BEL",
          "BMU",
          "BRA",
          "BGR",
          "CMR",
          "CAN",
          "CHL",
          "CHN",
          "COL",
          "HRV",
          "CYP",
          "CZE",
          "DNK",
          "EGY",
          "GBR",
          "EST",
          "ETH",
          "FIN",
          "FRA",
          "DEU",
          "GRC",
          "HKG",
          "HUN",
          "ISL",
          "IND",
          "IDN",
          "IRN",
          "IRL",
          "ISR",
          "ITA",
          "JPN",
          "LUX",
          null,
          "MYS",
          "MEX",
          "MAR",
          "NPL",
          "NLD",
          "NZL",
          "GBR",
          "NOR",
          "PAK",
          "PAN",
          "PHL",
          "POL",
          "PRT",
          "ROU",
          "RUS",
          "SAU",
          "GBR",
          "SRB",
          "SGP",
          "SVK",
          "SVN",
          "ZAF",
          "KOR",
          "ESP",
          "SWE",
          "CHE",
          "TWN",
          "TUR",
          "UKR",
          "ARE",
          "USA",
          "VNM",
          "GBR"
         ],
         "name": "GEOSCIENCES",
         "text": [
          "ARGENTINA",
          "AUSTRALIA",
          "AUSTRIA",
          "BELGIUM",
          "BERMUDA",
          "BRAZIL",
          "BULGARIA",
          "CAMEROON",
          "CANADA",
          "CHILE",
          "CHINA MAINLAND",
          "COLOMBIA",
          "CROATIA",
          "CYPRUS",
          "CZECH REPUBLIC",
          "DENMARK",
          "EGYPT",
          "ENGLAND",
          "ESTONIA",
          "ETHIOPIA",
          "FINLAND",
          "FRANCE",
          "GERMANY (FED REP GER)",
          "GREECE",
          "HONG KONG",
          "HUNGARY",
          "ICELAND",
          "INDIA",
          "INDONESIA",
          "IRAN",
          "IRELAND",
          "ISRAEL",
          "ITALY",
          "JAPAN",
          "LUXEMBOURG",
          "MACAU",
          "MALAYSIA",
          "MEXICO",
          "MOROCCO",
          "NEPAL",
          "NETHERLANDS",
          "NEW ZEALAND",
          "NORTHERN IRELAND",
          "NORWAY",
          "PAKISTAN",
          "PANAMA",
          "PHILIPPINES",
          "POLAND",
          "PORTUGAL",
          "ROMANIA",
          "RUSSIA",
          "SAUDI ARABIA",
          "SCOTLAND",
          "SERBIA",
          "SINGAPORE",
          "SLOVAKIA",
          "SLOVENIA",
          "SOUTH AFRICA",
          "SOUTH KOREA",
          "SPAIN",
          "SWEDEN",
          "SWITZERLAND",
          "TAIWAN",
          "TURKIYE",
          "UKRAINE",
          "UNITED ARAB EMIRATES",
          "USA",
          "VIETNAM",
          "WALES"
         ],
         "type": "choropleth",
         "visible": false,
         "z": {
          "bdata": "KPQ32ClkFECu8Ujj4ocYQF5DXfEnmRVAQsek8dHeFUDymz92nzQPQN0WterbeBVAR3Jr5EWwDkB7IE1hrlgOQMzUGpX3QBhAZPM+U1W6E0CKFK4CRK0bQHi57eGjxw9AOt27uuIsEECosx0B1NoOQMafDvOKnxRAXH460spNFUCg/fDxAlwTQAB8OY2SsBlAyNu4YEBUEUArnO9JuZ4PQMK7Q1/ANhVAJr7hCcmGGkCzFaD3QK4ZQC+rOn+fLxRAAfw+TWcRFUAEJk8kaZMSQCaMLi6IPxJA6JgXksboFkCiow6YL4YQQDBJUTvKjBRA/6JVvNQeE0C5i66DTcITQEebzpZTBxhA+Q3Cq4qeF0BI31OD6GQOQCk3r44Rqw5AJt8trnfOEkCZlDZm/NkSQNHHWCHbNg9AlIaOYOkbD0A+fqVWdRwXQPGp6HvFHBVABxhp1HvnEEDL2vdKNI8WQIrfP9wwgg9AaJQw/cLqDkBk8Pefn58QQIFIDOPaghRA0cU9bvFKFECxO6tkrmkRQFJm4MJ6bhZAsyuGxRXOE0AHKSKM1kwVQAwqRuqYKxBAuroDb6xBE0Cz8k76DtUQQPbb4ozY+w5A67GlA5VMFEAnkaSRvFwVQBwTgw2xZRdAFsPW7VgSFkB+KbeTRPwXQL8isY1u7xNANO9ZMFLsEkAPJULkXQ8RQO8l1yGfTRBAuJ8rcipvHEDaRwXtQwgSQOigopAaJBRA",
          "dtype": "f8"
         }
        },
        {
         "colorscale": [
          [
           0,
           "#0d0887"
          ],
          [
           0.1111111111111111,
           "#46039f"
          ],
          [
           0.2222222222222222,
           "#7201a8"
          ],
          [
           0.3333333333333333,
           "#9c179e"
          ],
          [
           0.4444444444444444,
           "#bd3786"
          ],
          [
           0.5555555555555556,
           "#d8576b"
          ],
          [
           0.6666666666666666,
           "#ed7953"
          ],
          [
           0.7777777777777778,
           "#fb9f3a"
          ],
          [
           0.8888888888888888,
           "#fdca26"
          ],
          [
           1,
           "#f0f921"
          ]
         ],
         "customdata": {
          "bdata": "C6oAAMxtEgBICwIAsTIAAEKOBQCRvwMAXOYKALxTAABBqBkAxnUAAKM0AABAywAATzsEABkpAQCs9B4A6iUAAITCAAAyfAEAZ7MmAO4+HAAbOgAAwS0BAOMrAQCAQQAA+YYBANTWAQABTAEAWzQEAIIwDwBuCwcAf28AAJ8eAAC9KgAAlxkAAJwqAAANPgAAdikAAMCcAAByGwAAkBsAAMAUDgDNcwAAYBgAAH8fAADYpwEAFi0AAOYgAAB+PwAAlp0BAAoPAQAVmAAAhCsAAEh+AAAVBwEA2wECAPI0AAAxJQMADh0AAF7LAwB7kgMAUXwNACeDBQAUOQwAKwgCAJc0AAASRgEAwhkAACp+AAB0UwAAxuytABcuAADkiwAAySEAAPobAAA=",
          "dtype": "i4"
         },
         "hovertemplate": "<b>%{text}</b><br>Total Cites: %{customdata:,.0f}<extra></extra>",
         "locations": [
          "ARG",
          "AUS",
          "AUT",
          "BGD",
          "BEL",
          "BRA",
          "CAN",
          "CHL",
          "CHN",
          "COL",
          "HRV",
          "CZE",
          "DNK",
          "EGY",
          "GBR",
          "EST",
          "ETH",
          "FIN",
          "FRA",
          "DEU",
          "GHA",
          "GRC",
          "HKG",
          "HUN",
          "IND",
          "IRN",
          "IRL",
          "ISR",
          "ITA",
          "JPN",
          "KEN",
          "KWT",
          "LBN",
          "LTU",
          "LUX",
          "MWI",
          "MYS",
          "MEX",
          "MAR",
          "MOZ",
          "NLD",
          "NZL",
          "NGA",
          "GBR",
          "NOR",
          "PAK",
          "PER",
          "PHL",
          "POL",
          "PRT",
          "QAT",
          "ROU",
          "RUS",
          "SAU",
          "GBR",
          "SRB",
          "SGP",
          "SVN",
          "ZAF",
          "KOR",
          "ESP",
          "SWE",
          "CHE",
          "TWN",
          "TZA",
          "THA",
          "TUN",
          "TUR",
          "UGA",
          "USA",
          "VNM",
          "GBR",
          "ZMB",
          "ZWE"
         ],
         "name": "IMMUNOLOGY",
         "text": [
          "ARGENTINA",
          "AUSTRALIA",
          "AUSTRIA",
          "BANGLADESH",
          "BELGIUM",
          "BRAZIL",
          "CANADA",
          "CHILE",
          "CHINA MAINLAND",
          "COLOMBIA",
          "CROATIA",
          "CZECH REPUBLIC",
          "DENMARK",
          "EGYPT",
          "ENGLAND",
          "ESTONIA",
          "ETHIOPIA",
          "FINLAND",
          "FRANCE",
          "GERMANY (FED REP GER)",
          "GHANA",
          "GREECE",
          "HONG KONG",
          "HUNGARY",
          "INDIA",
          "IRAN",
          "IRELAND",
          "ISRAEL",
          "ITALY",
          "JAPAN",
          "KENYA",
          "KUWAIT",
          "LEBANON",
          "LITHUANIA",
          "LUXEMBOURG",
          "MALAWI",
          "MALAYSIA",
          "MEXICO",
          "MOROCCO",
          "MOZAMBIQUE",
          "NETHERLANDS",
          "NEW ZEALAND",
          "NIGERIA",
          "NORTHERN IRELAND",
          "NORWAY",
          "PAKISTAN",
          "PERU",
          "PHILIPPINES",
          "POLAND",
          "PORTUGAL",
          "QATAR",
          "ROMANIA",
          "RUSSIA",
          "SAUDI ARABIA",
          "SCOTLAND",
          "SERBIA",
          "SINGAPORE",
          "SLOVENIA",
          "SOUTH AFRICA",
          "SOUTH KOREA",
          "SPAIN",
          "SWEDEN",
          "SWITZERLAND",
          "TAIWAN",
          "TANZANIA",
          "THAILAND",
          "TUNISIA",
          "TURKIYE",
          "UGANDA",
          "USA",
          "VIETNAM",
          "WALES",
          "ZAMBIA",
          "ZIMBABWE"
         ],
         "type": "choropleth",
         "visible": false,
         "z": {
          "bdata": "6M3V2COOEkBO5lxz8lMYQCrO454GghRAvyrUvOxzEEAQdCtSsD4WQJGm7jKvjxVAAePc8mRqF0CtDV+oHFMRQCWPAlIb5xhAxED9Ec7qEUCZBK+jq4QQQPU0BDV43RJAUVRJJaDFFUD0tlXZSoYTQP7IvkOYOhlAt9oE1ozlD0CXHV2h78kSQD+0Zh748xNAvPiVluadGUClF6ZO2hEZQFFF5zagsBBA9yziQjWNE0AS3vudcooTQMbhyDTl5RBAfjS2amYAFED+tz5xDVMUQIna6o6xtxNAjg5EEsPCFUAh2hrX+f0XQKHgzcZIqBZA5Rb1enLSEUAfIwwujycPQKro0vcIKBBAdv+LCO+HDkDac4QYsSYQQG8vpsLWzRBAn4OnxYoaEECRrn778GkSQB9sTVMvxg5AuNsYWPnJDkCGWKJCR9wXQHuxGhVL4xFAbomROa5cDkBOs/2OnUAPQCbWifBMJBRAoSLfeNA/EEAACFQjW2cPQNz2IfgM2BBAInWQv2cZFECsoVMCeF0TQB4oOTZ/XBJA19YG5AwwEEBZ7GyO0gkSQMQzWbs3UBNA+by2OPF5FEBjy9kYRYcQQCtSSTuuQRVAfB/9n9z4DkDjNsXBHpUVQB17M0FIehVAcl7VPxDJF0D8kZjfMzsWQCMk8TxYnRdAhGT/Ql9/FEBh8k43RoQQQJkD+nysrxNA9iYvfcCNDkD2u3vcaAkSQJSt4qKdURFAnWNetzQ6HEDbM9pvm0kQQOFLK3JWNxJAwRcLTQJ/D0Clm5EFPNcOQA==",
          "dtype": "f8"
         }
        },
        {
         "colorscale": [
          [
           0,
           "#0d0887"
          ],
          [
           0.1111111111111111,
           "#46039f"
          ],
          [
           0.2222222222222222,
           "#7201a8"
          ],
          [
           0.3333333333333333,
           "#9c179e"
          ],
          [
           0.4444444444444444,
           "#bd3786"
          ],
          [
           0.5555555555555556,
           "#d8576b"
          ],
          [
           0.6666666666666666,
           "#ed7953"
          ],
          [
           0.7777777777777778,
           "#fb9f3a"
          ],
          [
           0.8888888888888888,
           "#fdca26"
          ],
          [
           1,
           "#f0f921"
          ]
         ],
         "customdata": {
          "bdata": "likAAO97AAAAvR4A+vUCAL11AABMkgUAVRsEAPgtAAAalg8ADi8AAOWu7QECJwAANOsDAPXJAgA10wkA9xgeAOZ9AACd4AIAb4UsADIBLwDpUwEAbrcPAK7RAACrrycAKSUAAOTVDADrJAAATAoCADcFAwDrkxEAd58YAEQnAAC/IQAA9GEAAMZXAAABPgEAyoUEAMV/AQD6LgAARNoHAPNEAQDIwwAAY3sBAC9sAwBfpgYA2pwEADN2AQD9PAEAxBQKAEmdDADb4QEAxXIAAIg3FQAEgwAAPIkBAApaAQCFGzgA04QUAKoaBwDDnRAAP6cLAIX8AQADGwEAWncDAAcVAQDgDwEAmWn8AFd0AQDp3wAA",
          "dtype": "i4"
         },
         "hovertemplate": "<b>%{text}</b><br>Total Cites: %{customdata:,.0f}<extra></extra>",
         "locations": [
          "DZA",
          "ARG",
          "AUS",
          "AUT",
          "BLR",
          "BEL",
          "BRA",
          "BGR",
          "CAN",
          "CHL",
          "CHN",
          "HRV",
          "CZE",
          "DNK",
          "EGY",
          "GBR",
          "EST",
          "FIN",
          "FRA",
          "DEU",
          "GRC",
          "HKG",
          "HUN",
          "IND",
          "IDN",
          "IRN",
          "IRQ",
          "IRL",
          "ISR",
          "ITA",
          "JPN",
          "KAZ",
          "LVA",
          "LTU",
          "LUX",
          null,
          "MYS",
          "MEX",
          "MAR",
          "NLD",
          "NZL",
          "GBR",
          "NOR",
          "PAK",
          "POL",
          "PRT",
          "QAT",
          "ROU",
          "RUS",
          "SAU",
          "GBR",
          "SRB",
          "SGP",
          "SVK",
          "SVN",
          "ZAF",
          "KOR",
          "ESP",
          "SWE",
          "CHE",
          "TWN",
          "THA",
          "TUN",
          "TUR",
          "UKR",
          "ARE",
          "USA",
          "VNM",
          "GBR"
         ],
         "name": "MATERIALS SCIENCE",
         "text": [
          "ALGERIA",
          "ARGENTINA",
          "AUSTRALIA",
          "AUSTRIA",
          "BELARUS",
          "BELGIUM",
          "BRAZIL",
          "BULGARIA",
          "CANADA",
          "CHILE",
          "CHINA MAINLAND",
          "CROATIA",
          "CZECH REPUBLIC",
          "DENMARK",
          "EGYPT",
          "ENGLAND",
          "ESTONIA",
          "FINLAND",
          "FRANCE",
          "GERMANY (FED REP GER)",
          "GREECE",
          "HONG KONG",
          "HUNGARY",
          "INDIA",
          "INDONESIA",
          "IRAN",
          "IRAQ",
          "IRELAND",
          "ISRAEL",
          "ITALY",
          "JAPAN",
          "KAZAKHSTAN",
          "LATVIA",
          "LITHUANIA",
          "LUXEMBOURG",
          "MACAU",
          "MALAYSIA",
          "MEXICO",
          "MOROCCO",
          "NETHERLANDS",
          "NEW ZEALAND",
          "NORTHERN IRELAND",
          "NORWAY",
          "PAKISTAN",
          "POLAND",
          "PORTUGAL",
          "QATAR",
          "ROMANIA",
          "RUSSIA",
          "SAUDI ARABIA",
          "SCOTLAND",
          "SERBIA",
          "SINGAPORE",
          "SLOVAKIA",
          "SLOVENIA",
          "SOUTH AFRICA",
          "SOUTH KOREA",
          "SPAIN",
          "SWEDEN",
          "SWITZERLAND",
          "TAIWAN",
          "THAILAND",
          "TUNISIA",
          "TURKIYE",
          "UKRAINE",
          "UNITED ARAB EMIRATES",
          "USA",
          "VIETNAM",
          "WALES"
         ],
         "type": "choropleth",
         "visible": false,
         "z": {
          "bdata": "bx0XduEbEEAaWb8xegESQONTs6V1NxlAuc9pus4mFUBc8vkUrOoRQP2ZZS3zPxZACtVZEE24FUDw4bPzb0gQQP4GBhtyCRhAuWrL69FSEECe8FqjKgoeQEqPrc3X/g9A5ji1L3ajFUDpF/RKMwwVQGUCHNY5PBdAP2zOUhcuGUDpufzreAgSQNXmi+cXGhVAuslEVDXcGUCbChQVWfQZQHmpIOMowhNADk9FFyUNGEAB/FfZUesSQMfo8R8VqRlAALLCDrDTD0ABts1NF7MXQNAYXWDfzQ9Aj3BIQTCBFECAPLXLqC8VQFRAEWzrPhhAJMA4p87UGEBU+6XMWQIQQH6cwer6fQ9ATOuXstuYEUCKos2zD2gRQC5Cl7WIpBNAQm4/HjLjFUBmkShkIfgTQOWbFMIUUhBAXJI885HYFkC3yUFjJK4TQKe7rfjRzBJA7pfbuwXzE0DQA8HRQWcVQO8Jg2ajjhZAuUremffrFUBfCYxT5uwTQLGe54ccoxNARm3nPqtHF0DBQnr7XKsXQA3rtx5ZXRRA8Rf0t1DfEUCRjcg0mZIYQBcpwJgwGhJAMFjMGvcCFEBoIR9cG8oTQDu5hq4SQxpAhUr5aLiDGEC8vBp1BqwWQD+ddd/mJRhAnqRtsx6IF0C3RmnXTHUUQMtf4QuxcBNATSA8w+NsFUD0ecrqL2cTQNsAnZfWXhNAVq86RNbfHECFliU4r+oTQNUrU2OFCBNA",
          "dtype": "f8"
         }
        },
        {
         "colorscale": [
          [
           0,
           "#0d0887"
          ],
          [
           0.1111111111111111,
           "#46039f"
          ],
          [
           0.2222222222222222,
           "#7201a8"
          ],
          [
           0.3333333333333333,
           "#9c179e"
          ],
          [
           0.4444444444444444,
           "#bd3786"
          ],
          [
           0.5555555555555556,
           "#d8576b"
          ],
          [
           0.6666666666666666,
           "#ed7953"
          ],
          [
           0.7777777777777778,
           "#fb9f3a"
          ],
          [
           0.8888888888888888,
           "#fdca26"
          ],
          [
           1,
           "#f0f921"
          ]
         ],
         "customdata": {
          "bdata": "QjIAAJSrAACCWQAAwhUAAM1aAABwVQAA4kYBANsVAADrYg4AORUAAKJZAADoRQAAN/kAADhpAgCdRAAA7eQHACFsAgAuFgAAh+IAALQvAADWywAARHUAAD9xAABurAIAxk4AAGoXAACoGAAA8SsAAHhhAAAXegAA+JoAAN4hAAAyswAApWgBAB3fAQARSAAAvSwAAK0yAABYHgAAERwAAEtXAAB7RAEATzMAACyGAQCNAQEAslQAAM4WAAAC0BMAJywAAA==",
          "dtype": "i4"
         },
         "hovertemplate": "<b>%{text}</b><br>Total Cites: %{customdata:,.0f}<extra></extra>",
         "locations": [
          "ARG",
          "AUS",
          "AUT",
          "AZE",
          "BEL",
          "BRA",
          "CAN",
          "CHL",
          "CHN",
          "HRV",
          "CZE",
          "DNK",
          "EGY",
          "GBR",
          "FIN",
          "FRA",
          "DEU",
          "GRC",
          "HKG",
          "HUN",
          "IND",
          "IRN",
          "ISR",
          "ITA",
          "JPN",
          null,
          "MEX",
          "NLD",
          "NOR",
          "PAK",
          "POL",
          "PRT",
          "ROU",
          "RUS",
          "SAU",
          "GBR",
          "SRB",
          "SGP",
          "SVN",
          "ZAF",
          "KOR",
          "ESP",
          "SWE",
          "CHE",
          "TWN",
          "TUR",
          "UKR",
          "USA",
          "VNM"
         ],
         "name": "MATHEMATICS",
         "text": [
          "ARGENTINA",
          "AUSTRALIA",
          "AUSTRIA",
          "AZERBAIJAN",
          "BELGIUM",
          "BRAZIL",
          "CANADA",
          "CHILE",
          "CHINA MAINLAND",
          "CROATIA",
          "CZECH REPUBLIC",
          "DENMARK",
          "EGYPT",
          "ENGLAND",
          "FINLAND",
          "FRANCE",
          "GERMANY (FED REP GER)",
          "GREECE",
          "HONG KONG",
          "HUNGARY",
          "INDIA",
          "IRAN",
          "ISRAEL",
          "ITALY",
          "JAPAN",
          "MACAU",
          "MEXICO",
          "NETHERLANDS",
          "NORWAY",
          "PAKISTAN",
          "POLAND",
          "PORTUGAL",
          "ROMANIA",
          "RUSSIA",
          "SAUDI ARABIA",
          "SCOTLAND",
          "SERBIA",
          "SINGAPORE",
          "SLOVENIA",
          "SOUTH AFRICA",
          "SOUTH KOREA",
          "SPAIN",
          "SWEDEN",
          "SWITZERLAND",
          "TAIWAN",
          "TURKIYE",
          "UKRAINE",
          "USA",
          "VIETNAM"
         ],
         "type": "choropleth",
         "visible": false,
         "z": {
          "bdata": "phZN0RpwEEDqfcYII5ISQLeE0ELDcBFArq7Ezav3DUDQw8b9I3cRQOBQbu8QXBFAW/Qh0cewE0BiOn9Op/sNQND5N6DR5RdApzsYZ4bhDUDlAWoiYnERQB/GntLYAhFA9gF56SI4E0DI44o/c8sUQL8P7IaL+hBAHPR8EuzaFkCcWQfFis0UQF1OgrC/CA5AX4EdXbANE0BbNcH151gQQLSY9+6/3hJAsonDI+LoEUDkPT5zX9kRQNKyGsBq+RRAEb904/M3EUCruJmJ6TgOQHP/gQXiZg5A4BOsU2E0EEByIrxZp5YRQO0nHNLP+hFAZIhl4ttkEkDct+FqKoEPQNuX/jJ0pRJAEHRk5n3cE0BDGzhhz1oUQDaGQFphEBFAFtpKRV88EEDzEoykyXMQQDnzsL93Hw9AJLTF9xXaDkAl+urRnmURQK0IxQqArRNAeXe8Zk55EEB9zfP/fP8TQJu2657ERhNAkoUTrS9YEUBe9wYRdiEOQPevsG0kdBhAinYJfYI2EEA=",
          "dtype": "f8"
         }
        },
        {
         "colorscale": [
          [
           0,
           "#0d0887"
          ],
          [
           0.1111111111111111,
           "#46039f"
          ],
          [
           0.2222222222222222,
           "#7201a8"
          ],
          [
           0.3333333333333333,
           "#9c179e"
          ],
          [
           0.4444444444444444,
           "#bd3786"
          ],
          [
           0.5555555555555556,
           "#d8576b"
          ],
          [
           0.6666666666666666,
           "#ed7953"
          ],
          [
           0.7777777777777778,
           "#fb9f3a"
          ],
          [
           0.8888888888888888,
           "#fdca26"
          ],
          [
           1,
           "#f0f921"
          ]
         ],
         "customdata": {
          "bdata": "lbMAAMKJBgAI4AAA3LUCAPsWAwDdXgUAjiMAAJCGGQBNeQEA4+ACAMcyAQDgNQ0AzjgAAP/uAADUYxUAfrUOABY5AADJ9AAAMF4AACThAQD8rAAAfBQBAOA3AQCraQMA0wsDAE0tAADXowAAB6kGADp+AAB9MQAABKcAACx2AAB++wAAmtwAAFOQAAB3DwIAQRQBAFgeAAB/JgAATTUBAJNHAgBzVAUAfhoCAAYfBQBkWQAA25oAALwXAAAwGQAAPa5XAPVJAAA=",
          "dtype": "i4"
         },
         "hovertemplate": "<b>%{text}</b><br>Total Cites: %{customdata:,.0f}<extra></extra>",
         "locations": [
          "ARG",
          "AUS",
          "AUT",
          "BEL",
          "BRA",
          "CAN",
          "CHL",
          "CHN",
          "CZE",
          "DNK",
          "EGY",
          "GBR",
          "EST",
          "FIN",
          "FRA",
          "DEU",
          "GRC",
          "HKG",
          "HUN",
          "IND",
          "IRN",
          "IRL",
          "ISR",
          "ITA",
          "JPN",
          "MYS",
          "MEX",
          "NLD",
          "NZL",
          "GBR",
          "NOR",
          "POL",
          "PRT",
          "RUS",
          "SAU",
          "GBR",
          "SGP",
          "SVK",
          "SVN",
          "ZAF",
          "KOR",
          "ESP",
          "SWE",
          "CHE",
          "TWN",
          "THA",
          "TUN",
          "URY",
          "USA",
          "GBR"
         ],
         "name": "MICROBIOLOGY",
         "text": [
          "ARGENTINA",
          "AUSTRALIA",
          "AUSTRIA",
          "BELGIUM",
          "BRAZIL",
          "CANADA",
          "CHILE",
          "CHINA MAINLAND",
          "CZECH REPUBLIC",
          "DENMARK",
          "EGYPT",
          "ENGLAND",
          "ESTONIA",
          "FINLAND",
          "FRANCE",
          "GERMANY (FED REP GER)",
          "GREECE",
          "HONG KONG",
          "HUNGARY",
          "INDIA",
          "IRAN",
          "IRELAND",
          "ISRAEL",
          "ITALY",
          "JAPAN",
          "MALAYSIA",
          "MEXICO",
          "NETHERLANDS",
          "NEW ZEALAND",
          "NORTHERN IRELAND",
          "NORWAY",
          "POLAND",
          "PORTUGAL",
          "RUSSIA",
          "SAUDI ARABIA",
          "SCOTLAND",
          "SINGAPORE",
          "SLOVAKIA",
          "SLOVENIA",
          "SOUTH AFRICA",
          "SOUTH KOREA",
          "SPAIN",
          "SWEDEN",
          "SWITZERLAND",
          "TAIWAN",
          "THAILAND",
          "TUNISIA",
          "URUGUAY",
          "USA",
          "WALES"
         ],
         "type": "choropleth",
         "visible": false,
         "z": {
          "bdata": "QJNEn2mmEkD9ysCZGYcWQDSh0fDCCBNAIeZskID/FECuzxH8wjkVQKCg/uGdLxZAm98O8misD0CvzAvY0eQYQOMmyA6S8BNAC0dfKEIaFUDEfeTojJQTQCllHkTlvxdAMgdxxY6mEEAIh5VlhCUTQIS11+w1lhhAETEd/q3vF0DcApQFwagQQP0PXyYpMBNAJDjk3myHEUBlYqsZsFwUQPtYkU3ElRJAcdbVj1BmE0DxTcUf4ZsTQHKED3v6ZRVAaxnL0HEzFUAbdv+k7UEQQG7d7CmdfRJAxJad5lSPFkCaB4M+oQkSQDPf3kU+aRBA4zgZwiaGEkCiyFmQTuwRQN4VF4UuPBNAIV8hmuYBE0C5etyONkUSQGjFxTKRhRRA8lWtn/FlE0A587C/dx8PQIYgklkZ8w9Ap7ddiTGYE0Bh3DPqhbIUQEgwAkA8LBZAGFMbx8SOFECk7zrfeBoWQCj7kh0ucBFAkt5PoohkEkAltsLc/kQOQB91qiPXeQ5APwxl25sJG0A/pbBs5RsRQA==",
          "dtype": "f8"
         }
        },
        {
         "colorscale": [
          [
           0,
           "#0d0887"
          ],
          [
           0.1111111111111111,
           "#46039f"
          ],
          [
           0.2222222222222222,
           "#7201a8"
          ],
          [
           0.3333333333333333,
           "#9c179e"
          ],
          [
           0.4444444444444444,
           "#bd3786"
          ],
          [
           0.5555555555555556,
           "#d8576b"
          ],
          [
           0.6666666666666666,
           "#ed7953"
          ],
          [
           0.7777777777777778,
           "#fb9f3a"
          ],
          [
           0.8888888888888888,
           "#fdca26"
          ],
          [
           1,
           "#f0f921"
          ]
         ],
         "customdata": {
          "bdata": "TSsBAKmwHgAkpAkAY50JAO3RAwDOCh0AL7gAAGI8aQD2pQAA0NoBAJYaDAAo7QAASYxNAMtGAQCjywkANFxMAMuGTgCtvgEAPRQDAL2zAQCeNQIAoIICAKdNAwBFsgIAHVMIABnFGwACQAAA4kAWAE05AACufgAARqIAAOs6AADdJQEAYMIgAAjaAABbnQAAtn8EAHlKAgAQAAMAMJwAACOpAwDQ4QIAPxoIAHtBAAD4RgcAMlsAAK6VAQA2sgsAr6EfAEQwDgCbjRYACREGANlWAADuPQAAsVgBApNJAQA=",
          "dtype": "i4"
         },
         "hovertemplate": "<b>%{text}</b><br>Total Cites: %{customdata:,.0f}<extra></extra>",
         "locations": [
          "ARG",
          "AUS",
          "AUT",
          "BEL",
          "BRA",
          "CAN",
          "CHL",
          "CHN",
          "HRV",
          "CZE",
          "DNK",
          "EGY",
          "GBR",
          "EST",
          "FIN",
          "FRA",
          "DEU",
          "GRC",
          "HKG",
          "HUN",
          "ISL",
          "IND",
          "IRN",
          "IRL",
          "ISR",
          "ITA",
          "JAM",
          "JPN",
          "LTU",
          "LUX",
          null,
          "MYS",
          "MEX",
          "NLD",
          "NZL",
          "GBR",
          "NOR",
          "POL",
          "PRT",
          "QAT",
          "RUS",
          "SAU",
          "GBR",
          "SRB",
          "SGP",
          "SVN",
          "ZAF",
          "KOR",
          "ESP",
          "SWE",
          "CHE",
          "TWN",
          "THA",
          "TUR",
          "USA",
          "GBR"
         ],
         "name": "MOLECULAR BIOLOGY & GENETICS",
         "text": [
          "ARGENTINA",
          "AUSTRALIA",
          "AUSTRIA",
          "BELGIUM",
          "BRAZIL",
          "CANADA",
          "CHILE",
          "CHINA MAINLAND",
          "CROATIA",
          "CZECH REPUBLIC",
          "DENMARK",
          "EGYPT",
          "ENGLAND",
          "ESTONIA",
          "FINLAND",
          "FRANCE",
          "GERMANY (FED REP GER)",
          "GREECE",
          "HONG KONG",
          "HUNGARY",
          "ICELAND",
          "INDIA",
          "IRAN",
          "IRELAND",
          "ISRAEL",
          "ITALY",
          "JAMAICA",
          "JAPAN",
          "LITHUANIA",
          "LUXEMBOURG",
          "MACAU",
          "MALAYSIA",
          "MEXICO",
          "NETHERLANDS",
          "NEW ZEALAND",
          "NORTHERN IRELAND",
          "NORWAY",
          "POLAND",
          "PORTUGAL",
          "QATAR",
          "RUSSIA",
          "SAUDI ARABIA",
          "SCOTLAND",
          "SERBIA",
          "SINGAPORE",
          "SLOVENIA",
          "SOUTH AFRICA",
          "SOUTH KOREA",
          "SPAIN",
          "SWEDEN",
          "SWITZERLAND",
          "TAIWAN",
          "THAILAND",
          "TURKIYE",
          "USA",
          "WALES"
         ],
         "type": "choropleth",
         "visible": false,
         "z": {
          "bdata": "fXSs9ZOJE0B33db5wjYZQKb7uUDTMxdA6ZQcSpsyF0DjUmbcHJgVQA67Ts43HhlAyVbbA6qxEkC0JRtwxVobQEMm8I5VgxJAV06f0MxWFECjUaJg/ZgXQDbtnZgUIhNAR8O06v7SGkDx556FqLATQLsD1KjiOhdAGiCulyHMGkAQb3uGktgaQM02JEOiOxRA0ip/nDc4FUBzMDrdmzAUQGNoRrqfpBRAH8pMl2PdFEDgnCn3e1cVQEgYVgUy/RRAxQgLGYjyFkAPUmzGSwoZQNvKqr6l2xBA5TMmhM+nGEAXG+CnbKoQQLQl+y85CxJA2hd6gFd5EkDm7BwJzbYQQJwUlKhsgRNANEyDKsdTGUDrqN1asPwSQOq2gOCnaxJAh00s39rgFUCbAXD1ubQUQGuA+aGvLBVAXUymtldoEkDEph1yKoUVQMTNRhnRGhVA1f2x5IDmFkDx81dBw+UQQNv+RKq6thZAj8SwkRF5EUDEAdRY0hAUQNWJomDAiRdAQzD7CzNEGUB7vhL6qN8XQAMBJ4bCrRhA6Jib+M5lFkDfTgOVWGMRQAySZ2H4zBBABgJlL4kbHkClELRWbbQTQA==",
          "dtype": "f8"
         }
        },
        {
         "colorscale": [
          [
           0,
           "#0d0887"
          ],
          [
           0.1111111111111111,
           "#46039f"
          ],
          [
           0.2222222222222222,
           "#7201a8"
          ],
          [
           0.3333333333333333,
           "#9c179e"
          ],
          [
           0.4444444444444444,
           "#bd3786"
          ],
          [
           0.5555555555555556,
           "#d8576b"
          ],
          [
           0.6666666666666666,
           "#ed7953"
          ],
          [
           0.7777777777777778,
           "#fb9f3a"
          ],
          [
           0.8888888888888888,
           "#fdca26"
          ],
          [
           1,
           "#f0f921"
          ]
         ],
         "customdata": {
          "bdata": "5nMAAAxMAABnFwAAq5YAABgMAgCGTQAAaR0AAD8gAgB5FAAAD9wBAJhVAQBUJQAA8Q0AAB4XAACDXAAALfwAAJsYAABuGgAAjUIAAP0eAAAiVAAAslAAAHd2AAABnw4A",
          "dtype": "i4"
         },
         "hovertemplate": "<b>%{text}</b><br>Total Cites: %{customdata:,.0f}<extra></extra>",
         "locations": [
          "AUS",
          "BEL",
          "BRA",
          "CAN",
          "CHN",
          "DNK",
          "EGY",
          "GBR",
          "FIN",
          "FRA",
          "DEU",
          "HKG",
          "ISR",
          "ITA",
          "JPN",
          "NLD",
          "SAU",
          "GBR",
          "SGP",
          "KOR",
          "ESP",
          "SWE",
          "CHE",
          "USA"
         ],
         "name": "MULTIDISCIPLINARY",
         "text": [
          "AUSTRALIA",
          "BELGIUM",
          "BRAZIL",
          "CANADA",
          "CHINA MAINLAND",
          "DENMARK",
          "EGYPT",
          "ENGLAND",
          "FINLAND",
          "FRANCE",
          "GERMANY (FED REP GER)",
          "HONG KONG",
          "ISRAEL",
          "ITALY",
          "JAPAN",
          "NETHERLANDS",
          "SAUDI ARABIA",
          "SCOTLAND",
          "SINGAPORE",
          "SOUTH KOREA",
          "SPAIN",
          "SWEDEN",
          "SWITZERLAND",
          "USA"
         ],
         "type": "choropleth",
         "visible": false,
         "z": {
          "bdata": "vAtFDKvjEUAgXFSzSSgRQMuH+5B3OA5AezKGuldYEkDisPpAt4IUQC4ThuzWMBFAA6KgFa0DD0ADcZnNfpMUQNBL36aHwQ1AeIO1M/dXFECH3/xhW8QTQIDD+9ey1w9Am+xNUN1rDEAijqSJkC0OQOewLyVxfxFAdajtjGM9E0CPKHKoDGUOQHLCJcCmpA5A8K9JAPnsEEAsXev2KDIPQJm+MRM5VRFA0dbdAqxCEUDLFyB0aO0RQC9MkAgE7RdA",
          "dtype": "f8"
         }
        },
        {
         "colorscale": [
          [
           0,
           "#0d0887"
          ],
          [
           0.1111111111111111,
           "#46039f"
          ],
          [
           0.2222222222222222,
           "#7201a8"
          ],
          [
           0.3333333333333333,
           "#9c179e"
          ],
          [
           0.4444444444444444,
           "#bd3786"
          ],
          [
           0.5555555555555556,
           "#d8576b"
          ],
          [
           0.6666666666666666,
           "#ed7953"
          ],
          [
           0.7777777777777778,
           "#fb9f3a"
          ],
          [
           0.8888888888888888,
           "#fdca26"
          ],
          [
           1,
           "#f0f921"
          ]
         ],
         "customdata": {
          "bdata": "3iEAAP3ZAADOfCAAXmEDAFRIAAC+pAcAdu0EAP1DIQDq7wAAiUQhANHJAAB6OgAAyiYAAAHbAQDajggA8eMBANRfNgDNXAAAjzQBAIA0BQDDWDUAgiU/AGeEAQD9rgEA6XsBAGYiAABrRwMAy6oFAIJCAgCbugQARqAeAPuHDQCnTwAAYSAAAOJVAACgYwAAxo0AAFusAACnIQAA3SAAAEF6GgCwqQEAThEBAL8nAADeAgQAKHAAAC5rAADxqAIAD4oCAAqLAABhQwAAnRYBAJ5gAQCrIgQA5KoAAGqlAgADVQAAIEsAAOBpAQArgwgAMykVAOYtAAD60wwAvrwPAJloAwA/VwAA8pYAAIpOAADUwUwBBboAAFYVAQA=",
          "dtype": "i4"
         },
         "hovertemplate": "<b>%{text}</b><br>Total Cites: %{customdata:,.0f}<extra></extra>",
         "locations": [
          "DZA",
          "ARG",
          "AUS",
          "AUT",
          "BGD",
          "BEL",
          "BRA",
          "CAN",
          "CHL",
          "CHN",
          "COL",
          "CRI",
          "HRV",
          "CZE",
          "DNK",
          "EGY",
          "GBR",
          "EST",
          "ETH",
          "FIN",
          "FRA",
          "DEU",
          "GRC",
          "HKG",
          "HUN",
          "ISL",
          "IND",
          "IRN",
          "IRL",
          "ISR",
          "ITA",
          "JPN",
          "JOR",
          "KWT",
          "KGZ",
          "LUX",
          "MYS",
          "MEX",
          "MOZ",
          "NPL",
          "NLD",
          "NZL",
          "NGA",
          "GBR",
          "NOR",
          "PAK",
          "PHL",
          "POL",
          "PRT",
          "QAT",
          "ROU",
          "RUS",
          "SAU",
          "GBR",
          "SRB",
          "SGP",
          "SVK",
          "SVN",
          "ZAF",
          "KOR",
          "ESP",
          "LKA",
          "SWE",
          "CHE",
          "TWN",
          "THA",
          "TUR",
          "ARE",
          "USA",
          "VNM",
          "GBR"
         ],
         "name": "NEUROSCIENCE & BEHAVIOR",
         "text": [
          "ALGERIA",
          "ARGENTINA",
          "AUSTRALIA",
          "AUSTRIA",
          "BANGLADESH",
          "BELGIUM",
          "BRAZIL",
          "CANADA",
          "CHILE",
          "CHINA MAINLAND",
          "COLOMBIA",
          "COSTA RICA",
          "CROATIA",
          "CZECH REPUBLIC",
          "DENMARK",
          "EGYPT",
          "ENGLAND",
          "ESTONIA",
          "ETHIOPIA",
          "FINLAND",
          "FRANCE",
          "GERMANY (FED REP GER)",
          "GREECE",
          "HONG KONG",
          "HUNGARY",
          "ICELAND",
          "INDIA",
          "IRAN",
          "IRELAND",
          "ISRAEL",
          "ITALY",
          "JAPAN",
          "JORDAN",
          "KUWAIT",
          "KYRGYZSTAN",
          "LUXEMBOURG",
          "MALAYSIA",
          "MEXICO",
          "MOZAMBIQUE",
          "NEPAL",
          "NETHERLANDS",
          "NEW ZEALAND",
          "NIGERIA",
          "NORTHERN IRELAND",
          "NORWAY",
          "PAKISTAN",
          "PHILIPPINES",
          "POLAND",
          "PORTUGAL",
          "QATAR",
          "ROMANIA",
          "RUSSIA",
          "SAUDI ARABIA",
          "SCOTLAND",
          "SERBIA",
          "SINGAPORE",
          "SLOVAKIA",
          "SLOVENIA",
          "SOUTH AFRICA",
          "SOUTH KOREA",
          "SPAIN",
          "SRI LANKA",
          "SWEDEN",
          "SWITZERLAND",
          "TAIWAN",
          "THAILAND",
          "TURKIYE",
          "UNITED ARAB EMIRATES",
          "USA",
          "VIETNAM",
          "WALES"
         ],
         "type": "choropleth",
         "visible": false,
         "z": {
          "bdata": "3LfhaiqBD0CPJJ7qmfwSQJmt0ckSUBlAltmno7thFUAw8ckI/hERQJilx6uRzBZAHHUieVUJFkCryXs/mVoZQERkctU4JxNAkGQKj6BaGUD1+ZVeUtoSQM5mzPJ0sxBAL3/cdNf5D0DSjxWz+lYUQAH/qIDT/hZAqvc+5URfFEBrn4dyHjUaQFkG/k3UgBFAoW3ZBiCXE0CVuhvBsiEWQPJfL0miLBpAU77LIaJ3GkA1SWqAd/0TQLxu2AC8KxRASSzrsqLzE0BVHQX7AY8PQNHJbosxVBVAtp1r3IVHFkDJ8W43pa4UQNynqKoI9xVAY+lVRtU1GUCFXqM/kMoXQGWWIwnjPBFAznIiHjNZD0Ck/PnBYF4RQOKo02NioBFASsjPekg9EkDpdJKmJZQSQKZ2vIyBew9AjKn5tmdmD0C6SbtGGvUYQB48Pxs7JhRAFXlnsithE0CwqXVKwgcQQJ+MNH3UrRVAAOeEjBLVEUAvdEOd48ARQFYu9gcl9xRA/ul59oDiFEC9pTpRnzQSQIAMeNd48hBAzAk3z7lpE0B9B8o9e9ITQK3uGbRkuxVAXlcZ81mQEkD3RmvC1fQUQCZzpC3YWRFAwgydOd0iEUBDmcSqAd4TQAaPlL1y/BZAm1sRZ2yRGEAfXvyxwUcQQLHioffUshdA1rKnULsNGEALvmLsbmUVQBy2/KthZRFA3S/SGClZEkAbETiroDYRQE/pluG7Wh1ApygbNBO2EkCLz0GqrmcTQA==",
          "dtype": "f8"
         }
        },
        {
         "colorscale": [
          [
           0,
           "#0d0887"
          ],
          [
           0.1111111111111111,
           "#46039f"
          ],
          [
           0.2222222222222222,
           "#7201a8"
          ],
          [
           0.3333333333333333,
           "#9c179e"
          ],
          [
           0.4444444444444444,
           "#bd3786"
          ],
          [
           0.5555555555555556,
           "#d8576b"
          ],
          [
           0.6666666666666666,
           "#ed7953"
          ],
          [
           0.7777777777777778,
           "#fb9f3a"
          ],
          [
           0.8888888888888888,
           "#fdca26"
          ],
          [
           1,
           "#f0f921"
          ]
         ],
         "customdata": {
          "bdata": "JKwAABbABwBzNwEA5xEAAM1bAwBJDgQAKTIAAAESAADqQwUA1UYAABxzNQDFDwAAQzAAAIMGAQDxogIA4goIAM1IDgA6FgAAKAQBACu9EADB5wsAd1QBAJpEAQAA4wAAihEAAOPJBwC5YwcAKPoAALEXAQCPFA0AtzEEAFs8AAATEAAANTEAAEy/AACirgEA/bEAAEIVAACqEwcAK5oAAAYWAADydQAAB60AALrlAQBTrAIA0o8CAAI9AACsqAAAiVUBAA+OAwCsUAEAdoAAAPoWAQB9OAAAqUMAAEL5AADFXAcAZSEJAH0lAgCcogQAwpoEACHiAAAeQgAAID0BANE4AABH+koAoC8AAHsuAAA=",
          "dtype": "i4"
         },
         "hovertemplate": "<b>%{text}</b><br>Total Cites: %{customdata:,.0f}<extra></extra>",
         "locations": [
          "ARG",
          "AUS",
          "AUT",
          "BGD",
          "BEL",
          "BRA",
          "BGR",
          "CMR",
          "CAN",
          "CHL",
          "CHN",
          "CRI",
          "HRV",
          "CZE",
          "DNK",
          "EGY",
          "GBR",
          "EST",
          "FIN",
          "FRA",
          "DEU",
          "GRC",
          "HKG",
          "HUN",
          "ISL",
          "IND",
          "IRN",
          "IRL",
          "ISR",
          "ITA",
          "JPN",
          "JOR",
          "KWT",
          "LBN",
          null,
          "MYS",
          "MEX",
          "MAR",
          "NLD",
          "NZL",
          "NGA",
          "GBR",
          "NOR",
          "PAK",
          "POL",
          "PRT",
          "QAT",
          "ROU",
          "RUS",
          "SAU",
          "GBR",
          "SRB",
          "SGP",
          "SVK",
          "SVN",
          "ZAF",
          "KOR",
          "ESP",
          "SWE",
          "CHE",
          "TWN",
          "THA",
          "TUN",
          "TUR",
          "ARE",
          "USA",
          "VNM",
          "GBR"
         ],
         "name": "PHARMACOLOGY & TOXICOLOGY",
         "text": [
          "ARGENTINA",
          "AUSTRALIA",
          "AUSTRIA",
          "BANGLADESH",
          "BELGIUM",
          "BRAZIL",
          "BULGARIA",
          "CAMEROON",
          "CANADA",
          "CHILE",
          "CHINA MAINLAND",
          "COSTA RICA",
          "CROATIA",
          "CZECH REPUBLIC",
          "DENMARK",
          "EGYPT",
          "ENGLAND",
          "ESTONIA",
          "FINLAND",
          "FRANCE",
          "GERMANY (FED REP GER)",
          "GREECE",
          "HONG KONG",
          "HUNGARY",
          "ICELAND",
          "INDIA",
          "IRAN",
          "IRELAND",
          "ISRAEL",
          "ITALY",
          "JAPAN",
          "JORDAN",
          "KUWAIT",
          "LEBANON",
          "MACAU",
          "MALAYSIA",
          "MEXICO",
          "MOROCCO",
          "NETHERLANDS",
          "NEW ZEALAND",
          "NIGERIA",
          "NORTHERN IRELAND",
          "NORWAY",
          "PAKISTAN",
          "POLAND",
          "PORTUGAL",
          "QATAR",
          "ROMANIA",
          "RUSSIA",
          "SAUDI ARABIA",
          "SCOTLAND",
          "SERBIA",
          "SINGAPORE",
          "SLOVAKIA",
          "SLOVENIA",
          "SOUTH AFRICA",
          "SOUTH KOREA",
          "SPAIN",
          "SWEDEN",
          "SWITZERLAND",
          "TAIWAN",
          "THAILAND",
          "TUNISIA",
          "TURKIYE",
          "UNITED ARAB EMIRATES",
          "USA",
          "VIETNAM",
          "WALES"
         ],
         "type": "choropleth",
         "visible": false,
         "z": {
          "bdata": "ngAIp5eTEkC7kGiTvdIWQJLybZdFmxNA2hcRnTpKDUAWBvv13F4VQB0vfGW/shVAJMjHZj1vEEDg/EZuQk8NQFTuACjQJhZArKWcjLIIEUAfb8C3fS0aQKFpiblt2QxAtIh4PRVeEEDxIsuqQE8TQLUzCXE18xRAXPzihTLjFkCodRNop+IXQIQALFCgCg5Ai5CpiT5LE0CZkF9XLCkYQMc7uTqikRdAfxuKhOLCE0BRrVCFqq0TQMhxq6idDhNA/yK6ov83DUClEDOQ7tQWQDBCeWqKvRZAWfZGJ9A5E0CyRtd/cWsTQBE97CN+uxdAxHUqbavBFUBPuH40hcEQQG9yjA9y6gxAROezdrVmEED7ZPIChMISQA8mCxFeKxRAs0L5wnKiEkCSR2g1/+INQLs+X2pPqhZA7yCjFI5iEkCmjGc+dgIOQHf76xZ06xFABaMHlOCVEkBpH0cU6GAUQC0JnjRZ+RRAvKc/lm3mFEAl9+4HTcYQQFHWHCuKihJAJ5xb2kfEE0DI+1NsIHgVQMtobxbnvRNAuc2izm4REkCQitUnTmoTQPg5COcSpBBAqTgIC1P0EEAIiQqKNjgTQN04WDHnuxZAfxM+vJ4bF0BVaXchwpcUQOoSo14h7hVA9AeZjy3rFUDOz+Tx5wwTQB+Fvt8Q6hBABGhwn02jE0AVhf5ApqYQQOCLwnUBxBpAD0TJXi1YEEDu+MEuXE0QQA==",
          "dtype": "f8"
         }
        },
        {
         "colorscale": [
          [
           0,
           "#0d0887"
          ],
          [
           0.1111111111111111,
           "#46039f"
          ],
          [
           0.2222222222222222,
           "#7201a8"
          ],
          [
           0.3333333333333333,
           "#9c179e"
          ],
          [
           0.4444444444444444,
           "#bd3786"
          ],
          [
           0.5555555555555556,
           "#d8576b"
          ],
          [
           0.6666666666666666,
           "#ed7953"
          ],
          [
           0.7777777777777778,
           "#fb9f3a"
          ],
          [
           0.8888888888888888,
           "#fdca26"
          ],
          [
           1,
           "#f0f921"
          ]
         ],
         "customdata": {
          "bdata": "0x4DANxFAQDwew4An0gGALlAAQBuvQIAS50IAI17CgCH9QEA+68RAC2XAQA7NpEA3JYBAE7XAQDJlQAA40kIAH9SBgC5WQAAmacFAN8BOgDOqwAARsYEAJimYACiRgIA9XpMAIMHBgDQdAYAWUQKAHSFHABefgMARPkBAJfWBgA03UcAlTAsAPdcAAAfowAAcOoBANDYBAB8sgIAVhgNANcwAQAhhQAA23cCANb4AgAc2g4AL3MGAIN3AQAHGgUAp4UtAMMEBACNnQgAi2cBACWsBgBUBwIABDgEAFwCBADOEhUAvYAlAKhpAAAFQQoA4GUdABP1BgBnjwAAv68MAKvLBADUc1kB4FoAACAcAQA=",
          "dtype": "i4"
         },
         "hovertemplate": "<b>%{text}</b><br>Total Cites: %{customdata:,.0f}<extra></extra>",
         "locations": [
          "ARG",
          "ARM",
          "AUS",
          "AUT",
          "AZE",
          "BLR",
          "BEL",
          "BRA",
          "BGR",
          "CAN",
          "CHL",
          "CHN",
          "COL",
          "HRV",
          "CYP",
          "CZE",
          "DNK",
          "ECU",
          "EGY",
          "GBR",
          "EST",
          "FIN",
          "FRA",
          "GEO",
          "DEU",
          "GRC",
          "HKG",
          "HUN",
          "IND",
          "IRN",
          "IRL",
          "ISR",
          "ITA",
          "JPN",
          "LVA",
          "LTU",
          "MYS",
          "MEX",
          "MAR",
          "NLD",
          "NZL",
          "GBR",
          "NOR",
          "PAK",
          "POL",
          "PRT",
          "QAT",
          "ROU",
          "RUS",
          "SAU",
          "GBR",
          "SRB",
          "SGP",
          "SVK",
          "SVN",
          "ZAF",
          "KOR",
          "ESP",
          "LKA",
          "SWE",
          "CHE",
          "TWN",
          "THA",
          "TUR",
          "UKR",
          "USA",
          "VNM",
          "GBR"
         ],
         "name": "PHYSICS",
         "text": [
          "ARGENTINA",
          "ARMENIA",
          "AUSTRALIA",
          "AUSTRIA",
          "AZERBAIJAN",
          "BELARUS",
          "BELGIUM",
          "BRAZIL",
          "BULGARIA",
          "CANADA",
          "CHILE",
          "CHINA MAINLAND",
          "COLOMBIA",
          "CROATIA",
          "CYPRUS",
          "CZECH REPUBLIC",
          "DENMARK",
          "ECUADOR",
          "EGYPT",
          "ENGLAND",
          "ESTONIA",
          "FINLAND",
          "FRANCE",
          "GEORGIA",
          "GERMANY (FED REP GER)",
          "GREECE",
          "HONG KONG",
          "HUNGARY",
          "INDIA",
          "IRAN",
          "IRELAND",
          "ISRAEL",
          "ITALY",
          "JAPAN",
          "LATVIA",
          "LITHUANIA",
          "MALAYSIA",
          "MEXICO",
          "MOROCCO",
          "NETHERLANDS",
          "NEW ZEALAND",
          "NORTHERN IRELAND",
          "NORWAY",
          "PAKISTAN",
          "POLAND",
          "PORTUGAL",
          "QATAR",
          "ROMANIA",
          "RUSSIA",
          "SAUDI ARABIA",
          "SCOTLAND",
          "SERBIA",
          "SINGAPORE",
          "SLOVAKIA",
          "SLOVENIA",
          "SOUTH AFRICA",
          "SOUTH KOREA",
          "SPAIN",
          "SRI LANKA",
          "SWEDEN",
          "SWITZERLAND",
          "TAIWAN",
          "THAILAND",
          "TURKIYE",
          "UKRAINE",
          "USA",
          "VIETNAM",
          "WALES"
         ],
         "type": "choropleth",
         "visible": false,
         "z": {
          "bdata": "EGc+YyY+FUCtF/bQYq8TQHBRMWzU6BdAuLZWjHJ1FkBtfnfkUagTQDg6bfVTBBVA196qfL8BF0CZKJqHCVkXQGDEd5MkbxRAVIBaMq9BGEC9IRVtdRIUQPRmVS/36RtALOOg7BwSFEBLow6egFMUQJkmp7a6VRJACPRHIZrwFkAJrk5MK3gWQFXQGzDUcRFAunka14pGFkCzmzTC4VEaQIq4aEO5khJAj77+r0z7FUAxbvn67DQbQILLmxzOsRRAZLaSj9TMGkD7VGaxEmMWQPEDVO5/gRZAhhQ4KMtPF0A1xUlJKxYZQMSf4FNkcBVA+x8JBXJyFEDHy3k+D5sWQIafRccksRpAHzn/leLYGUCO8MtjnYERQDqyTKOoexJAHXUI7jJlFEAnrAGG/gEWQFBtJXNV/RRASPBmfv67F0Bi1rGdu5ETQIQWpEBOIRJA8okagN/VFEDBHwRleygVQBVBqL778xdAv8HGrA+BFkBTeXPxdO4TQKsclDDGGBZATjZJUxjmGUC6AedWpq4VQNMTssvMARdAyMbQoSHbE0AapLfZJJAWQDV24UynfhRATgWkjUXEFUDMHbssnK0VQHbr38iUjxhA05MM+OqPGUDOdArZhboRQOzKPug6TxdAaYb836EjGUCCO6KxvKIWQGPJQQpdQhJA2Y3d9uWtF0AN67UMQv0VQEsO4pNiax1AI2OSAYF3EUATGewAcHITQA==",
          "dtype": "f8"
         }
        },
        {
         "colorscale": [
          [
           0,
           "#0d0887"
          ],
          [
           0.1111111111111111,
           "#46039f"
          ],
          [
           0.2222222222222222,
           "#7201a8"
          ],
          [
           0.3333333333333333,
           "#9c179e"
          ],
          [
           0.4444444444444444,
           "#bd3786"
          ],
          [
           0.5555555555555556,
           "#d8576b"
          ],
          [
           0.6666666666666666,
           "#ed7953"
          ],
          [
           0.7777777777777778,
           "#fb9f3a"
          ],
          [
           0.8888888888888888,
           "#fdca26"
          ],
          [
           1,
           "#f0f921"
          ]
         ],
         "customdata": {
          "bdata": "u3sEAEzPEwAo6wIAiHUAAGnrBAAoDgAABVoPAOtQAAAPEgAALGYNALa4AQAZTk0AgZMAACAlAABTggAASQ8AAPzFBQC7YQMAiiIAAFr/BgDBFhUAsAcBAFwjAADerAIANRInALkbGABzXQEAm6YAAMo+AgCyFAAAo4IJAJNeAADvIAMATwQBALLwAQALVg4AwxIAAGZBDAB2YQAANRwAAEENAAASJwAA5x4AAEgPAAD4GgEAVQwAABQ1AAAsxQMAHiIAAGURAACiNwcA7+kCACgnAABUWQAAL60DAGZCAAD3BQMALmcAAGkmAAC2kwAAQz8FAMSsAwBuDwAA7jQAAAA7BAAinwIAfs0DAPgSAAD6fAAAIqsAALTRAABBmwAA+gAEANpPBQBW/BEASRAAABoRAAAPrAQAcXwGAL/MAQAiEQAAbvACAGkPAABiowAAlesBAFYXAADRXwAAABgAANxLAADE3XYAVA0AAHx1AACmPQEA",
          "dtype": "i4"
         },
         "hovertemplate": "<b>%{text}</b><br>Total Cites: %{customdata:,.0f}<extra></extra>",
         "locations": [
          "ARG",
          "AUS",
          "AUT",
          "BGD",
          "BEL",
          "BEN",
          "BRA",
          "BGR",
          "CMR",
          "CAN",
          "CHL",
          "CHN",
          "COL",
          "CRI",
          "HRV",
          "CYP",
          "CZE",
          "DNK",
          "ECU",
          "EGY",
          "GBR",
          "EST",
          "ETH",
          "FIN",
          "FRA",
          "DEU",
          "GRC",
          "HKG",
          "HUN",
          "ISL",
          "IND",
          "IDN",
          "IRN",
          "IRL",
          "ISR",
          "ITA",
          "JAM",
          "JPN",
          "KEN",
          "LVA",
          "LBN",
          "LTU",
          "LUX",
          "MKD",
          "MYS",
          "MLT",
          "MUS",
          "MEX",
          "MAR",
          "NPL",
          "NLD",
          "NZL",
          "NGA",
          "GBR",
          "NOR",
          "OMN",
          "PAK",
          "PAN",
          "PER",
          "PHL",
          "POL",
          "PRT",
          "QAT",
          "ROU",
          "RUS",
          "SAU",
          "GBR",
          "SEN",
          "SRB",
          "SGP",
          "SVK",
          "SVN",
          "ZAF",
          "KOR",
          "ESP",
          "LKA",
          "SDN",
          "SWE",
          "CHE",
          "TWN",
          "TZA",
          "THA",
          null,
          "TUN",
          "TUR",
          "UGA",
          "UKR",
          "ARE",
          "URY",
          "USA",
          "UZB",
          "VNM",
          "GBR"
         ],
         "name": "PLANT & ANIMAL SCIENCE",
         "text": [
          "ARGENTINA",
          "AUSTRALIA",
          "AUSTRIA",
          "BANGLADESH",
          "BELGIUM",
          "BENIN",
          "BRAZIL",
          "BULGARIA",
          "CAMEROON",
          "CANADA",
          "CHILE",
          "CHINA MAINLAND",
          "COLOMBIA",
          "COSTA RICA",
          "CROATIA",
          "CYPRUS",
          "CZECH REPUBLIC",
          "DENMARK",
          "ECUADOR",
          "EGYPT",
          "ENGLAND",
          "ESTONIA",
          "ETHIOPIA",
          "FINLAND",
          "FRANCE",
          "GERMANY (FED REP GER)",
          "GREECE",
          "HONG KONG",
          "HUNGARY",
          "ICELAND",
          "INDIA",
          "INDONESIA",
          "IRAN",
          "IRELAND",
          "ISRAEL",
          "ITALY",
          "JAMAICA",
          "JAPAN",
          "KENYA",
          "LATVIA",
          "LEBANON",
          "LITHUANIA",
          "LUXEMBOURG",
          "MACEDONIA",
          "MALAYSIA",
          "MALTA",
          "MAURITIUS",
          "MEXICO",
          "MOROCCO",
          "NEPAL",
          "NETHERLANDS",
          "NEW ZEALAND",
          "NIGERIA",
          "NORTHERN IRELAND",
          "NORWAY",
          "OMAN",
          "PAKISTAN",
          "PANAMA",
          "PERU",
          "PHILIPPINES",
          "POLAND",
          "PORTUGAL",
          "QATAR",
          "ROMANIA",
          "RUSSIA",
          "SAUDI ARABIA",
          "SCOTLAND",
          "SENEGAL",
          "SERBIA",
          "SINGAPORE",
          "SLOVAKIA",
          "SLOVENIA",
          "SOUTH AFRICA",
          "SOUTH KOREA",
          "SPAIN",
          "SRI LANKA",
          "SUDAN",
          "SWEDEN",
          "SWITZERLAND",
          "TAIWAN",
          "TANZANIA",
          "THAILAND",
          "TRINIDAD TOBAGO",
          "TUNISIA",
          "TURKIYE",
          "UGANDA",
          "UKRAINE",
          "UNITED ARAB EMIRATES",
          "URUGUAY",
          "USA",
          "UZBEKISTAN",
          "VIETNAM",
          "WALES"
         ],
         "type": "choropleth",
         "visible": false,
         "z": {
          "bdata": "8Rf0t1DfFUDTPy94FHQYQIpOztFpIBVAQMfruOPpEUDm0h89nAgWQDXkeXp2eQxAbjLzxrICGEDMbcix5UMRQJc6m930UQ1Auio0ojPGF0AiJFa6pzUUQODQXrqZ0RpABCS0gOdOEkCx6cyP2NIPQHz+rzfWFxJAdw00/K+9DEDC1r7jx08WQHSJHGzrYRVAUcT+0qKSD0AxG4u9S6UWQMkFZhjojxhAbEzqcD1RE0C3Y0DWgqcPQHgCEoCz+RRAD+9g0yKiGUBbencGassYQPzTA853zhNApgqP1Q6FEkDnf7UGx6sUQHU1gi4myw1AwrQTPb8tF0D+ea9VP4kRQB1KvZ1SPxVAVflOL4FLE0BQvMhi1moUQG6orO5C5BdApDzjRexzDUAeZnKPhp4XQD0cpjmelhFA1RWl0IfeDkCj2R3Z5T4MQFYIMSYiABBA+uJnt7AvD0CyVJrNdb0MQP4HncKfcBNA9+fXyMv+C0BzmbtNYogQQFP9XFJGkhVAnrMj2bSHD0ABfZbzozANQLabbJgNsxZAvUu3Xa8fFUD0vphDHAEQQF90xn3ebxFAG0CvBBWHFUBXadwa9OsQQLo+1CsXMBVAzEiNm/mvEUAp4H2IHPEPQCaX1y2HTxJA88Dlh0YlFkAw5uZy4oYVQG4zzlUOxgxADfcPfyOHEEAq7NG1f8UVQHZWSDOx8BRAocCciheWFUBQeWuPrn0NQDtg7j40BRJA6fxxLfuQEkDveNySXusSQJRgKy2tZRJAHS9grwKtFUCnrkL7uyoWQKGZOwEfSRhARHZZ5An2DEB+l/AviSENQJJJe16o8RVAIu12NYyDFkC359cdbUkUQCiN4sgoIw1ABHADiIojFUCigu4A7sQMQMWKQiZffBJAvxrMTTxmFECStWOm8DUOQOGCw98MjxFA4WcukORODkCGrs+qMCcRQN3YkIDvkBtAnL1T9dxDDEB8+hRPtukRQJjrHGEJpBNA",
          "dtype": "f8"
         }
        },
        {
         "colorscale": [
          [
           0,
           "#0d0887"
          ],
          [
           0.1111111111111111,
           "#46039f"
          ],
          [
           0.2222222222222222,
           "#7201a8"
          ],
          [
           0.3333333333333333,
           "#9c179e"
          ],
          [
           0.4444444444444444,
           "#bd3786"
          ],
          [
           0.5555555555555556,
           "#d8576b"
          ],
          [
           0.6666666666666666,
           "#ed7953"
          ],
          [
           0.7777777777777778,
           "#fb9f3a"
          ],
          [
           0.8888888888888888,
           "#fdca26"
          ],
          [
           1,
           "#f0f921"
          ]
         ],
         "customdata": {
          "bdata": "wjcAAD99FwBsRQEAjkEEAG4+AgBa3xMAmkgAAHXcCgDjEwAAGSgAAGQkAAAIZgAADc0DACYhAABjFigA9jAAAPIRAAB+cgIAR7YJAIW7FgBDZAAAgpYCAJ3rAAAcHgAAz3UAAIFPAAAgFwAAErQBAH12AwDyDwkAHKMBAB0wAAB3EQAA+SYAAGRsAABtLwAA4WYAABNOEgBdtgEAmk4AADefAACo2wIAQhUAAA8vAADfYQEAfHEBAIssAAA0MwAAWDgAAOSDAgCYMgAAX0gBAPcYAAAmZgEAJOABAB6GDAAEwgQALm0FAOKUAQDxJwAACocAAP0RAACCFAAAJKzFAEA3AQA=",
          "dtype": "i4"
         },
         "hovertemplate": "<b>%{text}</b><br>Total Cites: %{customdata:,.0f}<extra></extra>",
         "locations": [
          "ARG",
          "AUS",
          "AUT",
          "BEL",
          "BRA",
          "CAN",
          "CHL",
          "CHN",
          "COL",
          "HRV",
          "CYP",
          "CZE",
          "DNK",
          "EGY",
          "GBR",
          "EST",
          "ETH",
          "FIN",
          "FRA",
          "DEU",
          "GRC",
          "HKG",
          "HUN",
          "ISL",
          "IND",
          "IRN",
          "IRQ",
          "IRL",
          "ISR",
          "ITA",
          "JPN",
          "LBN",
          "LTU",
          "LUX",
          null,
          "MYS",
          "MEX",
          "NLD",
          "NZL",
          "NGA",
          "GBR",
          "NOR",
          "PRY",
          "PER",
          "POL",
          "PRT",
          "ROU",
          "RUS",
          "SAU",
          "GBR",
          "SRB",
          "SGP",
          "SVN",
          "ZAF",
          "KOR",
          "ESP",
          "SWE",
          "CHE",
          "TWN",
          "THA",
          "TUR",
          "UGA",
          "URY",
          "USA",
          "GBR"
         ],
         "name": "PSYCHIATRY/PSYCHOLOGY",
         "text": [
          "ARGENTINA",
          "AUSTRALIA",
          "AUSTRIA",
          "BELGIUM",
          "BRAZIL",
          "CANADA",
          "CHILE",
          "CHINA MAINLAND",
          "COLOMBIA",
          "CROATIA",
          "CYPRUS",
          "CZECH REPUBLIC",
          "DENMARK",
          "EGYPT",
          "ENGLAND",
          "ESTONIA",
          "ETHIOPIA",
          "FINLAND",
          "FRANCE",
          "GERMANY (FED REP GER)",
          "GREECE",
          "HONG KONG",
          "HUNGARY",
          "ICELAND",
          "INDIA",
          "IRAN",
          "IRAQ",
          "IRELAND",
          "ISRAEL",
          "ITALY",
          "JAPAN",
          "LEBANON",
          "LITHUANIA",
          "LUXEMBOURG",
          "MACAU",
          "MALAYSIA",
          "MEXICO",
          "NETHERLANDS",
          "NEW ZEALAND",
          "NIGERIA",
          "NORTHERN IRELAND",
          "NORWAY",
          "PARAGUAY",
          "PERU",
          "POLAND",
          "PORTUGAL",
          "ROMANIA",
          "RUSSIA",
          "SAUDI ARABIA",
          "SCOTLAND",
          "SERBIA",
          "SINGAPORE",
          "SLOVENIA",
          "SOUTH AFRICA",
          "SOUTH KOREA",
          "SPAIN",
          "SWEDEN",
          "SWITZERLAND",
          "TAIWAN",
          "THAILAND",
          "TURKIYE",
          "UGANDA",
          "URUGUAY",
          "USA",
          "WALES"
         ],
         "type": "choropleth",
         "visible": false,
         "z": {
          "bdata": "tp6bM0meEEAevq152L8YQMEx8dzJrhNAUFQfrS7IFUAkfdHSf6sUQI3ogFF8dRhAI+M6mqsTEUBeOR020GgXQJ/xUhq1pw1ANgqaxawLEEA2W1fTE8EPQOr1uF//qhFAa3KT6OOVFUBr+OKuFm4PQFdZJ2WOrRlAWqnftHpkEEDbIDVZXEwNQENfpwYV0hRAmO+QyBQ3F0BuWUNOSLEYQFkCG6o3oxFAdfCOn/DqFEBU8BR7LR8TQLEvbm6SGA9AbsRnDPDqEUBKY3OvDjwRQE6DN3bdLQ5Aq+b6lPIwFEB8CiPzdGwVQOol1qVJGBdAYHYqG04fFEDGq/ORtlwQQGLv90g6NA1ApJ2whAr+D0CVh0Ch4sURQAHBey1QVhBANnh6Qa2uEUBZenpZ8lAYQH7J+6VHMxRAJVjtOfs2EUDW2Uc64XASQGAQqC4XFxVAkkdoNf/iDUCBL/he21IQQB2QbFwP1BNAqmRmxELnE0AmZXQ0bToQQBtU2CdkeBBAERsMQu+iEEDimneWQ94UQF7kkzcRcxBAVDYs+syyE0Da6V2w8XEOQH5XyDRn2RNAteZMPMNbFECJuAtCKagXQCmU4me/+RVA8tL0PTk0FkDkN6d/8g8UQG/gblDwCRBAWG11GqQnEkCuskzHfE4NQMr7TT8Oww1A3nqv0B9zHEBWuRG//JoTQA==",
          "dtype": "f8"
         }
        },
        {
         "colorscale": [
          [
           0,
           "#0d0887"
          ],
          [
           0.1111111111111111,
           "#46039f"
          ],
          [
           0.2222222222222222,
           "#7201a8"
          ],
          [
           0.3333333333333333,
           "#9c179e"
          ],
          [
           0.4444444444444444,
           "#bd3786"
          ],
          [
           0.5555555555555556,
           "#d8576b"
          ],
          [
           0.6666666666666666,
           "#ed7953"
          ],
          [
           0.7777777777777778,
           "#fb9f3a"
          ],
          [
           0.8888888888888888,
           "#fdca26"
          ],
          [
           1,
           "#f0f921"
          ]
         ],
         "customdata": {
          "bdata": "H4sAAG00HgCLYgIACggAABIIAABZhQAAvCEFAEMOAAA1EgQAlwgAANG7GAClQQEALvQcAJ6iAADnCQAAAD0AAMI/AAAKwAAARoIFAE7tAABtXjUAuGgAACCyAACrDwAAMG0EAKJ4DAAyCAAAfBMSACa4AADiGwEAyEQFAFiZAADRJwAAG+wCAJdUAAA2lQIANT0CAFy3AgBy/ggAgxwAAG3lAgAXRgAAexMAADd/AADCCwAA/QcAABJ0AACZKwAABDIAAJaXAABiGwAAwN4BALYWAADaDgAA2sAAABYIAADJDQAAgSIAAEVZEgAH6AIAD38AAPunAACY4wUADhgAAFjtAADYDgAATR0AABBFAAAFKAEAJF0CADqPAADBTAAA8LoAAFMPAADKRQEA5dUEABpOAADGTgIAMS0AADRdAAABfAQAfvMDAN2JDAA/LAAAjGkJAGQ8BwAJQQMAZD0AAFKkAABpCwAAlykAABrbAQDZZQAAlQ8AAH6PAACfEwAA1pHmACmAAACenAEAWRQAADEPAAA=",
          "dtype": "i4"
         },
         "hovertemplate": "<b>%{text}</b><br>Total Cites: %{customdata:,.0f}<extra></extra>",
         "locations": [
          "ARG",
          "AUS",
          "AUT",
          "AZE",
          "BHR",
          "BGD",
          "BEL",
          "BWA",
          "BRA",
          "CMR",
          "CAN",
          "CHL",
          "CHN",
          "COL",
          "CRI",
          "HRV",
          "CYP",
          "CZE",
          "DNK",
          "EGY",
          "GBR",
          "EST",
          "ETH",
          "FJI",
          "FIN",
          "FRA",
          "GMB",
          "DEU",
          "GHA",
          "GRC",
          "HKG",
          "HUN",
          "ISL",
          "IND",
          "IDN",
          "IRN",
          "IRL",
          "ISR",
          "ITA",
          "JAM",
          "JPN",
          "JOR",
          "KAZ",
          "KEN",
          "KWT",
          "LVA",
          "LBN",
          "LTU",
          "LUX",
          null,
          "MWI",
          "MYS",
          "MLT",
          "MUS",
          "MEX",
          "MAR",
          "MOZ",
          "NPL",
          "NLD",
          "NZL",
          "NGA",
          "GBR",
          "NOR",
          "OMN",
          "PAK",
          "PSE",
          "PER",
          "PHL",
          "POL",
          "PRT",
          "QAT",
          "ROU",
          "RUS",
          "RWA",
          "SAU",
          "GBR",
          "SRB",
          "SGP",
          "SVK",
          "SVN",
          "ZAF",
          "KOR",
          "ESP",
          "LKA",
          "SWE",
          "CHE",
          "TWN",
          "TZA",
          "THA",
          null,
          "TUN",
          "TUR",
          "UGA",
          "UKR",
          "ARE",
          "URY",
          "USA",
          "VNM",
          "GBR",
          "ZMB",
          "ZWE"
         ],
         "name": "SOCIAL SCIENCES, GENERAL",
         "text": [
          "ARGENTINA",
          "AUSTRALIA",
          "AUSTRIA",
          "AZERBAIJAN",
          "BAHRAIN",
          "BANGLADESH",
          "BELGIUM",
          "BOTSWANA",
          "BRAZIL",
          "CAMEROON",
          "CANADA",
          "CHILE",
          "CHINA MAINLAND",
          "COLOMBIA",
          "COSTA RICA",
          "CROATIA",
          "CYPRUS",
          "CZECH REPUBLIC",
          "DENMARK",
          "EGYPT",
          "ENGLAND",
          "ESTONIA",
          "ETHIOPIA",
          "FIJI",
          "FINLAND",
          "FRANCE",
          "GAMBIA",
          "GERMANY (FED REP GER)",
          "GHANA",
          "GREECE",
          "HONG KONG",
          "HUNGARY",
          "ICELAND",
          "INDIA",
          "INDONESIA",
          "IRAN",
          "IRELAND",
          "ISRAEL",
          "ITALY",
          "JAMAICA",
          "JAPAN",
          "JORDAN",
          "KAZAKHSTAN",
          "KENYA",
          "KUWAIT",
          "LATVIA",
          "LEBANON",
          "LITHUANIA",
          "LUXEMBOURG",
          "MACAU",
          "MALAWI",
          "MALAYSIA",
          "MALTA",
          "MAURITIUS",
          "MEXICO",
          "MOROCCO",
          "MOZAMBIQUE",
          "NEPAL",
          "NETHERLANDS",
          "NEW ZEALAND",
          "NIGERIA",
          "NORTHERN IRELAND",
          "NORWAY",
          "OMAN",
          "PAKISTAN",
          "PALESTINE",
          "PERU",
          "PHILIPPINES",
          "POLAND",
          "PORTUGAL",
          "QATAR",
          "ROMANIA",
          "RUSSIA",
          "RWANDA",
          "SAUDI ARABIA",
          "SCOTLAND",
          "SERBIA",
          "SINGAPORE",
          "SLOVAKIA",
          "SLOVENIA",
          "SOUTH AFRICA",
          "SOUTH KOREA",
          "SPAIN",
          "SRI LANKA",
          "SWEDEN",
          "SWITZERLAND",
          "TAIWAN",
          "TANZANIA",
          "THAILAND",
          "TRINIDAD TOBAGO",
          "TUNISIA",
          "TURKIYE",
          "UGANDA",
          "UKRAINE",
          "UNITED ARAB EMIRATES",
          "URUGUAY",
          "USA",
          "VIETNAM",
          "WALES",
          "ZAMBIA",
          "ZIMBABWE"
         ],
         "type": "choropleth",
         "visible": false,
         "z": {
          "bdata": "mMvaduI0EkAWx5JcrC8ZQJVurS6dxhRAH0I3Ql6CCkAJwVE60YUKQLVIZCkJIhJA7yTzCmQbFkCjDrohEIAMQEQ/A55stBVA91E8Gki9CkBQVOWQzdYYQATwxKiYqRNAumRh09wcGUCpRK1oSHoSQAB4AJqyOwtAm0Gzcz7GEEBGgfU86NkQQCPgu9k8xBJAbCuk8ew6FkAu1aTUWyITQPgUZn7RLBpAYLaGMY+2EUAbJCUtyqISQMIVbuSu0wxAUl4676TZFUA65tJsSaYXQNbu5EF7kwpAT0Jq8VlLGECmgltIlLESQCrbh+sOchNAdluDYBknFkAeCW3OK2ASQD/zln6LCBBAxKIoXfogFUDOp6fSoVcRQESf7IsR6hRAWgrbPo2qFEBKQl5qdgAVQHVi0pvrFBdAMtrQ0BXoDkDaWbRH/RwVQJn5H2kDBBFA76i7dVqVDUDbHnobGQ0SQLRd+U1m1AtAqoAyF7x8CkD/iD/AU+QRQG/smkjjMBBA6JzR6fRtEEDvd9Y9C1sSQDTckkkoxA5AOPEzBnlaFEAMYjw+zB0OQP2HWUUZpAxACKwGgR3GEkC8JYNuiYcKQN67abTXYQxALnvg97qRD0C1BI4DAlIYQNNYDQ6MHhVAQpKXMY0MEkAaqniLtogSQCI3kh6aWBZATWjTuepQDkBK17ORbiITQCW5h36howxAouiQ1FwAD0D+Cs1tcv0QQAAQSfeshBNAulcvVanCFEC0R6Nn0UESQDttyTtnLBFAzn0doEO4EkAzGUH99L8MQJSRkz9KrxNAxq1cevIAFkD3K+C9JDQRQBOrU8n5txRAPcbFddpAEEADFaDPwIIRQLFjqtZr3xVAdujM/h6nFUBtEsIzrqgXQFsHcfJzNxBAd6T+6CMpF0CjGLFiMrQWQMKrMI/MUBVAgSBZIBXJEECVVA2I6n4SQPWr+Yu2uQtA83paJ+wbEEDuiFoaElcUQHOgVFcyqhFAWA6m4MrODEAVgtVXpEISQBXWpui/mw1A54rHvJW3HEBJKfDvYxASQCozPcVcGBRAa+KQahW8DUBz2x9/N7gMQA==",
          "dtype": "f8"
         }
        },
        {
         "colorscale": [
          [
           0,
           "#0d0887"
          ],
          [
           0.1111111111111111,
           "#46039f"
          ],
          [
           0.2222222222222222,
           "#7201a8"
          ],
          [
           0.3333333333333333,
           "#9c179e"
          ],
          [
           0.4444444444444444,
           "#bd3786"
          ],
          [
           0.5555555555555556,
           "#d8576b"
          ],
          [
           0.6666666666666666,
           "#ed7953"
          ],
          [
           0.7777777777777778,
           "#fb9f3a"
          ],
          [
           0.8888888888888888,
           "#fdca26"
          ],
          [
           1,
           "#f0f921"
          ]
         ],
         "customdata": {
          "bdata": "+egKAGzMAABy5gEAI/8AABOtBQBjzwUAdCoPAHKdBgDH4h8AghQCAL4iRQCaahYAsQMCAA/qAADe8AAAYIsXAMncCgA/jAEAzwoRACcgAQAhtQQA5OMAAATrAwACjQMAzeUAAIQjAQAQnRgA1iwFADsVBwBkVAEAF3muANhTAQA=",
          "dtype": "i4"
         },
         "hovertemplate": "<b>%{text}</b><br>Total Cites: %{customdata:,.0f}<extra></extra>",
         "locations": [
          "AUS",
          "AUT",
          "BEL",
          "BRA",
          "CAN",
          "CHL",
          "CHN",
          "DNK",
          "GBR",
          "FIN",
          "FRA",
          "DEU",
          "HUN",
          "IND",
          "ISR",
          "ITA",
          "JPN",
          "MEX",
          "NLD",
          "NOR",
          "POL",
          "PRT",
          "RUS",
          "GBR",
          "ZAF",
          "KOR",
          "ESP",
          "SWE",
          "CHE",
          "TWN",
          "USA",
          "GBR"
         ],
         "name": "SPACE SCIENCE",
         "text": [
          "AUSTRALIA",
          "AUSTRIA",
          "BELGIUM",
          "BRAZIL",
          "CANADA",
          "CHILE",
          "CHINA MAINLAND",
          "DENMARK",
          "ENGLAND",
          "FINLAND",
          "FRANCE",
          "GERMANY (FED REP GER)",
          "HUNGARY",
          "INDIA",
          "ISRAEL",
          "ITALY",
          "JAPAN",
          "MEXICO",
          "NETHERLANDS",
          "NORWAY",
          "POLAND",
          "PORTUGAL",
          "RUSSIA",
          "SCOTLAND",
          "SOUTH AFRICA",
          "SOUTH KOREA",
          "SPAIN",
          "SWEDEN",
          "SWITZERLAND",
          "TAIWAN",
          "USA",
          "WALES"
         ],
         "type": "choropleth",
         "visible": false,
         "z": {
          "bdata": "k3x/hc9qF0A7Xhm4BuASQE4uJmuQYRRAaRAtfpRCE0DExmG8OEgWQLWy29iZUhZAZBTmbkj9F0BpbkvpTIwWQEAdQ4/CRxlAAAHFfcyJFEDrNMBL7p8aQIutpzEOqxhAkIiZQYd7FEDmw33IOxwTQL0kyzj8KBNAnItPqePAGEBy2lel3WgXQEArFLdbBhRA5fSfnigxGEA02C9ksngTQNjCJnkE9RVA2GUydFsQE0BXnPrnYKMVQD6HUeWcdxVAEXRzuBEUE0CXe+h+230TQNpXhEGj1BhAz5cEDiIfFkAvbN/OsaoWQPh0h7LJwhNAtpoy75o7HEAzX7+kEsITQA==",
          "dtype": "f8"
         }
        }
       ],
       "layout": {
        "geo": {
         "projection": {
          "type": "natural earth"
         },
         "showcoastlines": false,
         "showframe": false
        },
        "template": {
         "data": {
          "bar": [
           {
            "error_x": {
             "color": "#2a3f5f"
            },
            "error_y": {
             "color": "#2a3f5f"
            },
            "marker": {
             "line": {
              "color": "#E5ECF6",
              "width": 0.5
             },
             "pattern": {
              "fillmode": "overlay",
              "size": 10,
              "solidity": 0.2
             }
            },
            "type": "bar"
           }
          ],
          "barpolar": [
           {
            "marker": {
             "line": {
              "color": "#E5ECF6",
              "width": 0.5
             },
             "pattern": {
              "fillmode": "overlay",
              "size": 10,
              "solidity": 0.2
             }
            },
            "type": "barpolar"
           }
          ],
          "carpet": [
           {
            "aaxis": {
             "endlinecolor": "#2a3f5f",
             "gridcolor": "white",
             "linecolor": "white",
             "minorgridcolor": "white",
             "startlinecolor": "#2a3f5f"
            },
            "baxis": {
             "endlinecolor": "#2a3f5f",
             "gridcolor": "white",
             "linecolor": "white",
             "minorgridcolor": "white",
             "startlinecolor": "#2a3f5f"
            },
            "type": "carpet"
           }
          ],
          "choropleth": [
           {
            "colorbar": {
             "outlinewidth": 0,
             "ticks": ""
            },
            "type": "choropleth"
           }
          ],
          "contour": [
           {
            "colorbar": {
             "outlinewidth": 0,
             "ticks": ""
            },
            "colorscale": [
             [
              0,
              "#0d0887"
             ],
             [
              0.1111111111111111,
              "#46039f"
             ],
             [
              0.2222222222222222,
              "#7201a8"
             ],
             [
              0.3333333333333333,
              "#9c179e"
             ],
             [
              0.4444444444444444,
              "#bd3786"
             ],
             [
              0.5555555555555556,
              "#d8576b"
             ],
             [
              0.6666666666666666,
              "#ed7953"
             ],
             [
              0.7777777777777778,
              "#fb9f3a"
             ],
             [
              0.8888888888888888,
              "#fdca26"
             ],
             [
              1,
              "#f0f921"
             ]
            ],
            "type": "contour"
           }
          ],
          "contourcarpet": [
           {
            "colorbar": {
             "outlinewidth": 0,
             "ticks": ""
            },
            "type": "contourcarpet"
           }
          ],
          "heatmap": [
           {
            "colorbar": {
             "outlinewidth": 0,
             "ticks": ""
            },
            "colorscale": [
             [
              0,
              "#0d0887"
             ],
             [
              0.1111111111111111,
              "#46039f"
             ],
             [
              0.2222222222222222,
              "#7201a8"
             ],
             [
              0.3333333333333333,
              "#9c179e"
             ],
             [
              0.4444444444444444,
              "#bd3786"
             ],
             [
              0.5555555555555556,
              "#d8576b"
             ],
             [
              0.6666666666666666,
              "#ed7953"
             ],
             [
              0.7777777777777778,
              "#fb9f3a"
             ],
             [
              0.8888888888888888,
              "#fdca26"
             ],
             [
              1,
              "#f0f921"
             ]
            ],
            "type": "heatmap"
           }
          ],
          "histogram": [
           {
            "marker": {
             "pattern": {
              "fillmode": "overlay",
              "size": 10,
              "solidity": 0.2
             }
            },
            "type": "histogram"
           }
          ],
          "histogram2d": [
           {
            "colorbar": {
             "outlinewidth": 0,
             "ticks": ""
            },
            "colorscale": [
             [
              0,
              "#0d0887"
             ],
             [
              0.1111111111111111,
              "#46039f"
             ],
             [
              0.2222222222222222,
              "#7201a8"
             ],
             [
              0.3333333333333333,
              "#9c179e"
             ],
             [
              0.4444444444444444,
              "#bd3786"
             ],
             [
              0.5555555555555556,
              "#d8576b"
             ],
             [
              0.6666666666666666,
              "#ed7953"
             ],
             [
              0.7777777777777778,
              "#fb9f3a"
             ],
             [
              0.8888888888888888,
              "#fdca26"
             ],
             [
              1,
              "#f0f921"
             ]
            ],
            "type": "histogram2d"
           }
          ],
          "histogram2dcontour": [
           {
            "colorbar": {
             "outlinewidth": 0,
             "ticks": ""
            },
            "colorscale": [
             [
              0,
              "#0d0887"
             ],
             [
              0.1111111111111111,
              "#46039f"
             ],
             [
              0.2222222222222222,
              "#7201a8"
             ],
             [
              0.3333333333333333,
              "#9c179e"
             ],
             [
              0.4444444444444444,
              "#bd3786"
             ],
             [
              0.5555555555555556,
              "#d8576b"
             ],
             [
              0.6666666666666666,
              "#ed7953"
             ],
             [
              0.7777777777777778,
              "#fb9f3a"
             ],
             [
              0.8888888888888888,
              "#fdca26"
             ],
             [
              1,
              "#f0f921"
             ]
            ],
            "type": "histogram2dcontour"
           }
          ],
          "mesh3d": [
           {
            "colorbar": {
             "outlinewidth": 0,
             "ticks": ""
            },
            "type": "mesh3d"
           }
          ],
          "parcoords": [
           {
            "line": {
             "colorbar": {
              "outlinewidth": 0,
              "ticks": ""
             }
            },
            "type": "parcoords"
           }
          ],
          "pie": [
           {
            "automargin": true,
            "type": "pie"
           }
          ],
          "scatter": [
           {
            "fillpattern": {
             "fillmode": "overlay",
             "size": 10,
             "solidity": 0.2
            },
            "type": "scatter"
           }
          ],
          "scatter3d": [
           {
            "line": {
             "colorbar": {
              "outlinewidth": 0,
              "ticks": ""
             }
            },
            "marker": {
             "colorbar": {
              "outlinewidth": 0,
              "ticks": ""
             }
            },
            "type": "scatter3d"
           }
          ],
          "scattercarpet": [
           {
            "marker": {
             "colorbar": {
              "outlinewidth": 0,
              "ticks": ""
             }
            },
            "type": "scattercarpet"
           }
          ],
          "scattergeo": [
           {
            "marker": {
             "colorbar": {
              "outlinewidth": 0,
              "ticks": ""
             }
            },
            "type": "scattergeo"
           }
          ],
          "scattergl": [
           {
            "marker": {
             "colorbar": {
              "outlinewidth": 0,
              "ticks": ""
             }
            },
            "type": "scattergl"
           }
          ],
          "scattermap": [
           {
            "marker": {
             "colorbar": {
              "outlinewidth": 0,
              "ticks": ""
             }
            },
            "type": "scattermap"
           }
          ],
          "scattermapbox": [
           {
            "marker": {
             "colorbar": {
              "outlinewidth": 0,
              "ticks": ""
             }
            },
            "type": "scattermapbox"
           }
          ],
          "scatterpolar": [
           {
            "marker": {
             "colorbar": {
              "outlinewidth": 0,
              "ticks": ""
             }
            },
            "type": "scatterpolar"
           }
          ],
          "scatterpolargl": [
           {
            "marker": {
             "colorbar": {
              "outlinewidth": 0,
              "ticks": ""
             }
            },
            "type": "scatterpolargl"
           }
          ],
          "scatterternary": [
           {
            "marker": {
             "colorbar": {
              "outlinewidth": 0,
              "ticks": ""
             }
            },
            "type": "scatterternary"
           }
          ],
          "surface": [
           {
            "colorbar": {
             "outlinewidth": 0,
             "ticks": ""
            },
            "colorscale": [
             [
              0,
              "#0d0887"
             ],
             [
              0.1111111111111111,
              "#46039f"
             ],
             [
              0.2222222222222222,
              "#7201a8"
             ],
             [
              0.3333333333333333,
              "#9c179e"
             ],
             [
              0.4444444444444444,
              "#bd3786"
             ],
             [
              0.5555555555555556,
              "#d8576b"
             ],
             [
              0.6666666666666666,
              "#ed7953"
             ],
             [
              0.7777777777777778,
              "#fb9f3a"
             ],
             [
              0.8888888888888888,
              "#fdca26"
             ],
             [
              1,
              "#f0f921"
             ]
            ],
            "type": "surface"
           }
          ],
          "table": [
           {
            "cells": {
             "fill": {
              "color": "#EBF0F8"
             },
             "line": {
              "color": "white"
             }
            },
            "header": {
             "fill": {
              "color": "#C8D4E3"
             },
             "line": {
              "color": "white"
             }
            },
            "type": "table"
           }
          ]
         },
         "layout": {
          "annotationdefaults": {
           "arrowcolor": "#2a3f5f",
           "arrowhead": 0,
           "arrowwidth": 1
          },
          "autotypenumbers": "strict",
          "coloraxis": {
           "colorbar": {
            "outlinewidth": 0,
            "ticks": ""
           }
          },
          "colorscale": {
           "diverging": [
            [
             0,
             "#8e0152"
            ],
            [
             0.1,
             "#c51b7d"
            ],
            [
             0.2,
             "#de77ae"
            ],
            [
             0.3,
             "#f1b6da"
            ],
            [
             0.4,
             "#fde0ef"
            ],
            [
             0.5,
             "#f7f7f7"
            ],
            [
             0.6,
             "#e6f5d0"
            ],
            [
             0.7,
             "#b8e186"
            ],
            [
             0.8,
             "#7fbc41"
            ],
            [
             0.9,
             "#4d9221"
            ],
            [
             1,
             "#276419"
            ]
           ],
           "sequential": [
            [
             0,
             "#0d0887"
            ],
            [
             0.1111111111111111,
             "#46039f"
            ],
            [
             0.2222222222222222,
             "#7201a8"
            ],
            [
             0.3333333333333333,
             "#9c179e"
            ],
            [
             0.4444444444444444,
             "#bd3786"
            ],
            [
             0.5555555555555556,
             "#d8576b"
            ],
            [
             0.6666666666666666,
             "#ed7953"
            ],
            [
             0.7777777777777778,
             "#fb9f3a"
            ],
            [
             0.8888888888888888,
             "#fdca26"
            ],
            [
             1,
             "#f0f921"
            ]
           ],
           "sequentialminus": [
            [
             0,
             "#0d0887"
            ],
            [
             0.1111111111111111,
             "#46039f"
            ],
            [
             0.2222222222222222,
             "#7201a8"
            ],
            [
             0.3333333333333333,
             "#9c179e"
            ],
            [
             0.4444444444444444,
             "#bd3786"
            ],
            [
             0.5555555555555556,
             "#d8576b"
            ],
            [
             0.6666666666666666,
             "#ed7953"
            ],
            [
             0.7777777777777778,
             "#fb9f3a"
            ],
            [
             0.8888888888888888,
             "#fdca26"
            ],
            [
             1,
             "#f0f921"
            ]
           ]
          },
          "colorway": [
           "#636efa",
           "#EF553B",
           "#00cc96",
           "#ab63fa",
           "#FFA15A",
           "#19d3f3",
           "#FF6692",
           "#B6E880",
           "#FF97FF",
           "#FECB52"
          ],
          "font": {
           "color": "#2a3f5f"
          },
          "geo": {
           "bgcolor": "white",
           "lakecolor": "white",
           "landcolor": "#E5ECF6",
           "showlakes": true,
           "showland": true,
           "subunitcolor": "white"
          },
          "hoverlabel": {
           "align": "left"
          },
          "hovermode": "closest",
          "mapbox": {
           "style": "light"
          },
          "paper_bgcolor": "white",
          "plot_bgcolor": "#E5ECF6",
          "polar": {
           "angularaxis": {
            "gridcolor": "white",
            "linecolor": "white",
            "ticks": ""
           },
           "bgcolor": "#E5ECF6",
           "radialaxis": {
            "gridcolor": "white",
            "linecolor": "white",
            "ticks": ""
           }
          },
          "scene": {
           "xaxis": {
            "backgroundcolor": "#E5ECF6",
            "gridcolor": "white",
            "gridwidth": 2,
            "linecolor": "white",
            "showbackground": true,
            "ticks": "",
            "zerolinecolor": "white"
           },
           "yaxis": {
            "backgroundcolor": "#E5ECF6",
            "gridcolor": "white",
            "gridwidth": 2,
            "linecolor": "white",
            "showbackground": true,
            "ticks": "",
            "zerolinecolor": "white"
           },
           "zaxis": {
            "backgroundcolor": "#E5ECF6",
            "gridcolor": "white",
            "gridwidth": 2,
            "linecolor": "white",
            "showbackground": true,
            "ticks": "",
            "zerolinecolor": "white"
           }
          },
          "shapedefaults": {
           "line": {
            "color": "#2a3f5f"
           }
          },
          "ternary": {
           "aaxis": {
            "gridcolor": "white",
            "linecolor": "white",
            "ticks": ""
           },
           "baxis": {
            "gridcolor": "white",
            "linecolor": "white",
            "ticks": ""
           },
           "bgcolor": "#E5ECF6",
           "caxis": {
            "gridcolor": "white",
            "linecolor": "white",
            "ticks": ""
           }
          },
          "title": {
           "x": 0.05
          },
          "xaxis": {
           "automargin": true,
           "gridcolor": "white",
           "linecolor": "white",
           "ticks": "",
           "title": {
            "standoff": 15
           },
           "zerolinecolor": "white",
           "zerolinewidth": 2
          },
          "yaxis": {
           "automargin": true,
           "gridcolor": "white",
           "linecolor": "white",
           "ticks": "",
           "title": {
            "standoff": 15
           },
           "zerolinecolor": "white",
           "zerolinewidth": 2
          }
         }
        },
        "title": {
         "font": {
          "size": 22
         },
         "text": "<b>Global Research Impact by Subject</b><br><i>Select a subject from the dropdown menu</i>"
        },
        "updatemenus": [
         {
          "active": 0,
          "buttons": [
           {
            "args": [
             {
              "visible": [
               true,
               false,
               false,
               false,
               false,
               false,
               false,
               false,
               false,
               false,
               false,
               false,
               false,
               false,
               false,
               false,
               false,
               false,
               false,
               false,
               false,
               false
              ]
             }
            ],
            "label": "AGRICULTURAL SCIENCES",
            "method": "update"
           },
           {
            "args": [
             {
              "visible": [
               false,
               true,
               false,
               false,
               false,
               false,
               false,
               false,
               false,
               false,
               false,
               false,
               false,
               false,
               false,
               false,
               false,
               false,
               false,
               false,
               false,
               false
              ]
             }
            ],
            "label": "BIOLOGY & BIOCHEMISTRY",
            "method": "update"
           },
           {
            "args": [
             {
              "visible": [
               false,
               false,
               true,
               false,
               false,
               false,
               false,
               false,
               false,
               false,
               false,
               false,
               false,
               false,
               false,
               false,
               false,
               false,
               false,
               false,
               false,
               false
              ]
             }
            ],
            "label": "CHEMISTRY",
            "method": "update"
           },
           {
            "args": [
             {
              "visible": [
               false,
               false,
               false,
               true,
               false,
               false,
               false,
               false,
               false,
               false,
               false,
               false,
               false,
               false,
               false,
               false,
               false,
               false,
               false,
               false,
               false,
               false
              ]
             }
            ],
            "label": "CLINICAL MEDICINE",
            "method": "update"
           },
           {
            "args": [
             {
              "visible": [
               false,
               false,
               false,
               false,
               true,
               false,
               false,
               false,
               false,
               false,
               false,
               false,
               false,
               false,
               false,
               false,
               false,
               false,
               false,
               false,
               false,
               false
              ]
             }
            ],
            "label": "COMPUTER SCIENCE",
            "method": "update"
           },
           {
            "args": [
             {
              "visible": [
               false,
               false,
               false,
               false,
               false,
               true,
               false,
               false,
               false,
               false,
               false,
               false,
               false,
               false,
               false,
               false,
               false,
               false,
               false,
               false,
               false,
               false
              ]
             }
            ],
            "label": "ECONOMICS & BUSINESS",
            "method": "update"
           },
           {
            "args": [
             {
              "visible": [
               false,
               false,
               false,
               false,
               false,
               false,
               true,
               false,
               false,
               false,
               false,
               false,
               false,
               false,
               false,
               false,
               false,
               false,
               false,
               false,
               false,
               false
              ]
             }
            ],
            "label": "ENGINEERING",
            "method": "update"
           },
           {
            "args": [
             {
              "visible": [
               false,
               false,
               false,
               false,
               false,
               false,
               false,
               true,
               false,
               false,
               false,
               false,
               false,
               false,
               false,
               false,
               false,
               false,
               false,
               false,
               false,
               false
              ]
             }
            ],
            "label": "ENVIRONMENT/ECOLOGY",
            "method": "update"
           },
           {
            "args": [
             {
              "visible": [
               false,
               false,
               false,
               false,
               false,
               false,
               false,
               false,
               true,
               false,
               false,
               false,
               false,
               false,
               false,
               false,
               false,
               false,
               false,
               false,
               false,
               false
              ]
             }
            ],
            "label": "GEOSCIENCES",
            "method": "update"
           },
           {
            "args": [
             {
              "visible": [
               false,
               false,
               false,
               false,
               false,
               false,
               false,
               false,
               false,
               true,
               false,
               false,
               false,
               false,
               false,
               false,
               false,
               false,
               false,
               false,
               false,
               false
              ]
             }
            ],
            "label": "IMMUNOLOGY",
            "method": "update"
           },
           {
            "args": [
             {
              "visible": [
               false,
               false,
               false,
               false,
               false,
               false,
               false,
               false,
               false,
               false,
               true,
               false,
               false,
               false,
               false,
               false,
               false,
               false,
               false,
               false,
               false,
               false
              ]
             }
            ],
            "label": "MATERIALS SCIENCE",
            "method": "update"
           },
           {
            "args": [
             {
              "visible": [
               false,
               false,
               false,
               false,
               false,
               false,
               false,
               false,
               false,
               false,
               false,
               true,
               false,
               false,
               false,
               false,
               false,
               false,
               false,
               false,
               false,
               false
              ]
             }
            ],
            "label": "MATHEMATICS",
            "method": "update"
           },
           {
            "args": [
             {
              "visible": [
               false,
               false,
               false,
               false,
               false,
               false,
               false,
               false,
               false,
               false,
               false,
               false,
               true,
               false,
               false,
               false,
               false,
               false,
               false,
               false,
               false,
               false
              ]
             }
            ],
            "label": "MICROBIOLOGY",
            "method": "update"
           },
           {
            "args": [
             {
              "visible": [
               false,
               false,
               false,
               false,
               false,
               false,
               false,
               false,
               false,
               false,
               false,
               false,
               false,
               true,
               false,
               false,
               false,
               false,
               false,
               false,
               false,
               false
              ]
             }
            ],
            "label": "MOLECULAR BIOLOGY & GENETICS",
            "method": "update"
           },
           {
            "args": [
             {
              "visible": [
               false,
               false,
               false,
               false,
               false,
               false,
               false,
               false,
               false,
               false,
               false,
               false,
               false,
               false,
               true,
               false,
               false,
               false,
               false,
               false,
               false,
               false
              ]
             }
            ],
            "label": "MULTIDISCIPLINARY",
            "method": "update"
           },
           {
            "args": [
             {
              "visible": [
               false,
               false,
               false,
               false,
               false,
               false,
               false,
               false,
               false,
               false,
               false,
               false,
               false,
               false,
               false,
               true,
               false,
               false,
               false,
               false,
               false,
               false
              ]
             }
            ],
            "label": "NEUROSCIENCE & BEHAVIOR",
            "method": "update"
           },
           {
            "args": [
             {
              "visible": [
               false,
               false,
               false,
               false,
               false,
               false,
               false,
               false,
               false,
               false,
               false,
               false,
               false,
               false,
               false,
               false,
               true,
               false,
               false,
               false,
               false,
               false
              ]
             }
            ],
            "label": "PHARMACOLOGY & TOXICOLOGY",
            "method": "update"
           },
           {
            "args": [
             {
              "visible": [
               false,
               false,
               false,
               false,
               false,
               false,
               false,
               false,
               false,
               false,
               false,
               false,
               false,
               false,
               false,
               false,
               false,
               true,
               false,
               false,
               false,
               false
              ]
             }
            ],
            "label": "PHYSICS",
            "method": "update"
           },
           {
            "args": [
             {
              "visible": [
               false,
               false,
               false,
               false,
               false,
               false,
               false,
               false,
               false,
               false,
               false,
               false,
               false,
               false,
               false,
               false,
               false,
               false,
               true,
               false,
               false,
               false
              ]
             }
            ],
            "label": "PLANT & ANIMAL SCIENCE",
            "method": "update"
           },
           {
            "args": [
             {
              "visible": [
               false,
               false,
               false,
               false,
               false,
               false,
               false,
               false,
               false,
               false,
               false,
               false,
               false,
               false,
               false,
               false,
               false,
               false,
               false,
               true,
               false,
               false
              ]
             }
            ],
            "label": "PSYCHIATRY/PSYCHOLOGY",
            "method": "update"
           },
           {
            "args": [
             {
              "visible": [
               false,
               false,
               false,
               false,
               false,
               false,
               false,
               false,
               false,
               false,
               false,
               false,
               false,
               false,
               false,
               false,
               false,
               false,
               false,
               false,
               true,
               false
              ]
             }
            ],
            "label": "SOCIAL SCIENCES, GENERAL",
            "method": "update"
           },
           {
            "args": [
             {
              "visible": [
               false,
               false,
               false,
               false,
               false,
               false,
               false,
               false,
               false,
               false,
               false,
               false,
               false,
               false,
               false,
               false,
               false,
               false,
               false,
               false,
               false,
               true
              ]
             }
            ],
            "label": "SPACE SCIENCE",
            "method": "update"
           }
          ],
          "direction": "down",
          "pad": {
           "r": 50,
           "t": 50
          },
          "showactive": true,
          "x": 0.1,
          "xanchor": "left",
          "y": 1.15,
          "yanchor": "top"
         }
        ]
       }
      }
     },
     "metadata": {},
     "output_type": "display_data"
    }
   ],
   "source": [
    "import sqlite3\n",
    "import pandas as pd\n",
    "import plotly.graph_objects as go\n",
    "import pycountry\n",
    "import numpy as np\n",
    "\n",
    "def execute_query(db_path, query):\n",
    "    \"\"\"Executes a SQL query and returns the result as a pandas DataFrame.\"\"\"\n",
    "    try:\n",
    "        with sqlite3.connect(db_path) as conn:\n",
    "            df = pd.read_sql_query(query, conn)\n",
    "            return df\n",
    "    except Exception as e:\n",
    "        print(f\"An error occurred: {e}\")\n",
    "        return None\n",
    "\n",
    "def get_iso_alpha_3(country_name):\n",
    "    \"\"\"Converts a country name to its ISO 3166-1 alpha-3 code.\"\"\"\n",
    "    manual_map = {\n",
    "        'CHINA MAINLAND': 'CHN', 'USA': 'USA', 'ENGLAND': 'GBR',\n",
    "        'SCOTLAND': 'GBR', 'WALES': 'GBR', 'NORTH IRELAND': 'GBR',\n",
    "        'GERMANY (FED REP GER)': 'DEU', 'SOUTH KOREA': 'KOR',\n",
    "        'RUSSIA': 'RUS', 'IRAN': 'IRN'\n",
    "    }\n",
    "    if country_name in manual_map:\n",
    "        return manual_map[country_name]\n",
    "    try:\n",
    "        return pycountry.countries.search_fuzzy(country_name)[0].alpha_3\n",
    "    except (LookupError, AttributeError):\n",
    "        return None\n",
    "\n",
    "# --- 1. Fetch Granular Data by Subject ---\n",
    "database_file = 'esi_rankings.db'\n",
    "print(\"--- Step 1: Fetching detailed data by subject from database ---\")\n",
    "\n",
    "# This query gets the citation data for each country IN EACH subject, without aggregating yet\n",
    "subject_data_query = \"\"\"\n",
    "    SELECT\n",
    "      country_region,\n",
    "      research_field,\n",
    "      SUM(cites) AS total_cites -- Sum cites for all institutions in a country for a given field\n",
    "    FROM\n",
    "      esi_rankings\n",
    "    GROUP BY\n",
    "      country_region, research_field;\n",
    "\"\"\"\n",
    "df = execute_query(database_file, subject_data_query)\n",
    "\n",
    "if df is not None:\n",
    "    print(f\"Successfully fetched {len(df)} records across all subjects.\")\n",
    "\n",
    "    # --- 2. Clean and Prepare Data ---\n",
    "    print(\"\\n--- Step 2: Cleaning data and mapping to ISO codes ---\")\n",
    "    df.dropna(subset=['country_region', 'research_field'], inplace=True)\n",
    "    df['total_cites'] = pd.to_numeric(df['total_cites'], errors='coerce').fillna(0)\n",
    "    df['iso_alpha'] = df['country_region'].apply(get_iso_alpha_3)\n",
    "    \n",
    "    # Get a sorted list of unique subjects for the dropdown menu\n",
    "    subjects = sorted(df['research_field'].unique())\n",
    "    print(f\"Found {len(subjects)} unique subjects.\")\n",
    "\n",
    "    # --- 3. Create the Interactive Visualization ---\n",
    "    print(\"\\n--- Step 3: Building interactive map with dropdown menu ---\")\n",
    "    fig = go.Figure()\n",
    "\n",
    "    # Create one map layer (trace) for each subject\n",
    "    for subject in subjects:\n",
    "        # Filter the dataframe for the current subject\n",
    "        subject_df = df[df['research_field'] == subject]\n",
    "        \n",
    "        # Calculate the log of citations for the color scale\n",
    "        log_cites = np.log10(subject_df['total_cites'] + 1)\n",
    "\n",
    "        fig.add_trace(\n",
    "            go.Choropleth(\n",
    "                locations=subject_df['iso_alpha'],\n",
    "                z=log_cites, # The value that determines the color\n",
    "                text=subject_df['country_region'], # Text that appears on hover\n",
    "                customdata=subject_df['total_cites'], # Pass original cites for hover text\n",
    "                hovertemplate='<b>%{text}</b><br>Total Cites: %{customdata:,.0f}<extra></extra>',\n",
    "                colorscale='Plasma',\n",
    "                name=subject, # Name for the trace\n",
    "                visible=(subject == subjects[0]) # Make only the first subject visible initially\n",
    "            )\n",
    "        )\n",
    "\n",
    "    # --- 4. Create the Dropdown Menu ---\n",
    "    buttons = []\n",
    "    for i, subject in enumerate(subjects):\n",
    "        # Create a visibility mask. True for the current subject, False for all others.\n",
    "        visibility_mask = [False] * len(subjects)\n",
    "        visibility_mask[i] = True\n",
    "        \n",
    "        buttons.append(\n",
    "            dict(\n",
    "                label=subject,\n",
    "                method='update',\n",
    "                args=[{'visible': visibility_mask}]\n",
    "            )\n",
    "        )\n",
    "\n",
    "    # Update the layout of the figure with the dropdown menu and title\n",
    "    fig.update_layout(\n",
    "        title_text=f'<b>Global Research Impact by Subject</b><br><i>Select a subject from the dropdown menu</i>',\n",
    "        title_font_size=22,\n",
    "        updatemenus=[\n",
    "            dict(\n",
    "                active=0,\n",
    "                buttons=buttons,\n",
    "                direction=\"down\",\n",
    "                pad={\"r\": 50, \"t\": 50},\n",
    "                showactive=True,\n",
    "                x=0.1,\n",
    "                xanchor=\"left\",\n",
    "                y=1.15,\n",
    "                yanchor=\"top\"\n",
    "            )\n",
    "        ],\n",
    "        geo=dict(\n",
    "            showframe=False,\n",
    "            showcoastlines=False,\n",
    "            projection_type='natural earth'\n",
    "        )\n",
    "    )\n",
    "\n",
    "    fig.show()\n",
    "\n",
    "else:\n",
    "    print(\"Failed to fetch data from the database.\")"
   ]
  }
 ],
 "metadata": {
  "kernelspec": {
   "display_name": "base",
   "language": "python",
   "name": "python3"
  },
  "language_info": {
   "codemirror_mode": {
    "name": "ipython",
    "version": 3
   },
   "file_extension": ".py",
   "mimetype": "text/x-python",
   "name": "python",
   "nbconvert_exporter": "python",
   "pygments_lexer": "ipython3",
   "version": "3.12.11"
  }
 },
 "nbformat": 4,
 "nbformat_minor": 5
}
